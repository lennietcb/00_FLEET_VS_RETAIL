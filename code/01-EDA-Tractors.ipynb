{
 "cells": [
  {
   "cell_type": "markdown",
   "metadata": {},
   "source": [
    "# Tractors Data Exploratory Data Analysis Notebook\n",
    "<hr/>"
   ]
  },
  {
   "cell_type": "markdown",
   "metadata": {},
   "source": [
    "## Setup Environment\n",
    "<hr />"
   ]
  },
  {
   "cell_type": "markdown",
   "metadata": {},
   "source": [
    "### Load Libraries"
   ]
  },
  {
   "cell_type": "code",
   "execution_count": 1,
   "metadata": {},
   "outputs": [],
   "source": [
    "import numpy as np\n",
    "import pandas as pd\n",
    "%matplotlib inline\n",
    "import seaborn as sns\n",
    "import matplotlib.pyplot as plt\n",
    "from sklearn import preprocessing\n",
    "from sklearn.preprocessing import StandardScaler\n",
    "from sklearn.decomposition import PCA\n",
    "from sklearn.preprocessing import PowerTransformer\n",
    "from sklearn.preprocessing import QuantileTransformer\n",
    "from sklearn.model_selection import train_test_split\n",
    "from sklearn.linear_model import LinearRegression\n",
    "from sklearn.feature_selection import RFE\n",
    "from sklearn.linear_model import RidgeCV, LassoCV, Ridge, Lasso\n",
    "\n",
    "import statsmodels.api as sm\n",
    "import scipy.stats as stats\n",
    "from datetime import datetime\n",
    "import pylab\n",
    "import math"
   ]
  },
  {
   "cell_type": "markdown",
   "metadata": {},
   "source": [
    "### Load Data"
   ]
  },
  {
   "cell_type": "code",
   "execution_count": 2,
   "metadata": {},
   "outputs": [
    {
     "name": "stdout",
     "output_type": "stream",
     "text": [
      "(23809, 110)\n"
     ]
    }
   ],
   "source": [
    "df = pd.read_pickle('../../data/df_main_tractor.pickle')\n",
    "print(df.shape)\n",
    "#(23815, 109) - before removing proceeds > cost rows\n",
    "# (23811, 109) - before adding a new column (EPA tech Year) and iunstead of using \n",
    "#               vehicle_specification_dim, we are using v_vehicle_specification_dim. "
   ]
  },
  {
   "cell_type": "code",
   "execution_count": 3,
   "metadata": {},
   "outputs": [
    {
     "data": {
      "text/plain": [
       "array(['RTS U.S.'], dtype=object)"
      ]
     },
     "execution_count": 3,
     "metadata": {},
     "output_type": "execute_result"
    }
   ],
   "source": [
    "# Verify we are only dealing with US data\n",
    "df['company'].unique()"
   ]
  },
  {
   "cell_type": "markdown",
   "metadata": {},
   "source": [
    "## Data Exploration\n",
    "<hr />"
   ]
  },
  {
   "cell_type": "code",
   "execution_count": 4,
   "metadata": {},
   "outputs": [
    {
     "name": "stdout",
     "output_type": "stream",
     "text": [
      "<class 'pandas.core.frame.DataFrame'>\n",
      "Int64Index: 23809 entries, 1 to 58844\n",
      "Columns: 110 entries, vehicle_corrected_age to epa_tech_year\n",
      "dtypes: float64(33), int64(30), object(47)\n",
      "memory usage: 20.2+ MB\n"
     ]
    }
   ],
   "source": [
    "df.info()"
   ]
  },
  {
   "cell_type": "markdown",
   "metadata": {},
   "source": [
    "### Remove Columns not needed"
   ]
  },
  {
   "cell_type": "code",
   "execution_count": 5,
   "metadata": {},
   "outputs": [],
   "source": [
    "## Net Vehicle Investment is Cost, rename\n",
    "## Drop Actual_Cost\n",
    "## Vehicle Specifications vs Proceed\n",
    "excl_col_list = ['current_fair_market_value','country_code','company','ride_vehicle_type_desc','purchase_type',\n",
    "                'age_sale_grp', 'actual_cost','proj_book_life', 'num','odometer_reading_qn','averagemilespermonth', \n",
    "                 'class', 'curr_pol_slv', 'depreciation_book_life', 'depreciation_monthly_holding', 'equivalent_unit',\n",
    "                 'last_depreciation_dt', 'last_revenue_dt', 'mile_desc', 'mile_grp', 'mile_year_amt', 'pol_life', \n",
    "                 'proj_book_life', 'projected_mileage', 'ride_vehicle_group_desc', 'salvage_amt', \n",
    "                 'sam_summary_class_desc', 'sold_dt', 'veh_domicle_location_desc', 'veh_frst_rev_dt', 'vehicle_grp', \n",
    "                 'vehicle_new_flg', 'vehicle_num', 'vehicle_type_cd', 'vehicle_type_desc','engine_manufacturer_desc',\n",
    "                 'engine_model_desc','model_manufacturer_cd', 'model_manufacturer_desc','vehicle_manufacturer_desc', \n",
    "                 'vehicle_sam_class_desc','vehicle_gvw_class_desc','vehicle_serial_nbr','cond_code']\n",
    "\n",
    "\n",
    "\n",
    "\n",
    "for col in excl_col_list:\n",
    "    if col in df.columns:\n",
    "        del df[col]"
   ]
  },
  {
   "cell_type": "code",
   "execution_count": 6,
   "metadata": {},
   "outputs": [
    {
     "name": "stdout",
     "output_type": "stream",
     "text": [
      "(23809, 67)\n"
     ]
    },
    {
     "data": {
      "text/html": [
       "<div>\n",
       "<style scoped>\n",
       "    .dataframe tbody tr th:only-of-type {\n",
       "        vertical-align: middle;\n",
       "    }\n",
       "\n",
       "    .dataframe tbody tr th {\n",
       "        vertical-align: top;\n",
       "    }\n",
       "\n",
       "    .dataframe thead th {\n",
       "        text-align: right;\n",
       "    }\n",
       "</style>\n",
       "<table border=\"1\" class=\"dataframe\">\n",
       "  <thead>\n",
       "    <tr style=\"text-align: right;\">\n",
       "      <th></th>\n",
       "      <th>count</th>\n",
       "      <th>mean</th>\n",
       "      <th>std</th>\n",
       "      <th>min</th>\n",
       "      <th>25%</th>\n",
       "      <th>50%</th>\n",
       "      <th>75%</th>\n",
       "      <th>max</th>\n",
       "    </tr>\n",
       "  </thead>\n",
       "  <tbody>\n",
       "    <tr>\n",
       "      <th>vehicle_corrected_age</th>\n",
       "      <td>23809.000000</td>\n",
       "      <td>92.511697</td>\n",
       "      <td>27.803360</td>\n",
       "      <td>1.000000</td>\n",
       "      <td>82.000000</td>\n",
       "      <td>94.000000</td>\n",
       "      <td>108.000000</td>\n",
       "      <td>248.000000</td>\n",
       "    </tr>\n",
       "    <tr>\n",
       "      <th>odometer_rdr_corrected</th>\n",
       "      <td>5485.000000</td>\n",
       "      <td>542695.391978</td>\n",
       "      <td>189078.808389</td>\n",
       "      <td>323.000000</td>\n",
       "      <td>428549.000000</td>\n",
       "      <td>566508.000000</td>\n",
       "      <td>679514.000000</td>\n",
       "      <td>1149688.000000</td>\n",
       "    </tr>\n",
       "    <tr>\n",
       "      <th>accumulated_depreciation_amt</th>\n",
       "      <td>23809.000000</td>\n",
       "      <td>56906.813369</td>\n",
       "      <td>12120.887513</td>\n",
       "      <td>19546.000000</td>\n",
       "      <td>48391.000000</td>\n",
       "      <td>55085.000000</td>\n",
       "      <td>63896.000000</td>\n",
       "      <td>149900.000000</td>\n",
       "    </tr>\n",
       "    <tr>\n",
       "      <th>book_value_amt</th>\n",
       "      <td>23809.000000</td>\n",
       "      <td>23214.518879</td>\n",
       "      <td>9879.865627</td>\n",
       "      <td>0.000000</td>\n",
       "      <td>16348.000000</td>\n",
       "      <td>21591.000000</td>\n",
       "      <td>28604.000000</td>\n",
       "      <td>128925.000000</td>\n",
       "    </tr>\n",
       "    <tr>\n",
       "      <th>projected_book_life</th>\n",
       "      <td>7.000000</td>\n",
       "      <td>4.714286</td>\n",
       "      <td>3.988077</td>\n",
       "      <td>1.000000</td>\n",
       "      <td>2.000000</td>\n",
       "      <td>4.000000</td>\n",
       "      <td>6.000000</td>\n",
       "      <td>12.000000</td>\n",
       "    </tr>\n",
       "    <tr>\n",
       "      <th>proj_fair_market_value_amt</th>\n",
       "      <td>0.000000</td>\n",
       "      <td>nan</td>\n",
       "      <td>nan</td>\n",
       "      <td>nan</td>\n",
       "      <td>nan</td>\n",
       "      <td>nan</td>\n",
       "      <td>nan</td>\n",
       "      <td>nan</td>\n",
       "    </tr>\n",
       "    <tr>\n",
       "      <th>proj_book_value_amt</th>\n",
       "      <td>23809.000000</td>\n",
       "      <td>23215.306817</td>\n",
       "      <td>9879.768899</td>\n",
       "      <td>1.000000</td>\n",
       "      <td>16349.000000</td>\n",
       "      <td>21591.000000</td>\n",
       "      <td>28605.000000</td>\n",
       "      <td>128926.000000</td>\n",
       "    </tr>\n",
       "    <tr>\n",
       "      <th>fleet_category</th>\n",
       "      <td>0.000000</td>\n",
       "      <td>nan</td>\n",
       "      <td>nan</td>\n",
       "      <td>nan</td>\n",
       "      <td>nan</td>\n",
       "      <td>nan</td>\n",
       "      <td>nan</td>\n",
       "      <td>nan</td>\n",
       "    </tr>\n",
       "    <tr>\n",
       "      <th>miles_billed_nbr</th>\n",
       "      <td>2443.000000</td>\n",
       "      <td>44.904625</td>\n",
       "      <td>999.025001</td>\n",
       "      <td>-25000.000000</td>\n",
       "      <td>0.000000</td>\n",
       "      <td>0.000000</td>\n",
       "      <td>0.000000</td>\n",
       "      <td>22496.000000</td>\n",
       "    </tr>\n",
       "    <tr>\n",
       "      <th>utilization_perc</th>\n",
       "      <td>0.000000</td>\n",
       "      <td>nan</td>\n",
       "      <td>nan</td>\n",
       "      <td>nan</td>\n",
       "      <td>nan</td>\n",
       "      <td>nan</td>\n",
       "      <td>nan</td>\n",
       "      <td>nan</td>\n",
       "    </tr>\n",
       "    <tr>\n",
       "      <th>vehicle_sam_class_cd</th>\n",
       "      <td>23809.000000</td>\n",
       "      <td>146.901970</td>\n",
       "      <td>15.429869</td>\n",
       "      <td>130.000000</td>\n",
       "      <td>140.000000</td>\n",
       "      <td>140.000000</td>\n",
       "      <td>170.000000</td>\n",
       "      <td>170.000000</td>\n",
       "    </tr>\n",
       "    <tr>\n",
       "      <th>sam_summary_class_cd</th>\n",
       "      <td>23809.000000</td>\n",
       "      <td>323.038767</td>\n",
       "      <td>4.599397</td>\n",
       "      <td>320.000000</td>\n",
       "      <td>320.000000</td>\n",
       "      <td>320.000000</td>\n",
       "      <td>330.000000</td>\n",
       "      <td>330.000000</td>\n",
       "    </tr>\n",
       "    <tr>\n",
       "      <th>vehicle_purchase_flg</th>\n",
       "      <td>23809.000000</td>\n",
       "      <td>0.001596</td>\n",
       "      <td>0.039919</td>\n",
       "      <td>0.000000</td>\n",
       "      <td>0.000000</td>\n",
       "      <td>0.000000</td>\n",
       "      <td>0.000000</td>\n",
       "      <td>1.000000</td>\n",
       "    </tr>\n",
       "    <tr>\n",
       "      <th>salvage_value_amt</th>\n",
       "      <td>0.000000</td>\n",
       "      <td>nan</td>\n",
       "      <td>nan</td>\n",
       "      <td>nan</td>\n",
       "      <td>nan</td>\n",
       "      <td>nan</td>\n",
       "      <td>nan</td>\n",
       "      <td>nan</td>\n",
       "    </tr>\n",
       "    <tr>\n",
       "      <th>vehicle_est_engine_life</th>\n",
       "      <td>0.000000</td>\n",
       "      <td>nan</td>\n",
       "      <td>nan</td>\n",
       "      <td>nan</td>\n",
       "      <td>nan</td>\n",
       "      <td>nan</td>\n",
       "      <td>nan</td>\n",
       "      <td>nan</td>\n",
       "    </tr>\n",
       "    <tr>\n",
       "      <th>body_length</th>\n",
       "      <td>26.000000</td>\n",
       "      <td>14.769231</td>\n",
       "      <td>10.416555</td>\n",
       "      <td>0.000000</td>\n",
       "      <td>6.750000</td>\n",
       "      <td>15.000000</td>\n",
       "      <td>24.000000</td>\n",
       "      <td>29.000000</td>\n",
       "    </tr>\n",
       "    <tr>\n",
       "      <th>veh_domicle_location_cd</th>\n",
       "      <td>23809.000000</td>\n",
       "      <td>2748.438700</td>\n",
       "      <td>396.138296</td>\n",
       "      <td>1328.000000</td>\n",
       "      <td>2443.000000</td>\n",
       "      <td>2686.000000</td>\n",
       "      <td>3172.000000</td>\n",
       "      <td>3452.000000</td>\n",
       "    </tr>\n",
       "    <tr>\n",
       "      <th>depreciation_status</th>\n",
       "      <td>0.000000</td>\n",
       "      <td>nan</td>\n",
       "      <td>nan</td>\n",
       "      <td>nan</td>\n",
       "      <td>nan</td>\n",
       "      <td>nan</td>\n",
       "      <td>nan</td>\n",
       "      <td>nan</td>\n",
       "    </tr>\n",
       "    <tr>\n",
       "      <th>vehicle_disp_cond_cd</th>\n",
       "      <td>23711.000000</td>\n",
       "      <td>14.832778</td>\n",
       "      <td>12.208494</td>\n",
       "      <td>10.000000</td>\n",
       "      <td>10.000000</td>\n",
       "      <td>10.000000</td>\n",
       "      <td>10.000000</td>\n",
       "      <td>50.000000</td>\n",
       "    </tr>\n",
       "    <tr>\n",
       "      <th>days_to_outservice</th>\n",
       "      <td>23809.000000</td>\n",
       "      <td>64.751733</td>\n",
       "      <td>77.073081</td>\n",
       "      <td>0.000000</td>\n",
       "      <td>26.000000</td>\n",
       "      <td>50.000000</td>\n",
       "      <td>87.000000</td>\n",
       "      <td>5479.000000</td>\n",
       "    </tr>\n",
       "    <tr>\n",
       "      <th>vehicle_age</th>\n",
       "      <td>23809.000000</td>\n",
       "      <td>95.138183</td>\n",
       "      <td>21.642289</td>\n",
       "      <td>30.000000</td>\n",
       "      <td>83.000000</td>\n",
       "      <td>94.000000</td>\n",
       "      <td>108.000000</td>\n",
       "      <td>345.000000</td>\n",
       "    </tr>\n",
       "    <tr>\n",
       "      <th>vehicle_gvw_class_cd</th>\n",
       "      <td>23809.000000</td>\n",
       "      <td>7.982822</td>\n",
       "      <td>0.219968</td>\n",
       "      <td>1.000000</td>\n",
       "      <td>8.000000</td>\n",
       "      <td>8.000000</td>\n",
       "      <td>8.000000</td>\n",
       "      <td>8.000000</td>\n",
       "    </tr>\n",
       "    <tr>\n",
       "      <th>engine_brake_model_id</th>\n",
       "      <td>11412.000000</td>\n",
       "      <td>89590720.116719</td>\n",
       "      <td>99160344.026772</td>\n",
       "      <td>2798074.000000</td>\n",
       "      <td>64643154.000000</td>\n",
       "      <td>74835236.000000</td>\n",
       "      <td>74835236.000000</td>\n",
       "      <td>782094238.000000</td>\n",
       "    </tr>\n",
       "    <tr>\n",
       "      <th>drive_tire_size_cd</th>\n",
       "      <td>23772.000000</td>\n",
       "      <td>1034.230565</td>\n",
       "      <td>209.927369</td>\n",
       "      <td>123.000000</td>\n",
       "      <td>1102.000000</td>\n",
       "      <td>1102.000000</td>\n",
       "      <td>1102.000000</td>\n",
       "      <td>1446.000000</td>\n",
       "    </tr>\n",
       "    <tr>\n",
       "      <th>suspension_capacity</th>\n",
       "      <td>22680.000000</td>\n",
       "      <td>35857.310362</td>\n",
       "      <td>8045.982044</td>\n",
       "      <td>7200.000000</td>\n",
       "      <td>40000.000000</td>\n",
       "      <td>40000.000000</td>\n",
       "      <td>40000.000000</td>\n",
       "      <td>69000.000000</td>\n",
       "    </tr>\n",
       "    <tr>\n",
       "      <th>rear_axle_capacity</th>\n",
       "      <td>23789.000000</td>\n",
       "      <td>36239.230317</td>\n",
       "      <td>7186.547711</td>\n",
       "      <td>2300.000000</td>\n",
       "      <td>40000.000000</td>\n",
       "      <td>40000.000000</td>\n",
       "      <td>40000.000000</td>\n",
       "      <td>48000.000000</td>\n",
       "    </tr>\n",
       "    <tr>\n",
       "      <th>transmission_model_id</th>\n",
       "      <td>23796.000000</td>\n",
       "      <td>113970405.195621</td>\n",
       "      <td>136968711.890979</td>\n",
       "      <td>3242.000000</td>\n",
       "      <td>81315207.000000</td>\n",
       "      <td>95511377.000000</td>\n",
       "      <td>95511377.000000</td>\n",
       "      <td>909157839.000000</td>\n",
       "    </tr>\n",
       "    <tr>\n",
       "      <th>engine_model_id</th>\n",
       "      <td>23809.000000</td>\n",
       "      <td>222958817.733210</td>\n",
       "      <td>299577347.310941</td>\n",
       "      <td>1298.000000</td>\n",
       "      <td>38046204.000000</td>\n",
       "      <td>53520842.000000</td>\n",
       "      <td>333207318.000000</td>\n",
       "      <td>996415284.000000</td>\n",
       "    </tr>\n",
       "    <tr>\n",
       "      <th>engine_horsepower</th>\n",
       "      <td>23809.000000</td>\n",
       "      <td>426.968163</td>\n",
       "      <td>61.255247</td>\n",
       "      <td>145.000000</td>\n",
       "      <td>425.000000</td>\n",
       "      <td>450.000000</td>\n",
       "      <td>455.000000</td>\n",
       "      <td>600.000000</td>\n",
       "    </tr>\n",
       "    <tr>\n",
       "      <th>body_height_qn</th>\n",
       "      <td>20.000000</td>\n",
       "      <td>92.350000</td>\n",
       "      <td>11.979258</td>\n",
       "      <td>65.000000</td>\n",
       "      <td>85.000000</td>\n",
       "      <td>99.000000</td>\n",
       "      <td>99.000000</td>\n",
       "      <td>104.000000</td>\n",
       "    </tr>\n",
       "    <tr>\n",
       "      <th>body_length_qn</th>\n",
       "      <td>20.000000</td>\n",
       "      <td>17.900000</td>\n",
       "      <td>8.271066</td>\n",
       "      <td>6.000000</td>\n",
       "      <td>9.000000</td>\n",
       "      <td>16.000000</td>\n",
       "      <td>24.000000</td>\n",
       "      <td>29.000000</td>\n",
       "    </tr>\n",
       "    <tr>\n",
       "      <th>body_width_qn</th>\n",
       "      <td>20.000000</td>\n",
       "      <td>96.450000</td>\n",
       "      <td>8.828632</td>\n",
       "      <td>72.000000</td>\n",
       "      <td>96.000000</td>\n",
       "      <td>99.000000</td>\n",
       "      <td>102.000000</td>\n",
       "      <td>102.000000</td>\n",
       "    </tr>\n",
       "    <tr>\n",
       "      <th>transmission_speed_qn</th>\n",
       "      <td>23796.000000</td>\n",
       "      <td>9.829719</td>\n",
       "      <td>1.383601</td>\n",
       "      <td>3.000000</td>\n",
       "      <td>10.000000</td>\n",
       "      <td>10.000000</td>\n",
       "      <td>10.000000</td>\n",
       "      <td>18.000000</td>\n",
       "    </tr>\n",
       "    <tr>\n",
       "      <th>axle_total_count</th>\n",
       "      <td>23548.000000</td>\n",
       "      <td>2.760149</td>\n",
       "      <td>0.430073</td>\n",
       "      <td>1.000000</td>\n",
       "      <td>3.000000</td>\n",
       "      <td>3.000000</td>\n",
       "      <td>3.000000</td>\n",
       "      <td>4.000000</td>\n",
       "    </tr>\n",
       "    <tr>\n",
       "      <th>reefer_rev_hrs</th>\n",
       "      <td>0.000000</td>\n",
       "      <td>nan</td>\n",
       "      <td>nan</td>\n",
       "      <td>nan</td>\n",
       "      <td>nan</td>\n",
       "      <td>nan</td>\n",
       "      <td>nan</td>\n",
       "      <td>nan</td>\n",
       "    </tr>\n",
       "    <tr>\n",
       "      <th>reefer_model_id</th>\n",
       "      <td>0.000000</td>\n",
       "      <td>nan</td>\n",
       "      <td>nan</td>\n",
       "      <td>nan</td>\n",
       "      <td>nan</td>\n",
       "      <td>nan</td>\n",
       "      <td>nan</td>\n",
       "      <td>nan</td>\n",
       "    </tr>\n",
       "    <tr>\n",
       "      <th>year_month</th>\n",
       "      <td>23809.000000</td>\n",
       "      <td>201598.849007</td>\n",
       "      <td>171.898274</td>\n",
       "      <td>201311.000000</td>\n",
       "      <td>201410.000000</td>\n",
       "      <td>201604.000000</td>\n",
       "      <td>201710.000000</td>\n",
       "      <td>201907.000000</td>\n",
       "    </tr>\n",
       "    <tr>\n",
       "      <th>age_acpt</th>\n",
       "      <td>23809.000000</td>\n",
       "      <td>89.284430</td>\n",
       "      <td>22.151340</td>\n",
       "      <td>27.000000</td>\n",
       "      <td>76.000000</td>\n",
       "      <td>88.000000</td>\n",
       "      <td>102.000000</td>\n",
       "      <td>337.000000</td>\n",
       "    </tr>\n",
       "    <tr>\n",
       "      <th>cost</th>\n",
       "      <td>23809.000000</td>\n",
       "      <td>80121.838884</td>\n",
       "      <td>17487.133109</td>\n",
       "      <td>38922.000000</td>\n",
       "      <td>66593.000000</td>\n",
       "      <td>77170.000000</td>\n",
       "      <td>90655.000000</td>\n",
       "      <td>217909.000000</td>\n",
       "    </tr>\n",
       "    <tr>\n",
       "      <th>proceeds</th>\n",
       "      <td>23809.000000</td>\n",
       "      <td>26089.998782</td>\n",
       "      <td>9968.385356</td>\n",
       "      <td>600.000000</td>\n",
       "      <td>19495.000000</td>\n",
       "      <td>25600.000000</td>\n",
       "      <td>32500.000000</td>\n",
       "      <td>91750.000000</td>\n",
       "    </tr>\n",
       "    <tr>\n",
       "      <th>model_year</th>\n",
       "      <td>23809.000000</td>\n",
       "      <td>2008.734386</td>\n",
       "      <td>2.694269</td>\n",
       "      <td>1991.000000</td>\n",
       "      <td>2007.000000</td>\n",
       "      <td>2008.000000</td>\n",
       "      <td>2011.000000</td>\n",
       "      <td>2018.000000</td>\n",
       "    </tr>\n",
       "    <tr>\n",
       "      <th>book_value</th>\n",
       "      <td>23809.000000</td>\n",
       "      <td>23215.626036</td>\n",
       "      <td>9880.000719</td>\n",
       "      <td>0.120000</td>\n",
       "      <td>16348.230000</td>\n",
       "      <td>21595.230000</td>\n",
       "      <td>28608.820000</td>\n",
       "      <td>128925.520000</td>\n",
       "    </tr>\n",
       "    <tr>\n",
       "      <th>age_sale</th>\n",
       "      <td>23809.000000</td>\n",
       "      <td>94.294930</td>\n",
       "      <td>21.522021</td>\n",
       "      <td>30.000000</td>\n",
       "      <td>82.000000</td>\n",
       "      <td>93.000000</td>\n",
       "      <td>107.000000</td>\n",
       "      <td>339.000000</td>\n",
       "    </tr>\n",
       "    <tr>\n",
       "      <th>odomoter_sale</th>\n",
       "      <td>23809.000000</td>\n",
       "      <td>473906.644756</td>\n",
       "      <td>195761.673388</td>\n",
       "      <td>1.000000</td>\n",
       "      <td>336958.000000</td>\n",
       "      <td>492770.000000</td>\n",
       "      <td>619755.000000</td>\n",
       "      <td>1179701.000000</td>\n",
       "    </tr>\n",
       "  </tbody>\n",
       "</table>\n",
       "</div>"
      ],
      "text/plain": [
       "                                    count             mean              std  \\\n",
       "vehicle_corrected_age        23809.000000        92.511697        27.803360   \n",
       "odometer_rdr_corrected        5485.000000    542695.391978    189078.808389   \n",
       "accumulated_depreciation_amt 23809.000000     56906.813369     12120.887513   \n",
       "book_value_amt               23809.000000     23214.518879      9879.865627   \n",
       "projected_book_life              7.000000         4.714286         3.988077   \n",
       "proj_fair_market_value_amt       0.000000              nan              nan   \n",
       "proj_book_value_amt          23809.000000     23215.306817      9879.768899   \n",
       "fleet_category                   0.000000              nan              nan   \n",
       "miles_billed_nbr              2443.000000        44.904625       999.025001   \n",
       "utilization_perc                 0.000000              nan              nan   \n",
       "vehicle_sam_class_cd         23809.000000       146.901970        15.429869   \n",
       "sam_summary_class_cd         23809.000000       323.038767         4.599397   \n",
       "vehicle_purchase_flg         23809.000000         0.001596         0.039919   \n",
       "salvage_value_amt                0.000000              nan              nan   \n",
       "vehicle_est_engine_life          0.000000              nan              nan   \n",
       "body_length                     26.000000        14.769231        10.416555   \n",
       "veh_domicle_location_cd      23809.000000      2748.438700       396.138296   \n",
       "depreciation_status              0.000000              nan              nan   \n",
       "vehicle_disp_cond_cd         23711.000000        14.832778        12.208494   \n",
       "days_to_outservice           23809.000000        64.751733        77.073081   \n",
       "vehicle_age                  23809.000000        95.138183        21.642289   \n",
       "vehicle_gvw_class_cd         23809.000000         7.982822         0.219968   \n",
       "engine_brake_model_id        11412.000000  89590720.116719  99160344.026772   \n",
       "drive_tire_size_cd           23772.000000      1034.230565       209.927369   \n",
       "suspension_capacity          22680.000000     35857.310362      8045.982044   \n",
       "rear_axle_capacity           23789.000000     36239.230317      7186.547711   \n",
       "transmission_model_id        23796.000000 113970405.195621 136968711.890979   \n",
       "engine_model_id              23809.000000 222958817.733210 299577347.310941   \n",
       "engine_horsepower            23809.000000       426.968163        61.255247   \n",
       "body_height_qn                  20.000000        92.350000        11.979258   \n",
       "body_length_qn                  20.000000        17.900000         8.271066   \n",
       "body_width_qn                   20.000000        96.450000         8.828632   \n",
       "transmission_speed_qn        23796.000000         9.829719         1.383601   \n",
       "axle_total_count             23548.000000         2.760149         0.430073   \n",
       "reefer_rev_hrs                   0.000000              nan              nan   \n",
       "reefer_model_id                  0.000000              nan              nan   \n",
       "year_month                   23809.000000    201598.849007       171.898274   \n",
       "age_acpt                     23809.000000        89.284430        22.151340   \n",
       "cost                         23809.000000     80121.838884     17487.133109   \n",
       "proceeds                     23809.000000     26089.998782      9968.385356   \n",
       "model_year                   23809.000000      2008.734386         2.694269   \n",
       "book_value                   23809.000000     23215.626036      9880.000719   \n",
       "age_sale                     23809.000000        94.294930        21.522021   \n",
       "odomoter_sale                23809.000000    473906.644756    195761.673388   \n",
       "\n",
       "                                        min             25%             50%  \\\n",
       "vehicle_corrected_age              1.000000       82.000000       94.000000   \n",
       "odometer_rdr_corrected           323.000000   428549.000000   566508.000000   \n",
       "accumulated_depreciation_amt   19546.000000    48391.000000    55085.000000   \n",
       "book_value_amt                     0.000000    16348.000000    21591.000000   \n",
       "projected_book_life                1.000000        2.000000        4.000000   \n",
       "proj_fair_market_value_amt              nan             nan             nan   \n",
       "proj_book_value_amt                1.000000    16349.000000    21591.000000   \n",
       "fleet_category                          nan             nan             nan   \n",
       "miles_billed_nbr              -25000.000000        0.000000        0.000000   \n",
       "utilization_perc                        nan             nan             nan   \n",
       "vehicle_sam_class_cd             130.000000      140.000000      140.000000   \n",
       "sam_summary_class_cd             320.000000      320.000000      320.000000   \n",
       "vehicle_purchase_flg               0.000000        0.000000        0.000000   \n",
       "salvage_value_amt                       nan             nan             nan   \n",
       "vehicle_est_engine_life                 nan             nan             nan   \n",
       "body_length                        0.000000        6.750000       15.000000   \n",
       "veh_domicle_location_cd         1328.000000     2443.000000     2686.000000   \n",
       "depreciation_status                     nan             nan             nan   \n",
       "vehicle_disp_cond_cd              10.000000       10.000000       10.000000   \n",
       "days_to_outservice                 0.000000       26.000000       50.000000   \n",
       "vehicle_age                       30.000000       83.000000       94.000000   \n",
       "vehicle_gvw_class_cd               1.000000        8.000000        8.000000   \n",
       "engine_brake_model_id        2798074.000000 64643154.000000 74835236.000000   \n",
       "drive_tire_size_cd               123.000000     1102.000000     1102.000000   \n",
       "suspension_capacity             7200.000000    40000.000000    40000.000000   \n",
       "rear_axle_capacity              2300.000000    40000.000000    40000.000000   \n",
       "transmission_model_id           3242.000000 81315207.000000 95511377.000000   \n",
       "engine_model_id                 1298.000000 38046204.000000 53520842.000000   \n",
       "engine_horsepower                145.000000      425.000000      450.000000   \n",
       "body_height_qn                    65.000000       85.000000       99.000000   \n",
       "body_length_qn                     6.000000        9.000000       16.000000   \n",
       "body_width_qn                     72.000000       96.000000       99.000000   \n",
       "transmission_speed_qn              3.000000       10.000000       10.000000   \n",
       "axle_total_count                   1.000000        3.000000        3.000000   \n",
       "reefer_rev_hrs                          nan             nan             nan   \n",
       "reefer_model_id                         nan             nan             nan   \n",
       "year_month                    201311.000000   201410.000000   201604.000000   \n",
       "age_acpt                          27.000000       76.000000       88.000000   \n",
       "cost                           38922.000000    66593.000000    77170.000000   \n",
       "proceeds                         600.000000    19495.000000    25600.000000   \n",
       "model_year                      1991.000000     2007.000000     2008.000000   \n",
       "book_value                         0.120000    16348.230000    21595.230000   \n",
       "age_sale                          30.000000       82.000000       93.000000   \n",
       "odomoter_sale                      1.000000   336958.000000   492770.000000   \n",
       "\n",
       "                                          75%              max  \n",
       "vehicle_corrected_age              108.000000       248.000000  \n",
       "odometer_rdr_corrected          679514.000000   1149688.000000  \n",
       "accumulated_depreciation_amt     63896.000000    149900.000000  \n",
       "book_value_amt                   28604.000000    128925.000000  \n",
       "projected_book_life                  6.000000        12.000000  \n",
       "proj_fair_market_value_amt                nan              nan  \n",
       "proj_book_value_amt              28605.000000    128926.000000  \n",
       "fleet_category                            nan              nan  \n",
       "miles_billed_nbr                     0.000000     22496.000000  \n",
       "utilization_perc                          nan              nan  \n",
       "vehicle_sam_class_cd               170.000000       170.000000  \n",
       "sam_summary_class_cd               330.000000       330.000000  \n",
       "vehicle_purchase_flg                 0.000000         1.000000  \n",
       "salvage_value_amt                         nan              nan  \n",
       "vehicle_est_engine_life                   nan              nan  \n",
       "body_length                         24.000000        29.000000  \n",
       "veh_domicle_location_cd           3172.000000      3452.000000  \n",
       "depreciation_status                       nan              nan  \n",
       "vehicle_disp_cond_cd                10.000000        50.000000  \n",
       "days_to_outservice                  87.000000      5479.000000  \n",
       "vehicle_age                        108.000000       345.000000  \n",
       "vehicle_gvw_class_cd                 8.000000         8.000000  \n",
       "engine_brake_model_id         74835236.000000 782094238.000000  \n",
       "drive_tire_size_cd                1102.000000      1446.000000  \n",
       "suspension_capacity              40000.000000     69000.000000  \n",
       "rear_axle_capacity               40000.000000     48000.000000  \n",
       "transmission_model_id         95511377.000000 909157839.000000  \n",
       "engine_model_id              333207318.000000 996415284.000000  \n",
       "engine_horsepower                  455.000000       600.000000  \n",
       "body_height_qn                      99.000000       104.000000  \n",
       "body_length_qn                      24.000000        29.000000  \n",
       "body_width_qn                      102.000000       102.000000  \n",
       "transmission_speed_qn               10.000000        18.000000  \n",
       "axle_total_count                     3.000000         4.000000  \n",
       "reefer_rev_hrs                            nan              nan  \n",
       "reefer_model_id                           nan              nan  \n",
       "year_month                      201710.000000    201907.000000  \n",
       "age_acpt                           102.000000       337.000000  \n",
       "cost                             90655.000000    217909.000000  \n",
       "proceeds                         32500.000000     91750.000000  \n",
       "model_year                        2011.000000      2018.000000  \n",
       "book_value                       28608.820000    128925.520000  \n",
       "age_sale                           107.000000       339.000000  \n",
       "odomoter_sale                   619755.000000   1179701.000000  "
      ]
     },
     "execution_count": 6,
     "metadata": {},
     "output_type": "execute_result"
    }
   ],
   "source": [
    "pd.set_option('display.float_format', lambda x: '%.6f' % x) # To Disable Scientific notation\n",
    "print(df.shape)\n",
    "df.describe().transpose()"
   ]
  },
  {
   "cell_type": "markdown",
   "metadata": {},
   "source": [
    "**Notes:**\n",
    "- FMV derived logic from 1996. \n",
    "- For this project, we are removing it.\n",
    "\n",
    "- Actual Cost is the \"cost to sell the vehicle\". \n",
    "- So we use Cost for the \"cost of the vehicle when purchased\" renamed in this project to \"NetVehicleInvestment\"\n",
    "- We can drop odometer_reading_qn since it's very similar to odomoter_sale"
   ]
  },
  {
   "cell_type": "markdown",
   "metadata": {},
   "source": [
    "### Rename Columns"
   ]
  },
  {
   "cell_type": "code",
   "execution_count": 7,
   "metadata": {},
   "outputs": [],
   "source": [
    "df = df.rename(columns={'cost':'net_vehicle_invest','year_month':'year_month_num'})"
   ]
  },
  {
   "cell_type": "code",
   "execution_count": 8,
   "metadata": {},
   "outputs": [
    {
     "data": {
      "text/plain": [
       "Index(['vehicle_corrected_age', 'odometer_rdr_corrected',\n",
       "       'accumulated_depreciation_amt', 'book_value_amt', 'projected_book_life',\n",
       "       'proj_fair_market_value_amt', 'proj_book_value_amt', 'fleet_category',\n",
       "       'miles_billed_nbr', 'utilization_perc', 'vehicle_sam_class_cd',\n",
       "       'sam_summary_class_cd', 'vehicle_purchase_flg', 'vehicle_inservice_dt',\n",
       "       'lease_expiry_dt', 'salvage_value_amt', 'vehicle_est_engine_life',\n",
       "       'body_length', 'veh_domicle_location_cd', 'depreciation_status',\n",
       "       'vehicle_disp_cond_cd', 'vehicle_disp_cond_desc', 'days_to_outservice',\n",
       "       'vehicle_age', 'vehicle_gvw_class_cd', 'engine_brake_model_id',\n",
       "       'engine_brake_model_desc', 'drive_tire_size_cd', 'drive_tire_size_desc',\n",
       "       'suspension_type_cd', 'suspension_type_desc', 'suspension_capacity',\n",
       "       'rear_axle_capacity', 'transmission_manufacturer_cd',\n",
       "       'transmission_manufacturer_desc', 'transmission_model_id',\n",
       "       'transmission_model_desc', 'engine_manufacturer_cd', 'engine_model_id',\n",
       "       'engine_horsepower', 'body_height_qn', 'body_length_qn',\n",
       "       'body_width_qn', 'transmission_desc', 'transmission_speed_qn',\n",
       "       'axle_total_count', 'aux_power_model_desc', 'aux_power_manufacturer_cd',\n",
       "       'reefer_rev_hrs', 'reefer_manufacturer_cd', 'reefer_manufacturer_desc',\n",
       "       'reefer_model_id', 'reefer_model_desc', 'rear_door_type_cd',\n",
       "       'rear_door_type_desc', 'year_month_num', 'age_acpt',\n",
       "       'net_vehicle_invest', 'proceeds', 'model_year', 'model_mfg',\n",
       "       'book_value', 'sale_date', 'accpt_date', 'age_sale', 'odomoter_sale',\n",
       "       'epa_tech_year'],\n",
       "      dtype='object')"
      ]
     },
     "execution_count": 8,
     "metadata": {},
     "output_type": "execute_result"
    }
   ],
   "source": [
    "df.columns"
   ]
  },
  {
   "cell_type": "markdown",
   "metadata": {},
   "source": [
    "### Transform Data"
   ]
  },
  {
   "cell_type": "code",
   "execution_count": 9,
   "metadata": {},
   "outputs": [],
   "source": [
    "#Example: 2018-06-14 00:00:00.000000\n",
    "pd.options.mode.chained_assignment = None\n",
    "df[\"accpt_date_ts\"] = pd.to_datetime(df['accpt_date'],format='%Y-%m-%d 00:00:00.000000')\n",
    "df[\"year_month_ts\"] = pd.to_datetime(df['year_month_num'],format='%Y%m')\n",
    "df[\"sale_date_ts\"] = pd.to_datetime(df['sale_date'],format='%Y-%m-%d 00:00:00.000000')"
   ]
  },
  {
   "cell_type": "code",
   "execution_count": 10,
   "metadata": {},
   "outputs": [],
   "source": [
    "# We create non-datetime copys for models that don't need timestamp data\n",
    "#df[\"accpt_date\"].dtypes\n",
    "#df[\"sale_date\"].dtypes\n",
    "\n",
    "df['accpt_date_month'] = pd.DatetimeIndex(df['accpt_date']).month.astype(str)\n",
    "df['accpt_date_month'] = df['accpt_date_month'].apply(lambda x: x.zfill(2))\n",
    "df['sale_date_month'] = pd.DatetimeIndex(df['sale_date']).month.astype(str)\n",
    "df['sale_date_month'] = df['sale_date_month'].apply(lambda x: x.zfill(2))\n",
    "\n",
    "\n",
    "df['accpt_date_num'] = (pd.DatetimeIndex(df['accpt_date']).year.astype(str) + df['accpt_date_month']).astype(int)\n",
    "df['sale_date_num'] = (pd.DatetimeIndex(df['sale_date']).year.astype(str) + df['sale_date_month']).astype(int)\n",
    "#clean up\n",
    "del df['accpt_date_month']\n",
    "del df['sale_date_month']\n",
    "#Duplicate Columns\n",
    "del df['accpt_date']\n",
    "del df['sale_date']"
   ]
  },
  {
   "cell_type": "markdown",
   "metadata": {},
   "source": [
    "**Notes:**\n",
    "- When the vehicle is ready for sale, the `accpt_date` is logged when it arrives. \n"
   ]
  },
  {
   "cell_type": "code",
   "execution_count": 11,
   "metadata": {},
   "outputs": [
    {
     "data": {
      "text/html": [
       "<div>\n",
       "<style scoped>\n",
       "    .dataframe tbody tr th:only-of-type {\n",
       "        vertical-align: middle;\n",
       "    }\n",
       "\n",
       "    .dataframe tbody tr th {\n",
       "        vertical-align: top;\n",
       "    }\n",
       "\n",
       "    .dataframe thead th {\n",
       "        text-align: right;\n",
       "    }\n",
       "</style>\n",
       "<table border=\"1\" class=\"dataframe\">\n",
       "  <thead>\n",
       "    <tr style=\"text-align: right;\">\n",
       "      <th></th>\n",
       "      <th>vehicle_corrected_age</th>\n",
       "      <th>odometer_rdr_corrected</th>\n",
       "      <th>accumulated_depreciation_amt</th>\n",
       "      <th>book_value_amt</th>\n",
       "      <th>projected_book_life</th>\n",
       "      <th>proj_fair_market_value_amt</th>\n",
       "      <th>proj_book_value_amt</th>\n",
       "      <th>fleet_category</th>\n",
       "      <th>miles_billed_nbr</th>\n",
       "      <th>utilization_perc</th>\n",
       "      <th>...</th>\n",
       "      <th>model_mfg</th>\n",
       "      <th>book_value</th>\n",
       "      <th>age_sale</th>\n",
       "      <th>odomoter_sale</th>\n",
       "      <th>epa_tech_year</th>\n",
       "      <th>accpt_date_ts</th>\n",
       "      <th>year_month_ts</th>\n",
       "      <th>sale_date_ts</th>\n",
       "      <th>accpt_date_num</th>\n",
       "      <th>sale_date_num</th>\n",
       "    </tr>\n",
       "  </thead>\n",
       "  <tbody>\n",
       "    <tr>\n",
       "      <th>1</th>\n",
       "      <td>102</td>\n",
       "      <td>516222.000000</td>\n",
       "      <td>47657.000000</td>\n",
       "      <td>20839</td>\n",
       "      <td>nan</td>\n",
       "      <td>nan</td>\n",
       "      <td>20840</td>\n",
       "      <td>nan</td>\n",
       "      <td>nan</td>\n",
       "      <td>nan</td>\n",
       "      <td>...</td>\n",
       "      <td>STRL</td>\n",
       "      <td>20839.650000</td>\n",
       "      <td>100</td>\n",
       "      <td>345180</td>\n",
       "      <td>2004</td>\n",
       "      <td>2013-06-05</td>\n",
       "      <td>2014-01-01</td>\n",
       "      <td>2014-01-31</td>\n",
       "      <td>201306</td>\n",
       "      <td>201401</td>\n",
       "    </tr>\n",
       "    <tr>\n",
       "      <th>2</th>\n",
       "      <td>89</td>\n",
       "      <td>596375.000000</td>\n",
       "      <td>53383.000000</td>\n",
       "      <td>14437</td>\n",
       "      <td>nan</td>\n",
       "      <td>nan</td>\n",
       "      <td>14438</td>\n",
       "      <td>nan</td>\n",
       "      <td>nan</td>\n",
       "      <td>nan</td>\n",
       "      <td>...</td>\n",
       "      <td>FRTL</td>\n",
       "      <td>14437.680000</td>\n",
       "      <td>88</td>\n",
       "      <td>589129</td>\n",
       "      <td>2004</td>\n",
       "      <td>2014-03-05</td>\n",
       "      <td>2014-04-01</td>\n",
       "      <td>2014-04-17</td>\n",
       "      <td>201403</td>\n",
       "      <td>201404</td>\n",
       "    </tr>\n",
       "    <tr>\n",
       "      <th>5</th>\n",
       "      <td>89</td>\n",
       "      <td>826244.000000</td>\n",
       "      <td>57999.000000</td>\n",
       "      <td>14229</td>\n",
       "      <td>nan</td>\n",
       "      <td>nan</td>\n",
       "      <td>14230</td>\n",
       "      <td>nan</td>\n",
       "      <td>nan</td>\n",
       "      <td>nan</td>\n",
       "      <td>...</td>\n",
       "      <td>FRTL</td>\n",
       "      <td>14229.050000</td>\n",
       "      <td>88</td>\n",
       "      <td>818626</td>\n",
       "      <td>2004</td>\n",
       "      <td>2014-01-17</td>\n",
       "      <td>2014-01-01</td>\n",
       "      <td>2014-01-16</td>\n",
       "      <td>201401</td>\n",
       "      <td>201401</td>\n",
       "    </tr>\n",
       "    <tr>\n",
       "      <th>6</th>\n",
       "      <td>96</td>\n",
       "      <td>447885.000000</td>\n",
       "      <td>55818.000000</td>\n",
       "      <td>19438</td>\n",
       "      <td>nan</td>\n",
       "      <td>nan</td>\n",
       "      <td>19439</td>\n",
       "      <td>nan</td>\n",
       "      <td>nan</td>\n",
       "      <td>nan</td>\n",
       "      <td>...</td>\n",
       "      <td>FRTL</td>\n",
       "      <td>19438.630000</td>\n",
       "      <td>92</td>\n",
       "      <td>630302</td>\n",
       "      <td>2004</td>\n",
       "      <td>2014-01-16</td>\n",
       "      <td>2014-05-01</td>\n",
       "      <td>2014-05-16</td>\n",
       "      <td>201401</td>\n",
       "      <td>201405</td>\n",
       "    </tr>\n",
       "    <tr>\n",
       "      <th>10</th>\n",
       "      <td>81</td>\n",
       "      <td>nan</td>\n",
       "      <td>55153.000000</td>\n",
       "      <td>38052</td>\n",
       "      <td>nan</td>\n",
       "      <td>nan</td>\n",
       "      <td>38052</td>\n",
       "      <td>nan</td>\n",
       "      <td>nan</td>\n",
       "      <td>nan</td>\n",
       "      <td>...</td>\n",
       "      <td>FRTL</td>\n",
       "      <td>38052.430000</td>\n",
       "      <td>80</td>\n",
       "      <td>528325</td>\n",
       "      <td>2007</td>\n",
       "      <td>2015-07-24</td>\n",
       "      <td>2016-08-01</td>\n",
       "      <td>2016-08-12</td>\n",
       "      <td>201507</td>\n",
       "      <td>201608</td>\n",
       "    </tr>\n",
       "  </tbody>\n",
       "</table>\n",
       "<p>5 rows × 70 columns</p>\n",
       "</div>"
      ],
      "text/plain": [
       "    vehicle_corrected_age  odometer_rdr_corrected  \\\n",
       "1                     102           516222.000000   \n",
       "2                      89           596375.000000   \n",
       "5                      89           826244.000000   \n",
       "6                      96           447885.000000   \n",
       "10                     81                     nan   \n",
       "\n",
       "    accumulated_depreciation_amt  book_value_amt  projected_book_life  \\\n",
       "1                   47657.000000           20839                  nan   \n",
       "2                   53383.000000           14437                  nan   \n",
       "5                   57999.000000           14229                  nan   \n",
       "6                   55818.000000           19438                  nan   \n",
       "10                  55153.000000           38052                  nan   \n",
       "\n",
       "    proj_fair_market_value_amt  proj_book_value_amt  fleet_category  \\\n",
       "1                          nan                20840             nan   \n",
       "2                          nan                14438             nan   \n",
       "5                          nan                14230             nan   \n",
       "6                          nan                19439             nan   \n",
       "10                         nan                38052             nan   \n",
       "\n",
       "    miles_billed_nbr  utilization_perc  ...  model_mfg   book_value  age_sale  \\\n",
       "1                nan               nan  ...       STRL 20839.650000       100   \n",
       "2                nan               nan  ...       FRTL 14437.680000        88   \n",
       "5                nan               nan  ...       FRTL 14229.050000        88   \n",
       "6                nan               nan  ...       FRTL 19438.630000        92   \n",
       "10               nan               nan  ...       FRTL 38052.430000        80   \n",
       "\n",
       "   odomoter_sale epa_tech_year  accpt_date_ts  year_month_ts  sale_date_ts  \\\n",
       "1         345180          2004     2013-06-05     2014-01-01    2014-01-31   \n",
       "2         589129          2004     2014-03-05     2014-04-01    2014-04-17   \n",
       "5         818626          2004     2014-01-17     2014-01-01    2014-01-16   \n",
       "6         630302          2004     2014-01-16     2014-05-01    2014-05-16   \n",
       "10        528325          2007     2015-07-24     2016-08-01    2016-08-12   \n",
       "\n",
       "    accpt_date_num  sale_date_num  \n",
       "1           201306         201401  \n",
       "2           201403         201404  \n",
       "5           201401         201401  \n",
       "6           201401         201405  \n",
       "10          201507         201608  \n",
       "\n",
       "[5 rows x 70 columns]"
      ]
     },
     "execution_count": 11,
     "metadata": {},
     "output_type": "execute_result"
    }
   ],
   "source": [
    "df.head(5)"
   ]
  },
  {
   "cell_type": "markdown",
   "metadata": {},
   "source": [
    "### Verify Data Types"
   ]
  },
  {
   "cell_type": "code",
   "execution_count": 12,
   "metadata": {},
   "outputs": [
    {
     "data": {
      "text/plain": [
       "vehicle_corrected_age                    int64\n",
       "odometer_rdr_corrected                 float64\n",
       "accumulated_depreciation_amt           float64\n",
       "book_value_amt                           int64\n",
       "projected_book_life                    float64\n",
       "proj_fair_market_value_amt             float64\n",
       "proj_book_value_amt                      int64\n",
       "fleet_category                         float64\n",
       "miles_billed_nbr                       float64\n",
       "utilization_perc                       float64\n",
       "vehicle_sam_class_cd                     int64\n",
       "sam_summary_class_cd                     int64\n",
       "vehicle_purchase_flg                     int64\n",
       "vehicle_inservice_dt                    object\n",
       "lease_expiry_dt                         object\n",
       "salvage_value_amt                      float64\n",
       "vehicle_est_engine_life                float64\n",
       "body_length                            float64\n",
       "veh_domicle_location_cd                  int64\n",
       "depreciation_status                    float64\n",
       "vehicle_disp_cond_cd                   float64\n",
       "vehicle_disp_cond_desc                  object\n",
       "days_to_outservice                       int64\n",
       "vehicle_age                              int64\n",
       "vehicle_gvw_class_cd                     int64\n",
       "engine_brake_model_id                  float64\n",
       "engine_brake_model_desc                 object\n",
       "drive_tire_size_cd                     float64\n",
       "drive_tire_size_desc                    object\n",
       "suspension_type_cd                      object\n",
       "                                     ...      \n",
       "body_height_qn                         float64\n",
       "body_length_qn                         float64\n",
       "body_width_qn                          float64\n",
       "transmission_desc                       object\n",
       "transmission_speed_qn                  float64\n",
       "axle_total_count                       float64\n",
       "aux_power_model_desc                    object\n",
       "aux_power_manufacturer_cd               object\n",
       "reefer_rev_hrs                         float64\n",
       "reefer_manufacturer_cd                  object\n",
       "reefer_manufacturer_desc                object\n",
       "reefer_model_id                        float64\n",
       "reefer_model_desc                       object\n",
       "rear_door_type_cd                       object\n",
       "rear_door_type_desc                     object\n",
       "year_month_num                           int64\n",
       "age_acpt                                 int64\n",
       "net_vehicle_invest                       int64\n",
       "proceeds                                 int64\n",
       "model_year                               int64\n",
       "model_mfg                               object\n",
       "book_value                             float64\n",
       "age_sale                                 int64\n",
       "odomoter_sale                            int64\n",
       "epa_tech_year                           object\n",
       "accpt_date_ts                   datetime64[ns]\n",
       "year_month_ts                   datetime64[ns]\n",
       "sale_date_ts                    datetime64[ns]\n",
       "accpt_date_num                           int64\n",
       "sale_date_num                            int64\n",
       "Length: 70, dtype: object"
      ]
     },
     "execution_count": 12,
     "metadata": {},
     "output_type": "execute_result"
    }
   ],
   "source": [
    "df.dtypes"
   ]
  },
  {
   "cell_type": "markdown",
   "metadata": {},
   "source": [
    "**Notes:**\n",
    "- year_month is the date it was sold"
   ]
  },
  {
   "cell_type": "markdown",
   "metadata": {},
   "source": [
    "### Check for missing values"
   ]
  },
  {
   "cell_type": "code",
   "execution_count": 13,
   "metadata": {},
   "outputs": [
    {
     "name": "stdout",
     "output_type": "stream",
     "text": [
      "fleet_category                   100.000000\n",
      "reefer_rev_hrs                   100.000000\n",
      "reefer_model_id                  100.000000\n",
      "depreciation_status              100.000000\n",
      "reefer_manufacturer_desc         100.000000\n",
      "reefer_manufacturer_cd           100.000000\n",
      "proj_fair_market_value_amt       100.000000\n",
      "salvage_value_amt                100.000000\n",
      "reefer_model_desc                100.000000\n",
      "vehicle_est_engine_life          100.000000\n",
      "utilization_perc                 100.000000\n",
      "rear_door_type_desc               99.979000\n",
      "rear_door_type_cd                 99.979000\n",
      "projected_book_life               99.970599\n",
      "vehicle_inservice_dt              99.970599\n",
      "body_width_qn                     99.915998\n",
      "body_length_qn                    99.915998\n",
      "body_height_qn                    99.915998\n",
      "body_length                       99.890798\n",
      "aux_power_manufacturer_cd         93.628460\n",
      "aux_power_model_desc              93.628460\n",
      "miles_billed_nbr                  89.739174\n",
      "odometer_rdr_corrected            76.962493\n",
      "engine_brake_model_desc           52.068546\n",
      "engine_brake_model_id             52.068546\n",
      "suspension_capacity                4.741904\n",
      "suspension_type_desc               4.741904\n",
      "suspension_type_cd                 4.741904\n",
      "lease_expiry_dt                    4.082490\n",
      "axle_total_count                   1.096224\n",
      "vehicle_disp_cond_cd               0.411609\n",
      "vehicle_disp_cond_desc             0.411609\n",
      "drive_tire_size_cd                 0.155403\n",
      "drive_tire_size_desc               0.155403\n",
      "rear_axle_capacity                 0.084002\n",
      "transmission_desc                  0.054601\n",
      "transmission_speed_qn              0.054601\n",
      "transmission_manufacturer_desc     0.054601\n",
      "transmission_manufacturer_cd       0.054601\n",
      "transmission_model_id              0.054601\n",
      "transmission_model_desc            0.054601\n",
      "vehicle_purchase_flg               0.000000\n",
      "vehicle_sam_class_cd               0.000000\n",
      "proj_book_value_amt                0.000000\n",
      "book_value_amt                     0.000000\n",
      "veh_domicle_location_cd            0.000000\n",
      "accumulated_depreciation_amt       0.000000\n",
      "sam_summary_class_cd               0.000000\n",
      "sale_date_num                      0.000000\n",
      "days_to_outservice                 0.000000\n",
      "model_year                         0.000000\n",
      "sale_date_ts                       0.000000\n",
      "year_month_ts                      0.000000\n",
      "accpt_date_ts                      0.000000\n",
      "epa_tech_year                      0.000000\n",
      "odomoter_sale                      0.000000\n",
      "age_sale                           0.000000\n",
      "book_value                         0.000000\n",
      "model_mfg                          0.000000\n",
      "proceeds                           0.000000\n",
      "vehicle_age                        0.000000\n",
      "net_vehicle_invest                 0.000000\n",
      "age_acpt                           0.000000\n",
      "year_month_num                     0.000000\n",
      "engine_horsepower                  0.000000\n",
      "engine_model_id                    0.000000\n",
      "engine_manufacturer_cd             0.000000\n",
      "accpt_date_num                     0.000000\n",
      "vehicle_gvw_class_cd               0.000000\n",
      "vehicle_corrected_age              0.000000\n",
      "dtype: float64\n"
     ]
    }
   ],
   "source": [
    "with pd.option_context('display.max_rows', None, 'display.max_columns', None):  # more options can be specified also\n",
    "    #print(df.isnull().sum())\n",
    "    print((df.isnull().sum()/len(df)*100).sort_values(ascending=False))\n",
    "missing_values = df.columns[df.isna().any()].tolist()"
   ]
  },
  {
   "cell_type": "code",
   "execution_count": 14,
   "metadata": {},
   "outputs": [],
   "source": [
    "excl_col_list = ['fleet_category', 'vehicle_est_engine_life', 'reefer_manufacturer_cd', \n",
    "                 'reefer_manufacturer_desc', 'reefer_model_desc', 'reefer_model_id', 'reefer_rev_hrs', \n",
    "                 'salvage_value_amt', 'depreciation_status', 'utilization_perc', 'proj_fair_market_value_amt', \n",
    "                 'rear_door_type_cd', 'rear_door_type_desc', 'body_height_qn', \n",
    "                 'body_length_qn', 'body_width_qn', 'vehicle_inservice_dt', 'body_length', \n",
    "                 'aux_power_manufacturer_cd', 'aux_power_model_desc', 'miles_billed_nbr', 'odometer_rdr_corrected']\n",
    "\n",
    "for col in excl_col_list:\n",
    "    if col in df.columns:\n",
    "        del df[col]\n",
    "\n",
    "missing_values = df.columns[df.isna().any()].tolist()"
   ]
  },
  {
   "cell_type": "code",
   "execution_count": 15,
   "metadata": {},
   "outputs": [
    {
     "data": {
      "text/plain": [
       "(23809, 48)"
      ]
     },
     "execution_count": 15,
     "metadata": {},
     "output_type": "execute_result"
    }
   ],
   "source": [
    "df.shape"
   ]
  },
  {
   "cell_type": "code",
   "execution_count": 16,
   "metadata": {},
   "outputs": [
    {
     "name": "stdout",
     "output_type": "stream",
     "text": [
      "projected_book_life  -  99.9706\n",
      "lease_expiry_dt  -  4.0825\n",
      "vehicle_disp_cond_cd  -  0.4116\n",
      "vehicle_disp_cond_desc  -  0.4116\n",
      "engine_brake_model_id  -  52.0685\n",
      "engine_brake_model_desc  -  52.0685\n",
      "drive_tire_size_cd  -  0.1554\n",
      "drive_tire_size_desc  -  0.1554\n",
      "suspension_type_cd  -  4.7419\n",
      "suspension_type_desc  -  4.7419\n",
      "suspension_capacity  -  4.7419\n",
      "rear_axle_capacity  -  0.084\n",
      "transmission_manufacturer_cd  -  0.0546\n",
      "transmission_manufacturer_desc  -  0.0546\n",
      "transmission_model_id  -  0.0546\n",
      "transmission_model_desc  -  0.0546\n",
      "transmission_desc  -  0.0546\n",
      "transmission_speed_qn  -  0.0546\n",
      "axle_total_count  -  1.0962\n"
     ]
    }
   ],
   "source": [
    "for cols in missing_values: \n",
    "    print(cols, \" - \", round(df[cols].isnull().sum()/len(df[cols])*100,4))\n"
   ]
  },
  {
   "cell_type": "markdown",
   "metadata": {},
   "source": [
    "## Deal with missing values"
   ]
  },
  {
   "cell_type": "markdown",
   "metadata": {},
   "source": [
    "### Values that we can drop"
   ]
  },
  {
   "cell_type": "code",
   "execution_count": 17,
   "metadata": {},
   "outputs": [],
   "source": [
    "excl_col_list = ['engine_brake_model_desc','engine_brake_model_id']\n",
    "for col in excl_col_list:\n",
    "    if col in df.columns:\n",
    "        del df[col]"
   ]
  },
  {
   "cell_type": "markdown",
   "metadata": {},
   "source": [
    "### Duplicate Values for which we can drop the duplicate columns"
   ]
  },
  {
   "cell_type": "code",
   "execution_count": 18,
   "metadata": {},
   "outputs": [],
   "source": [
    "excl_col_list = ['drive_tire_size_desc','suspension_capacity','suspension_type_desc','transmission_desc',\n",
    "                'transmission_manufacturer_desc','transmission_model_desc',\n",
    "                'vehicle_disp_cond_desc']\n",
    "for col in excl_col_list:\n",
    "    if col in df.columns:\n",
    "        del df[col]"
   ]
  },
  {
   "cell_type": "markdown",
   "metadata": {},
   "source": [
    "### Replace missing values with mean"
   ]
  },
  {
   "cell_type": "markdown",
   "metadata": {},
   "source": [
    "#### Numerical values"
   ]
  },
  {
   "cell_type": "code",
   "execution_count": 19,
   "metadata": {},
   "outputs": [],
   "source": [
    "# Numerical Variables\n",
    "df['axle_total_count'] = df['axle_total_count'].fillna((df['axle_total_count'].mean()))\n",
    "df['drive_tire_size_cd'] = df['drive_tire_size_cd'].fillna((df['drive_tire_size_cd'].mean()))\n",
    "df['rear_axle_capacity'] = df['rear_axle_capacity'].fillna((df['rear_axle_capacity'].mean()))\n",
    "df['transmission_speed_qn'] = df['transmission_speed_qn'].fillna((df['transmission_speed_qn'].mean()))\n",
    "\n"
   ]
  },
  {
   "cell_type": "markdown",
   "metadata": {},
   "source": [
    "#### Categorical and Date/Time Variables"
   ]
  },
  {
   "cell_type": "code",
   "execution_count": 20,
   "metadata": {},
   "outputs": [
    {
     "data": {
      "text/plain": [
       "array(['2013-10-18 00:00:00.000000', '2012-12-20 00:00:00.000000',\n",
       "       '2012-03-19 00:00:00.000000', ..., '2021-04-14 00:00:00.000000',\n",
       "       '2019-04-19 00:00:00.000000', '2019-09-15 00:00:00.000000'],\n",
       "      dtype=object)"
      ]
     },
     "execution_count": 20,
     "metadata": {},
     "output_type": "execute_result"
    }
   ],
   "source": [
    "df['lease_expiry_dt'].unique()"
   ]
  },
  {
   "cell_type": "code",
   "execution_count": 21,
   "metadata": {},
   "outputs": [],
   "source": [
    "# We can drop this column. It does not seem valuable for the model\n",
    "del df['lease_expiry_dt']"
   ]
  },
  {
   "cell_type": "code",
   "execution_count": 22,
   "metadata": {},
   "outputs": [
    {
     "data": {
      "text/plain": [
       "array(['A', 'T', nan, 'L'], dtype=object)"
      ]
     },
     "execution_count": 22,
     "metadata": {},
     "output_type": "execute_result"
    }
   ],
   "source": [
    "df['suspension_type_cd'].unique()"
   ]
  },
  {
   "cell_type": "code",
   "execution_count": 23,
   "metadata": {},
   "outputs": [
    {
     "data": {
      "text/plain": [
       "array(['FULL', 'ALLI', 'DETR', 'VOLV', 'ROCK', 'EATN', 'MACK', 'SPIC',\n",
       "       nan], dtype=object)"
      ]
     },
     "execution_count": 23,
     "metadata": {},
     "output_type": "execute_result"
    }
   ],
   "source": [
    "df['transmission_manufacturer_cd'].unique()"
   ]
  },
  {
   "cell_type": "markdown",
   "metadata": {},
   "source": [
    "### Replace NULL values with most popular values"
   ]
  },
  {
   "cell_type": "markdown",
   "metadata": {},
   "source": [
    "#### Custom Function"
   ]
  },
  {
   "cell_type": "code",
   "execution_count": 24,
   "metadata": {},
   "outputs": [],
   "source": [
    "def ShowFreqCount(colname):\n",
    "    model_count = df[colname].value_counts(dropna=True, sort=True)\n",
    "    for index, val in model_count.iteritems():\n",
    "        print (index, val)\n",
    "\n",
    "def ReplaceNaNMostFreq(colname):\n",
    "    df[colname].fillna(df[colname].mode().iloc[0], inplace = True)\n",
    "    ShowFreqCount(colname)\n",
    "    "
   ]
  },
  {
   "cell_type": "markdown",
   "metadata": {},
   "source": [
    "#### transmission_model_id"
   ]
  },
  {
   "cell_type": "code",
   "execution_count": 25,
   "metadata": {},
   "outputs": [
    {
     "name": "stdout",
     "output_type": "stream",
     "text": [
      "95511377.0 11291\n",
      "93345663.0 3886\n",
      "64172607.0 1782\n",
      "16257280.0 958\n",
      "93699239.0 716\n",
      "596876053.0 646\n",
      "7902829.0 495\n",
      "30187478.0 361\n",
      "63641761.0 337\n",
      "21169747.0 216\n",
      "32989687.0 177\n",
      "415569503.0 176\n",
      "57755100.0 155\n",
      "34939769.0 151\n",
      "774843110.0 140\n",
      "184763543.0 132\n",
      "95618646.0 120\n",
      "688900663.0 116\n",
      "29527501.0 107\n",
      "81315207.0 105\n",
      "34147364.0 100\n",
      "96704157.0 100\n",
      "74614176.0 91\n",
      "13303213.0 85\n",
      "50831987.0 68\n",
      "843872593.0 67\n",
      "906583208.0 56\n",
      "41936232.0 54\n",
      "60863777.0 53\n",
      "60992570.0 53\n",
      "5362715.0 48\n",
      "46218279.0 46\n",
      "22985113.0 44\n",
      "29687867.0 39\n",
      "567355135.0 39\n",
      "70179755.0 38\n",
      "45123393.0 33\n",
      "179260833.0 32\n",
      "10233243.0 31\n",
      "87691267.0 30\n",
      "58964043.0 26\n",
      "145714855.0 26\n",
      "784788660.0 25\n",
      "868675467.0 24\n",
      "3389589.0 24\n",
      "56700676.0 23\n",
      "83033292.0 23\n",
      "72407697.0 21\n",
      "852611839.0 21\n",
      "80683728.0 19\n",
      "68800991.0 18\n",
      "60223962.0 16\n",
      "14884.0 15\n",
      "909157839.0 14\n",
      "56472058.0 11\n",
      "48325881.0 10\n",
      "588037827.0 10\n",
      "59628409.0 10\n",
      "71851203.0 10\n",
      "66381481.0 10\n",
      "62230788.0 9\n",
      "386058402.0 9\n",
      "81823914.0 9\n",
      "51794486.0 8\n",
      "91373721.0 7\n",
      "80748557.0 7\n",
      "241100153.0 7\n",
      "548171239.0 7\n",
      "688339669.0 7\n",
      "86039487.0 7\n",
      "67326420.0 7\n",
      "35269629.0 7\n",
      "68648830.0 6\n",
      "50230673.0 6\n",
      "82858644.0 6\n",
      "80231902.0 6\n",
      "69823157.0 6\n",
      "4536076.0 5\n",
      "97521075.0 5\n",
      "48613273.0 5\n",
      "576357081.0 5\n",
      "5349280.0 5\n",
      "60254115.0 4\n",
      "93695136.0 4\n",
      "78496565.0 4\n",
      "1676615.0 4\n",
      "790645267.0 4\n",
      "14707925.0 3\n",
      "70376625.0 3\n",
      "36913457.0 3\n",
      "669993888.0 3\n",
      "9742158.0 3\n",
      "47997157.0 3\n",
      "34989700.0 3\n",
      "34604177.0 3\n",
      "730609865.0 3\n",
      "25921591.0 3\n",
      "640307841.0 3\n",
      "636506.0 3\n",
      "221886041.0 3\n",
      "3876349.0 2\n",
      "83417859.0 2\n",
      "72006158.0 2\n",
      "219607756.0 2\n",
      "39192667.0 2\n",
      "55285733.0 2\n",
      "52164882.0 2\n",
      "56450414.0 2\n",
      "97571469.0 2\n",
      "28819646.0 2\n",
      "707344139.0 2\n",
      "40452731.0 2\n",
      "27087986.0 2\n",
      "3242.0 2\n",
      "108930642.0 2\n",
      "96832015.0 1\n",
      "8329338.0 1\n",
      "32621771.0 1\n",
      "61058250.0 1\n",
      "898285689.0 1\n",
      "871807487.0 1\n",
      "104792215.0 1\n",
      "86701045.0 1\n",
      "71111522.0 1\n",
      "617780304.0 1\n",
      "95021200.0 1\n",
      "39118671.0 1\n",
      "379807127.0 1\n",
      "18457556.0 1\n",
      "2468140.0 1\n",
      "98869677.0 1\n",
      "36761281.0 1\n",
      "57676548.0 1\n",
      "41913615.0 1\n",
      "27642368.0 1\n",
      "67798589.0 1\n",
      "1137651.0 1\n",
      "44771090.0 1\n",
      "382943255.0 1\n",
      "76564839.0 1\n",
      "732197801.0 1\n",
      "52851250.0 1\n",
      "456277093.0 1\n",
      "66941761.0 1\n",
      "12679835.0 1\n",
      "73357171.0 1\n"
     ]
    }
   ],
   "source": [
    "ShowFreqCount('transmission_model_id')\n",
    "#print(df['transmission_model_id'].mode().iloc[0])"
   ]
  },
  {
   "cell_type": "code",
   "execution_count": 26,
   "metadata": {},
   "outputs": [
    {
     "name": "stdout",
     "output_type": "stream",
     "text": [
      "95511377.0 11304\n",
      "93345663.0 3886\n",
      "64172607.0 1782\n",
      "16257280.0 958\n",
      "93699239.0 716\n",
      "596876053.0 646\n",
      "7902829.0 495\n",
      "30187478.0 361\n",
      "63641761.0 337\n",
      "21169747.0 216\n",
      "32989687.0 177\n",
      "415569503.0 176\n",
      "57755100.0 155\n",
      "34939769.0 151\n",
      "774843110.0 140\n",
      "184763543.0 132\n",
      "95618646.0 120\n",
      "688900663.0 116\n",
      "29527501.0 107\n",
      "81315207.0 105\n",
      "34147364.0 100\n",
      "96704157.0 100\n",
      "74614176.0 91\n",
      "13303213.0 85\n",
      "50831987.0 68\n",
      "843872593.0 67\n",
      "906583208.0 56\n",
      "41936232.0 54\n",
      "60863777.0 53\n",
      "60992570.0 53\n",
      "5362715.0 48\n",
      "46218279.0 46\n",
      "22985113.0 44\n",
      "29687867.0 39\n",
      "567355135.0 39\n",
      "70179755.0 38\n",
      "45123393.0 33\n",
      "179260833.0 32\n",
      "10233243.0 31\n",
      "87691267.0 30\n",
      "58964043.0 26\n",
      "145714855.0 26\n",
      "784788660.0 25\n",
      "868675467.0 24\n",
      "3389589.0 24\n",
      "56700676.0 23\n",
      "83033292.0 23\n",
      "72407697.0 21\n",
      "852611839.0 21\n",
      "80683728.0 19\n",
      "68800991.0 18\n",
      "60223962.0 16\n",
      "14884.0 15\n",
      "909157839.0 14\n",
      "56472058.0 11\n",
      "48325881.0 10\n",
      "588037827.0 10\n",
      "59628409.0 10\n",
      "71851203.0 10\n",
      "66381481.0 10\n",
      "62230788.0 9\n",
      "386058402.0 9\n",
      "81823914.0 9\n",
      "51794486.0 8\n",
      "91373721.0 7\n",
      "80748557.0 7\n",
      "241100153.0 7\n",
      "548171239.0 7\n",
      "688339669.0 7\n",
      "86039487.0 7\n",
      "67326420.0 7\n",
      "35269629.0 7\n",
      "68648830.0 6\n",
      "50230673.0 6\n",
      "82858644.0 6\n",
      "80231902.0 6\n",
      "69823157.0 6\n",
      "4536076.0 5\n",
      "97521075.0 5\n",
      "48613273.0 5\n",
      "576357081.0 5\n",
      "5349280.0 5\n",
      "60254115.0 4\n",
      "93695136.0 4\n",
      "78496565.0 4\n",
      "1676615.0 4\n",
      "790645267.0 4\n",
      "14707925.0 3\n",
      "70376625.0 3\n",
      "36913457.0 3\n",
      "669993888.0 3\n",
      "9742158.0 3\n",
      "47997157.0 3\n",
      "34989700.0 3\n",
      "34604177.0 3\n",
      "730609865.0 3\n",
      "25921591.0 3\n",
      "640307841.0 3\n",
      "636506.0 3\n",
      "221886041.0 3\n",
      "3876349.0 2\n",
      "83417859.0 2\n",
      "72006158.0 2\n",
      "219607756.0 2\n",
      "39192667.0 2\n",
      "55285733.0 2\n",
      "52164882.0 2\n",
      "56450414.0 2\n",
      "97571469.0 2\n",
      "28819646.0 2\n",
      "707344139.0 2\n",
      "40452731.0 2\n",
      "27087986.0 2\n",
      "3242.0 2\n",
      "108930642.0 2\n",
      "96832015.0 1\n",
      "8329338.0 1\n",
      "32621771.0 1\n",
      "61058250.0 1\n",
      "898285689.0 1\n",
      "871807487.0 1\n",
      "104792215.0 1\n",
      "86701045.0 1\n",
      "71111522.0 1\n",
      "617780304.0 1\n",
      "95021200.0 1\n",
      "39118671.0 1\n",
      "379807127.0 1\n",
      "18457556.0 1\n",
      "2468140.0 1\n",
      "98869677.0 1\n",
      "36761281.0 1\n",
      "57676548.0 1\n",
      "41913615.0 1\n",
      "27642368.0 1\n",
      "67798589.0 1\n",
      "1137651.0 1\n",
      "44771090.0 1\n",
      "382943255.0 1\n",
      "76564839.0 1\n",
      "732197801.0 1\n",
      "52851250.0 1\n",
      "456277093.0 1\n",
      "66941761.0 1\n",
      "12679835.0 1\n",
      "73357171.0 1\n"
     ]
    }
   ],
   "source": [
    "ReplaceNaNMostFreq('transmission_model_id')"
   ]
  },
  {
   "cell_type": "markdown",
   "metadata": {},
   "source": [
    "#### vehicle_disp_cond_cd"
   ]
  },
  {
   "cell_type": "code",
   "execution_count": 27,
   "metadata": {},
   "outputs": [
    {
     "name": "stdout",
     "output_type": "stream",
     "text": [
      "10.0 20229\n",
      "50.0 2237\n",
      "30.0 1224\n",
      "40.0 21\n"
     ]
    }
   ],
   "source": [
    "ShowFreqCount('vehicle_disp_cond_cd')\n",
    "#print(df['vehicle_disp_cond_cd'].mode().iloc[0])"
   ]
  },
  {
   "cell_type": "code",
   "execution_count": 28,
   "metadata": {},
   "outputs": [
    {
     "name": "stdout",
     "output_type": "stream",
     "text": [
      "10.0 20327\n",
      "50.0 2237\n",
      "30.0 1224\n",
      "40.0 21\n"
     ]
    }
   ],
   "source": [
    "ReplaceNaNMostFreq('vehicle_disp_cond_cd')"
   ]
  },
  {
   "cell_type": "markdown",
   "metadata": {},
   "source": [
    "#### transmission_manufacturer_cd"
   ]
  },
  {
   "cell_type": "code",
   "execution_count": 29,
   "metadata": {},
   "outputs": [
    {
     "name": "stdout",
     "output_type": "stream",
     "text": [
      "FULL 22142\n",
      "ALLI 1282\n",
      "DETR 143\n",
      "ROCK 115\n",
      "VOLV 74\n",
      "EATN 27\n",
      "MACK 12\n",
      "SPIC 1\n"
     ]
    }
   ],
   "source": [
    "ShowFreqCount('transmission_manufacturer_cd')"
   ]
  },
  {
   "cell_type": "code",
   "execution_count": 30,
   "metadata": {},
   "outputs": [
    {
     "name": "stdout",
     "output_type": "stream",
     "text": [
      "FULL 22155\n",
      "ALLI 1282\n",
      "DETR 143\n",
      "ROCK 115\n",
      "VOLV 74\n",
      "EATN 27\n",
      "MACK 12\n",
      "SPIC 1\n"
     ]
    }
   ],
   "source": [
    "ReplaceNaNMostFreq('transmission_manufacturer_cd')"
   ]
  },
  {
   "cell_type": "markdown",
   "metadata": {},
   "source": [
    "#### suspension_type_cd"
   ]
  },
  {
   "cell_type": "code",
   "execution_count": 31,
   "metadata": {},
   "outputs": [
    {
     "name": "stdout",
     "output_type": "stream",
     "text": [
      "A 21644\n",
      "L 965\n",
      "T 71\n"
     ]
    }
   ],
   "source": [
    "ShowFreqCount('suspension_type_cd')"
   ]
  },
  {
   "cell_type": "code",
   "execution_count": 32,
   "metadata": {},
   "outputs": [
    {
     "name": "stdout",
     "output_type": "stream",
     "text": [
      "A 22773\n",
      "L 965\n",
      "T 71\n"
     ]
    }
   ],
   "source": [
    "ReplaceNaNMostFreq('suspension_type_cd')"
   ]
  },
  {
   "cell_type": "markdown",
   "metadata": {},
   "source": [
    "### Check if we have any more missing values"
   ]
  },
  {
   "cell_type": "code",
   "execution_count": 33,
   "metadata": {},
   "outputs": [
    {
     "name": "stdout",
     "output_type": "stream",
     "text": [
      "['projected_book_life']\n"
     ]
    }
   ],
   "source": [
    "missing_values = df.columns[df.isna().any()].tolist()\n",
    "print(missing_values)"
   ]
  },
  {
   "cell_type": "code",
   "execution_count": null,
   "metadata": {},
   "outputs": [],
   "source": []
  },
  {
   "cell_type": "markdown",
   "metadata": {},
   "source": [
    "### Drop the _value Columns based on discussions with Debashis and team\n",
    "\n",
    "`\n",
    "book_value\n",
    "    Max: 128925.52\n",
    "    Min: 0.12\n",
    "book_value_amt\n",
    "    Max: 128925\n",
    "    Min: 0\n",
    "proj_book_value_amt\n",
    "    Max: 128926\n",
    "    Min: 1\n",
    "`\n",
    "\n",
    "Can be dropped - Oct 31 meeting and follow up email"
   ]
  },
  {
   "cell_type": "code",
   "execution_count": 34,
   "metadata": {},
   "outputs": [],
   "source": [
    "excl_col_list = ['book_value','book_value_amt','proj_book_value_amt']\n",
    "for col in excl_col_list:\n",
    "    if col in df.columns:\n",
    "        del df[col]"
   ]
  },
  {
   "cell_type": "markdown",
   "metadata": {},
   "source": [
    "### Shape Check"
   ]
  },
  {
   "cell_type": "code",
   "execution_count": 35,
   "metadata": {},
   "outputs": [
    {
     "data": {
      "text/plain": [
       "(23809, 35)"
      ]
     },
     "execution_count": 35,
     "metadata": {},
     "output_type": "execute_result"
    }
   ],
   "source": [
    "df.shape"
   ]
  },
  {
   "cell_type": "markdown",
   "metadata": {},
   "source": [
    "### Split data into Categorical and Numerical Data Frames for Analysis"
   ]
  },
  {
   "cell_type": "code",
   "execution_count": 36,
   "metadata": {},
   "outputs": [],
   "source": [
    "# Numerical Values\n",
    "numerics = ['int16', 'int32', 'int64', 'float16', 'float32', 'float64']\n",
    "df_num = df.select_dtypes(include=numerics)\n",
    "df_num = df_num.fillna(0)\n",
    "\n",
    "#Categorical Values\n",
    "df_cat = df.select_dtypes(include=['object','datetime64'])"
   ]
  },
  {
   "cell_type": "code",
   "execution_count": 37,
   "metadata": {},
   "outputs": [
    {
     "name": "stdout",
     "output_type": "stream",
     "text": [
      "Index(['vehicle_corrected_age', 'accumulated_depreciation_amt',\n",
      "       'projected_book_life', 'vehicle_sam_class_cd', 'sam_summary_class_cd',\n",
      "       'vehicle_purchase_flg', 'veh_domicle_location_cd',\n",
      "       'vehicle_disp_cond_cd', 'days_to_outservice', 'vehicle_age',\n",
      "       'vehicle_gvw_class_cd', 'drive_tire_size_cd', 'rear_axle_capacity',\n",
      "       'transmission_model_id', 'engine_model_id', 'engine_horsepower',\n",
      "       'transmission_speed_qn', 'axle_total_count', 'year_month_num',\n",
      "       'age_acpt', 'net_vehicle_invest', 'proceeds', 'model_year', 'age_sale',\n",
      "       'odomoter_sale', 'accpt_date_num', 'sale_date_num'],\n",
      "      dtype='object')\n"
     ]
    }
   ],
   "source": [
    "num_columns = df_num.columns\n",
    "print(num_columns)"
   ]
  },
  {
   "cell_type": "code",
   "execution_count": 38,
   "metadata": {},
   "outputs": [
    {
     "name": "stdout",
     "output_type": "stream",
     "text": [
      "Index(['suspension_type_cd', 'transmission_manufacturer_cd',\n",
      "       'engine_manufacturer_cd', 'model_mfg', 'epa_tech_year', 'accpt_date_ts',\n",
      "       'year_month_ts', 'sale_date_ts'],\n",
      "      dtype='object')\n"
     ]
    }
   ],
   "source": [
    "cat_columns = df_cat.columns\n",
    "print(cat_columns)"
   ]
  },
  {
   "cell_type": "markdown",
   "metadata": {},
   "source": [
    "#### Helper Functions"
   ]
  },
  {
   "cell_type": "code",
   "execution_count": 39,
   "metadata": {},
   "outputs": [],
   "source": [
    "def categorical_summarized(dataframe, x=None, y=None, hue=None, palette='Set1', verbose=True):\n",
    "    '''\n",
    "    Helper function that gives a quick summary of a given column of categorical data\n",
    "\n",
    "    Arguments\n",
    "    =========\n",
    "    dataframe: pandas dataframe\n",
    "    x: str. horizontal axis to plot the labels of categorical data, y would be the count\n",
    "    y: str. vertical axis to plot the labels of categorical data, x would be the count\n",
    "    hue: str. if you want to compare it another variable (usually the target variable)\n",
    "    palette: array-like. Colour of the plot\n",
    "\n",
    "    Returns\n",
    "    =======\n",
    "    Quick Stats of the data and also the count plot\n",
    "    '''\n",
    "    if x == None:\n",
    "        column_interested = y\n",
    "    else:\n",
    "        column_interested = x\n",
    "    series = dataframe[column_interested]\n",
    "    print(series.describe())\n",
    "    print('mode: ', series.mode())\n",
    "    if verbose:\n",
    "        print('='*80)\n",
    "        print(series.value_counts())\n",
    "\n",
    "    sns.countplot(x=x, y=y, hue=hue, data=dataframe, palette=palette)\n",
    "    plt.show()\n",
    "    \n",
    "def quantitative_summarized(dataframe, x=None, y=None, hue=None, palette='Set1', ax=None, verbose=True, swarm=False):\n",
    "    '''\n",
    "    Helper function that gives a quick summary of quantattive data\n",
    "    Arguments\n",
    "    =========\n",
    "    dataframe: pandas dataframe\n",
    "    x: str. horizontal axis to plot the labels of categorical data (usually the target variable)\n",
    "    y: str. vertical axis to plot the quantitative data\n",
    "    hue: str. if you want to compare it another categorical variable (usually the target variable if x is another variable)\n",
    "    palette: array-like. Colour of the plot\n",
    "    swarm: if swarm is set to True, a swarm plot would be overlayed\n",
    "    Returns\n",
    "    =======\n",
    "    Quick Stats of the data and also the box plot of the distribution\n",
    "    '''\n",
    "    series = dataframe[y]\n",
    "    print(series.describe())\n",
    "    print('mode: ', series.mode())\n",
    "    if verbose:\n",
    "        print('='*80)\n",
    "        print(series.value_counts())\n",
    "    \n",
    "#     sns.boxplot(x=x, y=y, hue=hue, data=dataframe, palette=palette, ax=ax)\n",
    "#     if swarm:\n",
    "#         sns.swarmplot(x=x, y=y, hue=hue, data=dataframe,\n",
    "#                       palette=palette, ax=ax)\n",
    "#     plt.show()\n",
    "\n"
   ]
  },
  {
   "cell_type": "code",
   "execution_count": 40,
   "metadata": {},
   "outputs": [],
   "source": [
    "def showFreqPlots(colname):\n",
    "    fig = plt.figure(constrained_layout=False,figsize=(16,8))\n",
    "    gs = fig.add_gridspec(nrows=3, ncols=3,wspace=0.9,width_ratios=[1,1,0])\n",
    "    ax1 = fig.add_subplot(gs[0,0])\n",
    "    ax2 = fig.add_subplot(gs[0,1])\n",
    "    ax3 = fig.add_subplot(gs[1,:])\n",
    "    sns.boxplot(x=df[colname],orient='v', ax=ax1)\n",
    "    sns.scatterplot(x='proceeds',y=colname, data=df_num, ax=ax2)\n",
    "    sns.distplot(df_num[colname], hist=True, ax=ax3)\n",
    "    fig.show()\n",
    "    "
   ]
  },
  {
   "cell_type": "markdown",
   "metadata": {},
   "source": [
    "## Deal with outliers"
   ]
  },
  {
   "cell_type": "code",
   "execution_count": 41,
   "metadata": {},
   "outputs": [
    {
     "name": "stdout",
     "output_type": "stream",
     "text": [
      "Index(['vehicle_corrected_age', 'accumulated_depreciation_amt',\n",
      "       'projected_book_life', 'vehicle_sam_class_cd', 'sam_summary_class_cd',\n",
      "       'vehicle_purchase_flg', 'veh_domicle_location_cd',\n",
      "       'vehicle_disp_cond_cd', 'days_to_outservice', 'vehicle_age',\n",
      "       'vehicle_gvw_class_cd', 'drive_tire_size_cd', 'rear_axle_capacity',\n",
      "       'transmission_model_id', 'engine_model_id', 'engine_horsepower',\n",
      "       'transmission_speed_qn', 'axle_total_count', 'year_month_num',\n",
      "       'age_acpt', 'net_vehicle_invest', 'proceeds', 'model_year', 'age_sale',\n",
      "       'odomoter_sale', 'accpt_date_num', 'sale_date_num'],\n",
      "      dtype='object')\n"
     ]
    }
   ],
   "source": [
    "# List of columns to investigate\n",
    "df_num = df_num.loc[:,~df_num.columns.duplicated()]\n",
    "num_col_names = df_num.columns\n",
    "print(num_col_names)"
   ]
  },
  {
   "cell_type": "code",
   "execution_count": 42,
   "metadata": {},
   "outputs": [
    {
     "data": {
      "application/javascript": [
       "IPython.OutputArea.prototype._should_scroll = function(lines) {\n",
       "    return false;\n",
       "}\n"
      ],
      "text/plain": [
       "<IPython.core.display.Javascript object>"
      ]
     },
     "metadata": {},
     "output_type": "display_data"
    }
   ],
   "source": [
    "%%javascript\n",
    "IPython.OutputArea.prototype._should_scroll = function(lines) {\n",
    "    return false;\n",
    "}"
   ]
  },
  {
   "cell_type": "code",
   "execution_count": 43,
   "metadata": {},
   "outputs": [
    {
     "name": "stdout",
     "output_type": "stream",
     "text": [
      "vehicle_corrected_age\n",
      "    Max: 248\n",
      "    Min: 1\n",
      "accumulated_depreciation_amt\n",
      "    Max: 149900.0\n",
      "    Min: 19546.0\n",
      "projected_book_life\n",
      "    Max: 12.0\n",
      "    Min: 0.0\n",
      "vehicle_sam_class_cd\n",
      "    Max: 170\n",
      "    Min: 130\n",
      "sam_summary_class_cd\n",
      "    Max: 330\n",
      "    Min: 320\n",
      "vehicle_purchase_flg\n",
      "    Max: 1\n",
      "    Min: 0\n",
      "veh_domicle_location_cd\n",
      "    Max: 3452\n",
      "    Min: 1328\n",
      "vehicle_disp_cond_cd\n",
      "    Max: 50.0\n",
      "    Min: 10.0\n",
      "days_to_outservice\n",
      "    Max: 5479\n",
      "    Min: 0\n",
      "vehicle_age\n",
      "    Max: 345\n",
      "    Min: 30\n",
      "vehicle_gvw_class_cd\n",
      "    Max: 8\n",
      "    Min: 1\n",
      "drive_tire_size_cd\n",
      "    Max: 1446.0\n",
      "    Min: 123.0\n",
      "rear_axle_capacity\n",
      "    Max: 48000.0\n",
      "    Min: 2300.0\n",
      "transmission_model_id\n",
      "    Max: 909157839.0\n",
      "    Min: 3242.0\n",
      "engine_model_id\n",
      "    Max: 996415284\n",
      "    Min: 1298\n",
      "engine_horsepower\n",
      "    Max: 600.0\n",
      "    Min: 145.0\n",
      "transmission_speed_qn\n",
      "    Max: 18.0\n",
      "    Min: 3.0\n",
      "axle_total_count\n",
      "    Max: 4.0\n",
      "    Min: 1.0\n",
      "year_month_num\n",
      "    Max: 201907\n",
      "    Min: 201311\n",
      "age_acpt\n",
      "    Max: 337\n",
      "    Min: 27\n",
      "net_vehicle_invest\n",
      "    Max: 217909\n",
      "    Min: 38922\n",
      "proceeds\n",
      "    Max: 91750\n",
      "    Min: 600\n",
      "model_year\n",
      "    Max: 2018\n",
      "    Min: 1991\n",
      "age_sale\n",
      "    Max: 339\n",
      "    Min: 30\n",
      "odomoter_sale\n",
      "    Max: 1179701\n",
      "    Min: 1\n",
      "accpt_date_num\n",
      "    Max: 201907\n",
      "    Min: 200907\n",
      "sale_date_num\n",
      "    Max: 201907\n",
      "    Min: 200912\n"
     ]
    }
   ],
   "source": [
    "for i, col_val in enumerate(num_col_names):\n",
    "        print(\"{}\\n    Max: {}\\n    Min: {}\".format(col_val,df_num[col_val].max(),df_num[col_val].min()))\n",
    "    "
   ]
  },
  {
   "cell_type": "markdown",
   "metadata": {},
   "source": [
    "### Changing some values that does not make sense"
   ]
  },
  {
   "cell_type": "code",
   "execution_count": 44,
   "metadata": {},
   "outputs": [],
   "source": [
    "df_num['axle_total_count']=df_num['axle_total_count'].replace(0,2)\n",
    "df_num['axle_total_count']=df_num['axle_total_count'].replace(1,2)\n",
    "df_num['transmission_speed_qn']=df_num['transmission_speed_qn'].replace(0,df_num['transmission_speed_qn'].mean())\n",
    "df_num['days_to_outservice']=df_num['days_to_outservice'].replace(0,df_num['days_to_outservice'].mode())"
   ]
  },
  {
   "cell_type": "code",
   "execution_count": 45,
   "metadata": {},
   "outputs": [
    {
     "data": {
      "text/plain": [
       "5479"
      ]
     },
     "execution_count": 45,
     "metadata": {},
     "output_type": "execute_result"
    }
   ],
   "source": [
    "df_num['days_to_outservice'].max()"
   ]
  },
  {
   "cell_type": "code",
   "execution_count": 46,
   "metadata": {},
   "outputs": [
    {
     "data": {
      "image/png": "[encoded data removed]",
      "text/plain": [
       "<Figure size 1152x576 with 3 Axes>"
      ]
     },
     "metadata": {
      "needs_background": "light"
     },
     "output_type": "display_data"
    }
   ],
   "source": [
    "showFreqPlots('days_to_outservice')"
   ]
  },
  {
   "cell_type": "markdown",
   "metadata": {},
   "source": [
    "### Remove outliers"
   ]
  },
  {
   "cell_type": "markdown",
   "metadata": {},
   "source": [
    "**days_to_outservice_mean**\n",
    "\n",
    "- Filter rows larger than 3 standard deviations\n",
    "- Replace these row values with 95% quantile mean"
   ]
  },
  {
   "cell_type": "code",
   "execution_count": 47,
   "metadata": {},
   "outputs": [
    {
     "data": {
      "text/plain": [
       "(23809, 27)"
      ]
     },
     "execution_count": 47,
     "metadata": {},
     "output_type": "execute_result"
    }
   ],
   "source": [
    "df_num.shape"
   ]
  },
  {
   "cell_type": "code",
   "execution_count": 48,
   "metadata": {},
   "outputs": [],
   "source": [
    "# From the discussion with the team, we can replace the outliers with 90 Percentile value\n",
    "dto_repl_value = round(df_num.days_to_outservice[\n",
    "    np.abs(\n",
    "        df_num.days_to_outservice-df_num.days_to_outservice.mean()\n",
    "    ) > (\n",
    "        df_num['days_to_outservice'].quantile(0.90)\n",
    "    )].mean())\n",
    "\n",
    "df_num.days_to_outservice[\n",
    "    np.abs(\n",
    "        df_num.days_to_outservice-df_num.days_to_outservice.mean()\n",
    "    ) > (\n",
    "        3*df_num.days_to_outservice.std()\n",
    "    )] = dto_repl_value"
   ]
  },
  {
   "cell_type": "code",
   "execution_count": 49,
   "metadata": {},
   "outputs": [
    {
     "name": "stdout",
     "output_type": "stream",
     "text": [
      "295\n"
     ]
    },
    {
     "data": {
      "text/html": [
       "<div>\n",
       "<style scoped>\n",
       "    .dataframe tbody tr th:only-of-type {\n",
       "        vertical-align: middle;\n",
       "    }\n",
       "\n",
       "    .dataframe tbody tr th {\n",
       "        vertical-align: top;\n",
       "    }\n",
       "\n",
       "    .dataframe thead th {\n",
       "        text-align: right;\n",
       "    }\n",
       "</style>\n",
       "<table border=\"1\" class=\"dataframe\">\n",
       "  <thead>\n",
       "    <tr style=\"text-align: right;\">\n",
       "      <th></th>\n",
       "      <th>vehicle_corrected_age</th>\n",
       "      <th>accumulated_depreciation_amt</th>\n",
       "      <th>projected_book_life</th>\n",
       "      <th>vehicle_sam_class_cd</th>\n",
       "      <th>sam_summary_class_cd</th>\n",
       "      <th>vehicle_purchase_flg</th>\n",
       "      <th>veh_domicle_location_cd</th>\n",
       "      <th>vehicle_disp_cond_cd</th>\n",
       "      <th>days_to_outservice</th>\n",
       "      <th>vehicle_age</th>\n",
       "      <th>vehicle_gvw_class_cd</th>\n",
       "      <th>drive_tire_size_cd</th>\n",
       "      <th>rear_axle_capacity</th>\n",
       "      <th>transmission_model_id</th>\n",
       "      <th>engine_model_id</th>\n",
       "      <th>engine_horsepower</th>\n",
       "      <th>transmission_speed_qn</th>\n",
       "      <th>axle_total_count</th>\n",
       "      <th>year_month_num</th>\n",
       "      <th>age_acpt</th>\n",
       "      <th>net_vehicle_invest</th>\n",
       "      <th>proceeds</th>\n",
       "      <th>model_year</th>\n",
       "      <th>age_sale</th>\n",
       "      <th>odomoter_sale</th>\n",
       "      <th>accpt_date_num</th>\n",
       "      <th>sale_date_num</th>\n",
       "    </tr>\n",
       "  </thead>\n",
       "  <tbody>\n",
       "    <tr>\n",
       "      <th>1</th>\n",
       "      <td>102</td>\n",
       "      <td>47657.000000</td>\n",
       "      <td>0.000000</td>\n",
       "      <td>140</td>\n",
       "      <td>320</td>\n",
       "      <td>0</td>\n",
       "      <td>2438</td>\n",
       "      <td>10.000000</td>\n",
       "      <td>5</td>\n",
       "      <td>100</td>\n",
       "      <td>8</td>\n",
       "      <td>472.000000</td>\n",
       "      <td>40000.000000</td>\n",
       "      <td>93345663.000000</td>\n",
       "      <td>54414256</td>\n",
       "      <td>380.000000</td>\n",
       "      <td>10.000000</td>\n",
       "      <td>3.000000</td>\n",
       "      <td>201401</td>\n",
       "      <td>93</td>\n",
       "      <td>68497</td>\n",
       "      <td>23000</td>\n",
       "      <td>2006</td>\n",
       "      <td>100</td>\n",
       "      <td>345180</td>\n",
       "      <td>201306</td>\n",
       "      <td>201401</td>\n",
       "    </tr>\n",
       "    <tr>\n",
       "      <th>2</th>\n",
       "      <td>89</td>\n",
       "      <td>53383.000000</td>\n",
       "      <td>0.000000</td>\n",
       "      <td>170</td>\n",
       "      <td>330</td>\n",
       "      <td>0</td>\n",
       "      <td>2389</td>\n",
       "      <td>10.000000</td>\n",
       "      <td>27</td>\n",
       "      <td>88</td>\n",
       "      <td>8</td>\n",
       "      <td>1102.000000</td>\n",
       "      <td>40000.000000</td>\n",
       "      <td>95511377.000000</td>\n",
       "      <td>39239775</td>\n",
       "      <td>455.000000</td>\n",
       "      <td>10.000000</td>\n",
       "      <td>3.000000</td>\n",
       "      <td>201404</td>\n",
       "      <td>87</td>\n",
       "      <td>67821</td>\n",
       "      <td>30499</td>\n",
       "      <td>2007</td>\n",
       "      <td>88</td>\n",
       "      <td>589129</td>\n",
       "      <td>201403</td>\n",
       "      <td>201404</td>\n",
       "    </tr>\n",
       "    <tr>\n",
       "      <th>5</th>\n",
       "      <td>89</td>\n",
       "      <td>57999.000000</td>\n",
       "      <td>0.000000</td>\n",
       "      <td>170</td>\n",
       "      <td>330</td>\n",
       "      <td>0</td>\n",
       "      <td>3408</td>\n",
       "      <td>10.000000</td>\n",
       "      <td>112</td>\n",
       "      <td>88</td>\n",
       "      <td>8</td>\n",
       "      <td>1102.000000</td>\n",
       "      <td>40000.000000</td>\n",
       "      <td>95511377.000000</td>\n",
       "      <td>39239775</td>\n",
       "      <td>455.000000</td>\n",
       "      <td>10.000000</td>\n",
       "      <td>3.000000</td>\n",
       "      <td>201401</td>\n",
       "      <td>88</td>\n",
       "      <td>72228</td>\n",
       "      <td>20000</td>\n",
       "      <td>2007</td>\n",
       "      <td>88</td>\n",
       "      <td>818626</td>\n",
       "      <td>201401</td>\n",
       "      <td>201401</td>\n",
       "    </tr>\n",
       "    <tr>\n",
       "      <th>6</th>\n",
       "      <td>96</td>\n",
       "      <td>55818.000000</td>\n",
       "      <td>0.000000</td>\n",
       "      <td>170</td>\n",
       "      <td>330</td>\n",
       "      <td>0</td>\n",
       "      <td>2408</td>\n",
       "      <td>10.000000</td>\n",
       "      <td>77</td>\n",
       "      <td>92</td>\n",
       "      <td>8</td>\n",
       "      <td>1102.000000</td>\n",
       "      <td>40000.000000</td>\n",
       "      <td>95511377.000000</td>\n",
       "      <td>39239775</td>\n",
       "      <td>455.000000</td>\n",
       "      <td>10.000000</td>\n",
       "      <td>3.000000</td>\n",
       "      <td>201405</td>\n",
       "      <td>88</td>\n",
       "      <td>75257</td>\n",
       "      <td>30000</td>\n",
       "      <td>2007</td>\n",
       "      <td>92</td>\n",
       "      <td>630302</td>\n",
       "      <td>201401</td>\n",
       "      <td>201405</td>\n",
       "    </tr>\n",
       "    <tr>\n",
       "      <th>10</th>\n",
       "      <td>81</td>\n",
       "      <td>55153.000000</td>\n",
       "      <td>0.000000</td>\n",
       "      <td>140</td>\n",
       "      <td>320</td>\n",
       "      <td>0</td>\n",
       "      <td>2709</td>\n",
       "      <td>10.000000</td>\n",
       "      <td>2</td>\n",
       "      <td>80</td>\n",
       "      <td>8</td>\n",
       "      <td>1102.000000</td>\n",
       "      <td>40000.000000</td>\n",
       "      <td>906583208.000000</td>\n",
       "      <td>393100654</td>\n",
       "      <td>400.000000</td>\n",
       "      <td>10.000000</td>\n",
       "      <td>3.000000</td>\n",
       "      <td>201608</td>\n",
       "      <td>67</td>\n",
       "      <td>93205</td>\n",
       "      <td>34402</td>\n",
       "      <td>2010</td>\n",
       "      <td>80</td>\n",
       "      <td>528325</td>\n",
       "      <td>201507</td>\n",
       "      <td>201608</td>\n",
       "    </tr>\n",
       "    <tr>\n",
       "      <th>12</th>\n",
       "      <td>78</td>\n",
       "      <td>74360.000000</td>\n",
       "      <td>0.000000</td>\n",
       "      <td>140</td>\n",
       "      <td>320</td>\n",
       "      <td>0</td>\n",
       "      <td>3403</td>\n",
       "      <td>10.000000</td>\n",
       "      <td>29</td>\n",
       "      <td>77</td>\n",
       "      <td>8</td>\n",
       "      <td>1373.000000</td>\n",
       "      <td>40000.000000</td>\n",
       "      <td>596876053.000000</td>\n",
       "      <td>952617676</td>\n",
       "      <td>455.000000</td>\n",
       "      <td>10.000000</td>\n",
       "      <td>3.000000</td>\n",
       "      <td>201907</td>\n",
       "      <td>74</td>\n",
       "      <td>114246</td>\n",
       "      <td>38250</td>\n",
       "      <td>2014</td>\n",
       "      <td>77</td>\n",
       "      <td>444063</td>\n",
       "      <td>201904</td>\n",
       "      <td>201907</td>\n",
       "    </tr>\n",
       "    <tr>\n",
       "      <th>13</th>\n",
       "      <td>125</td>\n",
       "      <td>35800.000000</td>\n",
       "      <td>0.000000</td>\n",
       "      <td>132</td>\n",
       "      <td>320</td>\n",
       "      <td>0</td>\n",
       "      <td>3172</td>\n",
       "      <td>10.000000</td>\n",
       "      <td>31</td>\n",
       "      <td>127</td>\n",
       "      <td>8</td>\n",
       "      <td>472.000000</td>\n",
       "      <td>23000.000000</td>\n",
       "      <td>32989687.000000</td>\n",
       "      <td>6919481</td>\n",
       "      <td>250.000000</td>\n",
       "      <td>9.000000</td>\n",
       "      <td>2.000000</td>\n",
       "      <td>201507</td>\n",
       "      <td>116</td>\n",
       "      <td>46014</td>\n",
       "      <td>14495</td>\n",
       "      <td>2005</td>\n",
       "      <td>123</td>\n",
       "      <td>247779</td>\n",
       "      <td>201412</td>\n",
       "      <td>201507</td>\n",
       "    </tr>\n",
       "    <tr>\n",
       "      <th>15</th>\n",
       "      <td>90</td>\n",
       "      <td>59106.000000</td>\n",
       "      <td>0.000000</td>\n",
       "      <td>170</td>\n",
       "      <td>330</td>\n",
       "      <td>0</td>\n",
       "      <td>2616</td>\n",
       "      <td>10.000000</td>\n",
       "      <td>192</td>\n",
       "      <td>93</td>\n",
       "      <td>8</td>\n",
       "      <td>1102.000000</td>\n",
       "      <td>40000.000000</td>\n",
       "      <td>95511377.000000</td>\n",
       "      <td>39239775</td>\n",
       "      <td>455.000000</td>\n",
       "      <td>10.000000</td>\n",
       "      <td>3.000000</td>\n",
       "      <td>201409</td>\n",
       "      <td>88</td>\n",
       "      <td>77456</td>\n",
       "      <td>34000</td>\n",
       "      <td>2007</td>\n",
       "      <td>89</td>\n",
       "      <td>726693</td>\n",
       "      <td>201408</td>\n",
       "      <td>201409</td>\n",
       "    </tr>\n",
       "    <tr>\n",
       "      <th>17</th>\n",
       "      <td>93</td>\n",
       "      <td>58478.000000</td>\n",
       "      <td>0.000000</td>\n",
       "      <td>140</td>\n",
       "      <td>320</td>\n",
       "      <td>0</td>\n",
       "      <td>3172</td>\n",
       "      <td>10.000000</td>\n",
       "      <td>66</td>\n",
       "      <td>90</td>\n",
       "      <td>8</td>\n",
       "      <td>975.000000</td>\n",
       "      <td>40000.000000</td>\n",
       "      <td>95511377.000000</td>\n",
       "      <td>911375872</td>\n",
       "      <td>450.000000</td>\n",
       "      <td>10.000000</td>\n",
       "      <td>3.000000</td>\n",
       "      <td>201901</td>\n",
       "      <td>89</td>\n",
       "      <td>89443</td>\n",
       "      <td>39336</td>\n",
       "      <td>2012</td>\n",
       "      <td>90</td>\n",
       "      <td>373187</td>\n",
       "      <td>201811</td>\n",
       "      <td>201812</td>\n",
       "    </tr>\n",
       "    <tr>\n",
       "      <th>18</th>\n",
       "      <td>98</td>\n",
       "      <td>52936.000000</td>\n",
       "      <td>0.000000</td>\n",
       "      <td>130</td>\n",
       "      <td>320</td>\n",
       "      <td>0</td>\n",
       "      <td>3289</td>\n",
       "      <td>50.000000</td>\n",
       "      <td>126</td>\n",
       "      <td>97</td>\n",
       "      <td>8</td>\n",
       "      <td>1102.000000</td>\n",
       "      <td>21000.000000</td>\n",
       "      <td>93699239.000000</td>\n",
       "      <td>949467157</td>\n",
       "      <td>310.000000</td>\n",
       "      <td>5.000000</td>\n",
       "      <td>2.000000</td>\n",
       "      <td>201808</td>\n",
       "      <td>93</td>\n",
       "      <td>63585</td>\n",
       "      <td>10000</td>\n",
       "      <td>2011</td>\n",
       "      <td>97</td>\n",
       "      <td>130009</td>\n",
       "      <td>201804</td>\n",
       "      <td>201808</td>\n",
       "    </tr>\n",
       "  </tbody>\n",
       "</table>\n",
       "</div>"
      ],
      "text/plain": [
       "    vehicle_corrected_age  accumulated_depreciation_amt  projected_book_life  \\\n",
       "1                     102                  47657.000000             0.000000   \n",
       "2                      89                  53383.000000             0.000000   \n",
       "5                      89                  57999.000000             0.000000   \n",
       "6                      96                  55818.000000             0.000000   \n",
       "10                     81                  55153.000000             0.000000   \n",
       "12                     78                  74360.000000             0.000000   \n",
       "13                    125                  35800.000000             0.000000   \n",
       "15                     90                  59106.000000             0.000000   \n",
       "17                     93                  58478.000000             0.000000   \n",
       "18                     98                  52936.000000             0.000000   \n",
       "\n",
       "    vehicle_sam_class_cd  sam_summary_class_cd  vehicle_purchase_flg  \\\n",
       "1                    140                   320                     0   \n",
       "2                    170                   330                     0   \n",
       "5                    170                   330                     0   \n",
       "6                    170                   330                     0   \n",
       "10                   140                   320                     0   \n",
       "12                   140                   320                     0   \n",
       "13                   132                   320                     0   \n",
       "15                   170                   330                     0   \n",
       "17                   140                   320                     0   \n",
       "18                   130                   320                     0   \n",
       "\n",
       "    veh_domicle_location_cd  vehicle_disp_cond_cd  days_to_outservice  \\\n",
       "1                      2438             10.000000                   5   \n",
       "2                      2389             10.000000                  27   \n",
       "5                      3408             10.000000                 112   \n",
       "6                      2408             10.000000                  77   \n",
       "10                     2709             10.000000                   2   \n",
       "12                     3403             10.000000                  29   \n",
       "13                     3172             10.000000                  31   \n",
       "15                     2616             10.000000                 192   \n",
       "17                     3172             10.000000                  66   \n",
       "18                     3289             50.000000                 126   \n",
       "\n",
       "    vehicle_age  vehicle_gvw_class_cd  drive_tire_size_cd  rear_axle_capacity  \\\n",
       "1           100                     8          472.000000        40000.000000   \n",
       "2            88                     8         1102.000000        40000.000000   \n",
       "5            88                     8         1102.000000        40000.000000   \n",
       "6            92                     8         1102.000000        40000.000000   \n",
       "10           80                     8         1102.000000        40000.000000   \n",
       "12           77                     8         1373.000000        40000.000000   \n",
       "13          127                     8          472.000000        23000.000000   \n",
       "15           93                     8         1102.000000        40000.000000   \n",
       "17           90                     8          975.000000        40000.000000   \n",
       "18           97                     8         1102.000000        21000.000000   \n",
       "\n",
       "    transmission_model_id  engine_model_id  engine_horsepower  \\\n",
       "1         93345663.000000         54414256         380.000000   \n",
       "2         95511377.000000         39239775         455.000000   \n",
       "5         95511377.000000         39239775         455.000000   \n",
       "6         95511377.000000         39239775         455.000000   \n",
       "10       906583208.000000        393100654         400.000000   \n",
       "12       596876053.000000        952617676         455.000000   \n",
       "13        32989687.000000          6919481         250.000000   \n",
       "15        95511377.000000         39239775         455.000000   \n",
       "17        95511377.000000        911375872         450.000000   \n",
       "18        93699239.000000        949467157         310.000000   \n",
       "\n",
       "    transmission_speed_qn  axle_total_count  year_month_num  age_acpt  \\\n",
       "1               10.000000          3.000000          201401        93   \n",
       "2               10.000000          3.000000          201404        87   \n",
       "5               10.000000          3.000000          201401        88   \n",
       "6               10.000000          3.000000          201405        88   \n",
       "10              10.000000          3.000000          201608        67   \n",
       "12              10.000000          3.000000          201907        74   \n",
       "13               9.000000          2.000000          201507       116   \n",
       "15              10.000000          3.000000          201409        88   \n",
       "17              10.000000          3.000000          201901        89   \n",
       "18               5.000000          2.000000          201808        93   \n",
       "\n",
       "    net_vehicle_invest  proceeds  model_year  age_sale  odomoter_sale  \\\n",
       "1                68497     23000        2006       100         345180   \n",
       "2                67821     30499        2007        88         589129   \n",
       "5                72228     20000        2007        88         818626   \n",
       "6                75257     30000        2007        92         630302   \n",
       "10               93205     34402        2010        80         528325   \n",
       "12              114246     38250        2014        77         444063   \n",
       "13               46014     14495        2005       123         247779   \n",
       "15               77456     34000        2007        89         726693   \n",
       "17               89443     39336        2012        90         373187   \n",
       "18               63585     10000        2011        97         130009   \n",
       "\n",
       "    accpt_date_num  sale_date_num  \n",
       "1           201306         201401  \n",
       "2           201403         201404  \n",
       "5           201401         201401  \n",
       "6           201401         201405  \n",
       "10          201507         201608  \n",
       "12          201904         201907  \n",
       "13          201412         201507  \n",
       "15          201408         201409  \n",
       "17          201811         201812  \n",
       "18          201804         201808  "
      ]
     },
     "execution_count": 49,
     "metadata": {},
     "output_type": "execute_result"
    }
   ],
   "source": [
    "pd.set_option('display.max_columns', 500)\n",
    "print(df_num['days_to_outservice'].max())\n",
    "df_num.head(10)"
   ]
  },
  {
   "cell_type": "code",
   "execution_count": 50,
   "metadata": {},
   "outputs": [
    {
     "data": {
      "text/plain": [
       "(23809, 27)"
      ]
     },
     "execution_count": 50,
     "metadata": {},
     "output_type": "execute_result"
    }
   ],
   "source": [
    "df_num.shape"
   ]
  },
  {
   "cell_type": "markdown",
   "metadata": {},
   "source": [
    "**vehicle_age**\n",
    "\n",
    "Max: 345 - Seems high, so we \n",
    "- Replace values with mean for top 85% quartile\n"
   ]
  },
  {
   "cell_type": "code",
   "execution_count": 51,
   "metadata": {},
   "outputs": [
    {
     "name": "stdout",
     "output_type": "stream",
     "text": [
      "115.0\n"
     ]
    }
   ],
   "source": [
    "quart_vage = round(df_num['vehicle_age'].quantile(0.85))\n",
    "df_num.vehicle_age[df_num.vehicle_age > quart_vage] = quart_vage\n",
    "print(quart_vage)"
   ]
  },
  {
   "cell_type": "code",
   "execution_count": 52,
   "metadata": {},
   "outputs": [
    {
     "name": "stdout",
     "output_type": "stream",
     "text": [
      "115\n"
     ]
    },
    {
     "data": {
      "text/html": [
       "<div>\n",
       "<style scoped>\n",
       "    .dataframe tbody tr th:only-of-type {\n",
       "        vertical-align: middle;\n",
       "    }\n",
       "\n",
       "    .dataframe tbody tr th {\n",
       "        vertical-align: top;\n",
       "    }\n",
       "\n",
       "    .dataframe thead th {\n",
       "        text-align: right;\n",
       "    }\n",
       "</style>\n",
       "<table border=\"1\" class=\"dataframe\">\n",
       "  <thead>\n",
       "    <tr style=\"text-align: right;\">\n",
       "      <th></th>\n",
       "      <th>vehicle_corrected_age</th>\n",
       "      <th>accumulated_depreciation_amt</th>\n",
       "      <th>projected_book_life</th>\n",
       "      <th>vehicle_sam_class_cd</th>\n",
       "      <th>sam_summary_class_cd</th>\n",
       "      <th>vehicle_purchase_flg</th>\n",
       "      <th>veh_domicle_location_cd</th>\n",
       "      <th>vehicle_disp_cond_cd</th>\n",
       "      <th>days_to_outservice</th>\n",
       "      <th>vehicle_age</th>\n",
       "      <th>vehicle_gvw_class_cd</th>\n",
       "      <th>drive_tire_size_cd</th>\n",
       "      <th>rear_axle_capacity</th>\n",
       "      <th>transmission_model_id</th>\n",
       "      <th>engine_model_id</th>\n",
       "      <th>engine_horsepower</th>\n",
       "      <th>transmission_speed_qn</th>\n",
       "      <th>axle_total_count</th>\n",
       "      <th>year_month_num</th>\n",
       "      <th>age_acpt</th>\n",
       "      <th>net_vehicle_invest</th>\n",
       "      <th>proceeds</th>\n",
       "      <th>model_year</th>\n",
       "      <th>age_sale</th>\n",
       "      <th>odomoter_sale</th>\n",
       "      <th>accpt_date_num</th>\n",
       "      <th>sale_date_num</th>\n",
       "    </tr>\n",
       "  </thead>\n",
       "  <tbody>\n",
       "    <tr>\n",
       "      <th>1</th>\n",
       "      <td>102</td>\n",
       "      <td>47657.000000</td>\n",
       "      <td>0.000000</td>\n",
       "      <td>140</td>\n",
       "      <td>320</td>\n",
       "      <td>0</td>\n",
       "      <td>2438</td>\n",
       "      <td>10.000000</td>\n",
       "      <td>5</td>\n",
       "      <td>100</td>\n",
       "      <td>8</td>\n",
       "      <td>472.000000</td>\n",
       "      <td>40000.000000</td>\n",
       "      <td>93345663.000000</td>\n",
       "      <td>54414256</td>\n",
       "      <td>380.000000</td>\n",
       "      <td>10.000000</td>\n",
       "      <td>3.000000</td>\n",
       "      <td>201401</td>\n",
       "      <td>93</td>\n",
       "      <td>68497</td>\n",
       "      <td>23000</td>\n",
       "      <td>2006</td>\n",
       "      <td>100</td>\n",
       "      <td>345180</td>\n",
       "      <td>201306</td>\n",
       "      <td>201401</td>\n",
       "    </tr>\n",
       "    <tr>\n",
       "      <th>2</th>\n",
       "      <td>89</td>\n",
       "      <td>53383.000000</td>\n",
       "      <td>0.000000</td>\n",
       "      <td>170</td>\n",
       "      <td>330</td>\n",
       "      <td>0</td>\n",
       "      <td>2389</td>\n",
       "      <td>10.000000</td>\n",
       "      <td>27</td>\n",
       "      <td>88</td>\n",
       "      <td>8</td>\n",
       "      <td>1102.000000</td>\n",
       "      <td>40000.000000</td>\n",
       "      <td>95511377.000000</td>\n",
       "      <td>39239775</td>\n",
       "      <td>455.000000</td>\n",
       "      <td>10.000000</td>\n",
       "      <td>3.000000</td>\n",
       "      <td>201404</td>\n",
       "      <td>87</td>\n",
       "      <td>67821</td>\n",
       "      <td>30499</td>\n",
       "      <td>2007</td>\n",
       "      <td>88</td>\n",
       "      <td>589129</td>\n",
       "      <td>201403</td>\n",
       "      <td>201404</td>\n",
       "    </tr>\n",
       "    <tr>\n",
       "      <th>5</th>\n",
       "      <td>89</td>\n",
       "      <td>57999.000000</td>\n",
       "      <td>0.000000</td>\n",
       "      <td>170</td>\n",
       "      <td>330</td>\n",
       "      <td>0</td>\n",
       "      <td>3408</td>\n",
       "      <td>10.000000</td>\n",
       "      <td>112</td>\n",
       "      <td>88</td>\n",
       "      <td>8</td>\n",
       "      <td>1102.000000</td>\n",
       "      <td>40000.000000</td>\n",
       "      <td>95511377.000000</td>\n",
       "      <td>39239775</td>\n",
       "      <td>455.000000</td>\n",
       "      <td>10.000000</td>\n",
       "      <td>3.000000</td>\n",
       "      <td>201401</td>\n",
       "      <td>88</td>\n",
       "      <td>72228</td>\n",
       "      <td>20000</td>\n",
       "      <td>2007</td>\n",
       "      <td>88</td>\n",
       "      <td>818626</td>\n",
       "      <td>201401</td>\n",
       "      <td>201401</td>\n",
       "    </tr>\n",
       "    <tr>\n",
       "      <th>6</th>\n",
       "      <td>96</td>\n",
       "      <td>55818.000000</td>\n",
       "      <td>0.000000</td>\n",
       "      <td>170</td>\n",
       "      <td>330</td>\n",
       "      <td>0</td>\n",
       "      <td>2408</td>\n",
       "      <td>10.000000</td>\n",
       "      <td>77</td>\n",
       "      <td>92</td>\n",
       "      <td>8</td>\n",
       "      <td>1102.000000</td>\n",
       "      <td>40000.000000</td>\n",
       "      <td>95511377.000000</td>\n",
       "      <td>39239775</td>\n",
       "      <td>455.000000</td>\n",
       "      <td>10.000000</td>\n",
       "      <td>3.000000</td>\n",
       "      <td>201405</td>\n",
       "      <td>88</td>\n",
       "      <td>75257</td>\n",
       "      <td>30000</td>\n",
       "      <td>2007</td>\n",
       "      <td>92</td>\n",
       "      <td>630302</td>\n",
       "      <td>201401</td>\n",
       "      <td>201405</td>\n",
       "    </tr>\n",
       "    <tr>\n",
       "      <th>10</th>\n",
       "      <td>81</td>\n",
       "      <td>55153.000000</td>\n",
       "      <td>0.000000</td>\n",
       "      <td>140</td>\n",
       "      <td>320</td>\n",
       "      <td>0</td>\n",
       "      <td>2709</td>\n",
       "      <td>10.000000</td>\n",
       "      <td>2</td>\n",
       "      <td>80</td>\n",
       "      <td>8</td>\n",
       "      <td>1102.000000</td>\n",
       "      <td>40000.000000</td>\n",
       "      <td>906583208.000000</td>\n",
       "      <td>393100654</td>\n",
       "      <td>400.000000</td>\n",
       "      <td>10.000000</td>\n",
       "      <td>3.000000</td>\n",
       "      <td>201608</td>\n",
       "      <td>67</td>\n",
       "      <td>93205</td>\n",
       "      <td>34402</td>\n",
       "      <td>2010</td>\n",
       "      <td>80</td>\n",
       "      <td>528325</td>\n",
       "      <td>201507</td>\n",
       "      <td>201608</td>\n",
       "    </tr>\n",
       "    <tr>\n",
       "      <th>12</th>\n",
       "      <td>78</td>\n",
       "      <td>74360.000000</td>\n",
       "      <td>0.000000</td>\n",
       "      <td>140</td>\n",
       "      <td>320</td>\n",
       "      <td>0</td>\n",
       "      <td>3403</td>\n",
       "      <td>10.000000</td>\n",
       "      <td>29</td>\n",
       "      <td>77</td>\n",
       "      <td>8</td>\n",
       "      <td>1373.000000</td>\n",
       "      <td>40000.000000</td>\n",
       "      <td>596876053.000000</td>\n",
       "      <td>952617676</td>\n",
       "      <td>455.000000</td>\n",
       "      <td>10.000000</td>\n",
       "      <td>3.000000</td>\n",
       "      <td>201907</td>\n",
       "      <td>74</td>\n",
       "      <td>114246</td>\n",
       "      <td>38250</td>\n",
       "      <td>2014</td>\n",
       "      <td>77</td>\n",
       "      <td>444063</td>\n",
       "      <td>201904</td>\n",
       "      <td>201907</td>\n",
       "    </tr>\n",
       "    <tr>\n",
       "      <th>13</th>\n",
       "      <td>125</td>\n",
       "      <td>35800.000000</td>\n",
       "      <td>0.000000</td>\n",
       "      <td>132</td>\n",
       "      <td>320</td>\n",
       "      <td>0</td>\n",
       "      <td>3172</td>\n",
       "      <td>10.000000</td>\n",
       "      <td>31</td>\n",
       "      <td>115</td>\n",
       "      <td>8</td>\n",
       "      <td>472.000000</td>\n",
       "      <td>23000.000000</td>\n",
       "      <td>32989687.000000</td>\n",
       "      <td>6919481</td>\n",
       "      <td>250.000000</td>\n",
       "      <td>9.000000</td>\n",
       "      <td>2.000000</td>\n",
       "      <td>201507</td>\n",
       "      <td>116</td>\n",
       "      <td>46014</td>\n",
       "      <td>14495</td>\n",
       "      <td>2005</td>\n",
       "      <td>123</td>\n",
       "      <td>247779</td>\n",
       "      <td>201412</td>\n",
       "      <td>201507</td>\n",
       "    </tr>\n",
       "    <tr>\n",
       "      <th>15</th>\n",
       "      <td>90</td>\n",
       "      <td>59106.000000</td>\n",
       "      <td>0.000000</td>\n",
       "      <td>170</td>\n",
       "      <td>330</td>\n",
       "      <td>0</td>\n",
       "      <td>2616</td>\n",
       "      <td>10.000000</td>\n",
       "      <td>192</td>\n",
       "      <td>93</td>\n",
       "      <td>8</td>\n",
       "      <td>1102.000000</td>\n",
       "      <td>40000.000000</td>\n",
       "      <td>95511377.000000</td>\n",
       "      <td>39239775</td>\n",
       "      <td>455.000000</td>\n",
       "      <td>10.000000</td>\n",
       "      <td>3.000000</td>\n",
       "      <td>201409</td>\n",
       "      <td>88</td>\n",
       "      <td>77456</td>\n",
       "      <td>34000</td>\n",
       "      <td>2007</td>\n",
       "      <td>89</td>\n",
       "      <td>726693</td>\n",
       "      <td>201408</td>\n",
       "      <td>201409</td>\n",
       "    </tr>\n",
       "    <tr>\n",
       "      <th>17</th>\n",
       "      <td>93</td>\n",
       "      <td>58478.000000</td>\n",
       "      <td>0.000000</td>\n",
       "      <td>140</td>\n",
       "      <td>320</td>\n",
       "      <td>0</td>\n",
       "      <td>3172</td>\n",
       "      <td>10.000000</td>\n",
       "      <td>66</td>\n",
       "      <td>90</td>\n",
       "      <td>8</td>\n",
       "      <td>975.000000</td>\n",
       "      <td>40000.000000</td>\n",
       "      <td>95511377.000000</td>\n",
       "      <td>911375872</td>\n",
       "      <td>450.000000</td>\n",
       "      <td>10.000000</td>\n",
       "      <td>3.000000</td>\n",
       "      <td>201901</td>\n",
       "      <td>89</td>\n",
       "      <td>89443</td>\n",
       "      <td>39336</td>\n",
       "      <td>2012</td>\n",
       "      <td>90</td>\n",
       "      <td>373187</td>\n",
       "      <td>201811</td>\n",
       "      <td>201812</td>\n",
       "    </tr>\n",
       "    <tr>\n",
       "      <th>18</th>\n",
       "      <td>98</td>\n",
       "      <td>52936.000000</td>\n",
       "      <td>0.000000</td>\n",
       "      <td>130</td>\n",
       "      <td>320</td>\n",
       "      <td>0</td>\n",
       "      <td>3289</td>\n",
       "      <td>50.000000</td>\n",
       "      <td>126</td>\n",
       "      <td>97</td>\n",
       "      <td>8</td>\n",
       "      <td>1102.000000</td>\n",
       "      <td>21000.000000</td>\n",
       "      <td>93699239.000000</td>\n",
       "      <td>949467157</td>\n",
       "      <td>310.000000</td>\n",
       "      <td>5.000000</td>\n",
       "      <td>2.000000</td>\n",
       "      <td>201808</td>\n",
       "      <td>93</td>\n",
       "      <td>63585</td>\n",
       "      <td>10000</td>\n",
       "      <td>2011</td>\n",
       "      <td>97</td>\n",
       "      <td>130009</td>\n",
       "      <td>201804</td>\n",
       "      <td>201808</td>\n",
       "    </tr>\n",
       "  </tbody>\n",
       "</table>\n",
       "</div>"
      ],
      "text/plain": [
       "    vehicle_corrected_age  accumulated_depreciation_amt  projected_book_life  \\\n",
       "1                     102                  47657.000000             0.000000   \n",
       "2                      89                  53383.000000             0.000000   \n",
       "5                      89                  57999.000000             0.000000   \n",
       "6                      96                  55818.000000             0.000000   \n",
       "10                     81                  55153.000000             0.000000   \n",
       "12                     78                  74360.000000             0.000000   \n",
       "13                    125                  35800.000000             0.000000   \n",
       "15                     90                  59106.000000             0.000000   \n",
       "17                     93                  58478.000000             0.000000   \n",
       "18                     98                  52936.000000             0.000000   \n",
       "\n",
       "    vehicle_sam_class_cd  sam_summary_class_cd  vehicle_purchase_flg  \\\n",
       "1                    140                   320                     0   \n",
       "2                    170                   330                     0   \n",
       "5                    170                   330                     0   \n",
       "6                    170                   330                     0   \n",
       "10                   140                   320                     0   \n",
       "12                   140                   320                     0   \n",
       "13                   132                   320                     0   \n",
       "15                   170                   330                     0   \n",
       "17                   140                   320                     0   \n",
       "18                   130                   320                     0   \n",
       "\n",
       "    veh_domicle_location_cd  vehicle_disp_cond_cd  days_to_outservice  \\\n",
       "1                      2438             10.000000                   5   \n",
       "2                      2389             10.000000                  27   \n",
       "5                      3408             10.000000                 112   \n",
       "6                      2408             10.000000                  77   \n",
       "10                     2709             10.000000                   2   \n",
       "12                     3403             10.000000                  29   \n",
       "13                     3172             10.000000                  31   \n",
       "15                     2616             10.000000                 192   \n",
       "17                     3172             10.000000                  66   \n",
       "18                     3289             50.000000                 126   \n",
       "\n",
       "    vehicle_age  vehicle_gvw_class_cd  drive_tire_size_cd  rear_axle_capacity  \\\n",
       "1           100                     8          472.000000        40000.000000   \n",
       "2            88                     8         1102.000000        40000.000000   \n",
       "5            88                     8         1102.000000        40000.000000   \n",
       "6            92                     8         1102.000000        40000.000000   \n",
       "10           80                     8         1102.000000        40000.000000   \n",
       "12           77                     8         1373.000000        40000.000000   \n",
       "13          115                     8          472.000000        23000.000000   \n",
       "15           93                     8         1102.000000        40000.000000   \n",
       "17           90                     8          975.000000        40000.000000   \n",
       "18           97                     8         1102.000000        21000.000000   \n",
       "\n",
       "    transmission_model_id  engine_model_id  engine_horsepower  \\\n",
       "1         93345663.000000         54414256         380.000000   \n",
       "2         95511377.000000         39239775         455.000000   \n",
       "5         95511377.000000         39239775         455.000000   \n",
       "6         95511377.000000         39239775         455.000000   \n",
       "10       906583208.000000        393100654         400.000000   \n",
       "12       596876053.000000        952617676         455.000000   \n",
       "13        32989687.000000          6919481         250.000000   \n",
       "15        95511377.000000         39239775         455.000000   \n",
       "17        95511377.000000        911375872         450.000000   \n",
       "18        93699239.000000        949467157         310.000000   \n",
       "\n",
       "    transmission_speed_qn  axle_total_count  year_month_num  age_acpt  \\\n",
       "1               10.000000          3.000000          201401        93   \n",
       "2               10.000000          3.000000          201404        87   \n",
       "5               10.000000          3.000000          201401        88   \n",
       "6               10.000000          3.000000          201405        88   \n",
       "10              10.000000          3.000000          201608        67   \n",
       "12              10.000000          3.000000          201907        74   \n",
       "13               9.000000          2.000000          201507       116   \n",
       "15              10.000000          3.000000          201409        88   \n",
       "17              10.000000          3.000000          201901        89   \n",
       "18               5.000000          2.000000          201808        93   \n",
       "\n",
       "    net_vehicle_invest  proceeds  model_year  age_sale  odomoter_sale  \\\n",
       "1                68497     23000        2006       100         345180   \n",
       "2                67821     30499        2007        88         589129   \n",
       "5                72228     20000        2007        88         818626   \n",
       "6                75257     30000        2007        92         630302   \n",
       "10               93205     34402        2010        80         528325   \n",
       "12              114246     38250        2014        77         444063   \n",
       "13               46014     14495        2005       123         247779   \n",
       "15               77456     34000        2007        89         726693   \n",
       "17               89443     39336        2012        90         373187   \n",
       "18               63585     10000        2011        97         130009   \n",
       "\n",
       "    accpt_date_num  sale_date_num  \n",
       "1           201306         201401  \n",
       "2           201403         201404  \n",
       "5           201401         201401  \n",
       "6           201401         201405  \n",
       "10          201507         201608  \n",
       "12          201904         201907  \n",
       "13          201412         201507  \n",
       "15          201408         201409  \n",
       "17          201811         201812  \n",
       "18          201804         201808  "
      ]
     },
     "execution_count": 52,
     "metadata": {},
     "output_type": "execute_result"
    }
   ],
   "source": [
    "pd.set_option('display.max_columns', 500)\n",
    "print(df_num['vehicle_age'].max())\n",
    "df_num.head(10)"
   ]
  },
  {
   "cell_type": "code",
   "execution_count": null,
   "metadata": {},
   "outputs": [],
   "source": []
  },
  {
   "cell_type": "markdown",
   "metadata": {},
   "source": [
    "### Check Low Values"
   ]
  },
  {
   "cell_type": "markdown",
   "metadata": {},
   "source": [
    "#### First, remove odomoter_sale where it's equal to 11"
   ]
  },
  {
   "cell_type": "code",
   "execution_count": 53,
   "metadata": {},
   "outputs": [],
   "source": [
    "df_num = df_num[df_num.odomoter_sale != 11]"
   ]
  },
  {
   "cell_type": "markdown",
   "metadata": {},
   "source": [
    "**odomoter_sale**\n",
    "- Find all rows where in the miles are below 62,000\n",
    "- Replace the values with the mean of the mean of the bottom 1,000 rows"
   ]
  },
  {
   "cell_type": "code",
   "execution_count": 54,
   "metadata": {},
   "outputs": [
    {
     "name": "stdout",
     "output_type": "stream",
     "text": [
      "62541\n"
     ]
    }
   ],
   "source": [
    "ods_replace = round(df_num['odomoter_sale'].nsmallest(1000).mean())\n",
    "print(ods_replace)"
   ]
  },
  {
   "cell_type": "code",
   "execution_count": 55,
   "metadata": {},
   "outputs": [],
   "source": [
    "df_num.odomoter_sale[df_num.odomoter_sale <= 62000] = ods_replace"
   ]
  },
  {
   "cell_type": "code",
   "execution_count": 56,
   "metadata": {},
   "outputs": [
    {
     "name": "stdout",
     "output_type": "stream",
     "text": [
      "62035\n"
     ]
    },
    {
     "data": {
      "text/html": [
       "<div>\n",
       "<style scoped>\n",
       "    .dataframe tbody tr th:only-of-type {\n",
       "        vertical-align: middle;\n",
       "    }\n",
       "\n",
       "    .dataframe tbody tr th {\n",
       "        vertical-align: top;\n",
       "    }\n",
       "\n",
       "    .dataframe thead th {\n",
       "        text-align: right;\n",
       "    }\n",
       "</style>\n",
       "<table border=\"1\" class=\"dataframe\">\n",
       "  <thead>\n",
       "    <tr style=\"text-align: right;\">\n",
       "      <th></th>\n",
       "      <th>vehicle_corrected_age</th>\n",
       "      <th>accumulated_depreciation_amt</th>\n",
       "      <th>projected_book_life</th>\n",
       "      <th>vehicle_sam_class_cd</th>\n",
       "      <th>sam_summary_class_cd</th>\n",
       "      <th>vehicle_purchase_flg</th>\n",
       "      <th>veh_domicle_location_cd</th>\n",
       "      <th>vehicle_disp_cond_cd</th>\n",
       "      <th>days_to_outservice</th>\n",
       "      <th>vehicle_age</th>\n",
       "      <th>vehicle_gvw_class_cd</th>\n",
       "      <th>drive_tire_size_cd</th>\n",
       "      <th>rear_axle_capacity</th>\n",
       "      <th>transmission_model_id</th>\n",
       "      <th>engine_model_id</th>\n",
       "      <th>engine_horsepower</th>\n",
       "      <th>transmission_speed_qn</th>\n",
       "      <th>axle_total_count</th>\n",
       "      <th>year_month_num</th>\n",
       "      <th>age_acpt</th>\n",
       "      <th>net_vehicle_invest</th>\n",
       "      <th>proceeds</th>\n",
       "      <th>model_year</th>\n",
       "      <th>age_sale</th>\n",
       "      <th>odomoter_sale</th>\n",
       "      <th>accpt_date_num</th>\n",
       "      <th>sale_date_num</th>\n",
       "    </tr>\n",
       "  </thead>\n",
       "  <tbody>\n",
       "    <tr>\n",
       "      <th>1</th>\n",
       "      <td>102</td>\n",
       "      <td>47657.000000</td>\n",
       "      <td>0.000000</td>\n",
       "      <td>140</td>\n",
       "      <td>320</td>\n",
       "      <td>0</td>\n",
       "      <td>2438</td>\n",
       "      <td>10.000000</td>\n",
       "      <td>5</td>\n",
       "      <td>100</td>\n",
       "      <td>8</td>\n",
       "      <td>472.000000</td>\n",
       "      <td>40000.000000</td>\n",
       "      <td>93345663.000000</td>\n",
       "      <td>54414256</td>\n",
       "      <td>380.000000</td>\n",
       "      <td>10.000000</td>\n",
       "      <td>3.000000</td>\n",
       "      <td>201401</td>\n",
       "      <td>93</td>\n",
       "      <td>68497</td>\n",
       "      <td>23000</td>\n",
       "      <td>2006</td>\n",
       "      <td>100</td>\n",
       "      <td>345180</td>\n",
       "      <td>201306</td>\n",
       "      <td>201401</td>\n",
       "    </tr>\n",
       "    <tr>\n",
       "      <th>2</th>\n",
       "      <td>89</td>\n",
       "      <td>53383.000000</td>\n",
       "      <td>0.000000</td>\n",
       "      <td>170</td>\n",
       "      <td>330</td>\n",
       "      <td>0</td>\n",
       "      <td>2389</td>\n",
       "      <td>10.000000</td>\n",
       "      <td>27</td>\n",
       "      <td>88</td>\n",
       "      <td>8</td>\n",
       "      <td>1102.000000</td>\n",
       "      <td>40000.000000</td>\n",
       "      <td>95511377.000000</td>\n",
       "      <td>39239775</td>\n",
       "      <td>455.000000</td>\n",
       "      <td>10.000000</td>\n",
       "      <td>3.000000</td>\n",
       "      <td>201404</td>\n",
       "      <td>87</td>\n",
       "      <td>67821</td>\n",
       "      <td>30499</td>\n",
       "      <td>2007</td>\n",
       "      <td>88</td>\n",
       "      <td>589129</td>\n",
       "      <td>201403</td>\n",
       "      <td>201404</td>\n",
       "    </tr>\n",
       "    <tr>\n",
       "      <th>5</th>\n",
       "      <td>89</td>\n",
       "      <td>57999.000000</td>\n",
       "      <td>0.000000</td>\n",
       "      <td>170</td>\n",
       "      <td>330</td>\n",
       "      <td>0</td>\n",
       "      <td>3408</td>\n",
       "      <td>10.000000</td>\n",
       "      <td>112</td>\n",
       "      <td>88</td>\n",
       "      <td>8</td>\n",
       "      <td>1102.000000</td>\n",
       "      <td>40000.000000</td>\n",
       "      <td>95511377.000000</td>\n",
       "      <td>39239775</td>\n",
       "      <td>455.000000</td>\n",
       "      <td>10.000000</td>\n",
       "      <td>3.000000</td>\n",
       "      <td>201401</td>\n",
       "      <td>88</td>\n",
       "      <td>72228</td>\n",
       "      <td>20000</td>\n",
       "      <td>2007</td>\n",
       "      <td>88</td>\n",
       "      <td>818626</td>\n",
       "      <td>201401</td>\n",
       "      <td>201401</td>\n",
       "    </tr>\n",
       "    <tr>\n",
       "      <th>6</th>\n",
       "      <td>96</td>\n",
       "      <td>55818.000000</td>\n",
       "      <td>0.000000</td>\n",
       "      <td>170</td>\n",
       "      <td>330</td>\n",
       "      <td>0</td>\n",
       "      <td>2408</td>\n",
       "      <td>10.000000</td>\n",
       "      <td>77</td>\n",
       "      <td>92</td>\n",
       "      <td>8</td>\n",
       "      <td>1102.000000</td>\n",
       "      <td>40000.000000</td>\n",
       "      <td>95511377.000000</td>\n",
       "      <td>39239775</td>\n",
       "      <td>455.000000</td>\n",
       "      <td>10.000000</td>\n",
       "      <td>3.000000</td>\n",
       "      <td>201405</td>\n",
       "      <td>88</td>\n",
       "      <td>75257</td>\n",
       "      <td>30000</td>\n",
       "      <td>2007</td>\n",
       "      <td>92</td>\n",
       "      <td>630302</td>\n",
       "      <td>201401</td>\n",
       "      <td>201405</td>\n",
       "    </tr>\n",
       "    <tr>\n",
       "      <th>10</th>\n",
       "      <td>81</td>\n",
       "      <td>55153.000000</td>\n",
       "      <td>0.000000</td>\n",
       "      <td>140</td>\n",
       "      <td>320</td>\n",
       "      <td>0</td>\n",
       "      <td>2709</td>\n",
       "      <td>10.000000</td>\n",
       "      <td>2</td>\n",
       "      <td>80</td>\n",
       "      <td>8</td>\n",
       "      <td>1102.000000</td>\n",
       "      <td>40000.000000</td>\n",
       "      <td>906583208.000000</td>\n",
       "      <td>393100654</td>\n",
       "      <td>400.000000</td>\n",
       "      <td>10.000000</td>\n",
       "      <td>3.000000</td>\n",
       "      <td>201608</td>\n",
       "      <td>67</td>\n",
       "      <td>93205</td>\n",
       "      <td>34402</td>\n",
       "      <td>2010</td>\n",
       "      <td>80</td>\n",
       "      <td>528325</td>\n",
       "      <td>201507</td>\n",
       "      <td>201608</td>\n",
       "    </tr>\n",
       "    <tr>\n",
       "      <th>12</th>\n",
       "      <td>78</td>\n",
       "      <td>74360.000000</td>\n",
       "      <td>0.000000</td>\n",
       "      <td>140</td>\n",
       "      <td>320</td>\n",
       "      <td>0</td>\n",
       "      <td>3403</td>\n",
       "      <td>10.000000</td>\n",
       "      <td>29</td>\n",
       "      <td>77</td>\n",
       "      <td>8</td>\n",
       "      <td>1373.000000</td>\n",
       "      <td>40000.000000</td>\n",
       "      <td>596876053.000000</td>\n",
       "      <td>952617676</td>\n",
       "      <td>455.000000</td>\n",
       "      <td>10.000000</td>\n",
       "      <td>3.000000</td>\n",
       "      <td>201907</td>\n",
       "      <td>74</td>\n",
       "      <td>114246</td>\n",
       "      <td>38250</td>\n",
       "      <td>2014</td>\n",
       "      <td>77</td>\n",
       "      <td>444063</td>\n",
       "      <td>201904</td>\n",
       "      <td>201907</td>\n",
       "    </tr>\n",
       "    <tr>\n",
       "      <th>13</th>\n",
       "      <td>125</td>\n",
       "      <td>35800.000000</td>\n",
       "      <td>0.000000</td>\n",
       "      <td>132</td>\n",
       "      <td>320</td>\n",
       "      <td>0</td>\n",
       "      <td>3172</td>\n",
       "      <td>10.000000</td>\n",
       "      <td>31</td>\n",
       "      <td>115</td>\n",
       "      <td>8</td>\n",
       "      <td>472.000000</td>\n",
       "      <td>23000.000000</td>\n",
       "      <td>32989687.000000</td>\n",
       "      <td>6919481</td>\n",
       "      <td>250.000000</td>\n",
       "      <td>9.000000</td>\n",
       "      <td>2.000000</td>\n",
       "      <td>201507</td>\n",
       "      <td>116</td>\n",
       "      <td>46014</td>\n",
       "      <td>14495</td>\n",
       "      <td>2005</td>\n",
       "      <td>123</td>\n",
       "      <td>247779</td>\n",
       "      <td>201412</td>\n",
       "      <td>201507</td>\n",
       "    </tr>\n",
       "    <tr>\n",
       "      <th>15</th>\n",
       "      <td>90</td>\n",
       "      <td>59106.000000</td>\n",
       "      <td>0.000000</td>\n",
       "      <td>170</td>\n",
       "      <td>330</td>\n",
       "      <td>0</td>\n",
       "      <td>2616</td>\n",
       "      <td>10.000000</td>\n",
       "      <td>192</td>\n",
       "      <td>93</td>\n",
       "      <td>8</td>\n",
       "      <td>1102.000000</td>\n",
       "      <td>40000.000000</td>\n",
       "      <td>95511377.000000</td>\n",
       "      <td>39239775</td>\n",
       "      <td>455.000000</td>\n",
       "      <td>10.000000</td>\n",
       "      <td>3.000000</td>\n",
       "      <td>201409</td>\n",
       "      <td>88</td>\n",
       "      <td>77456</td>\n",
       "      <td>34000</td>\n",
       "      <td>2007</td>\n",
       "      <td>89</td>\n",
       "      <td>726693</td>\n",
       "      <td>201408</td>\n",
       "      <td>201409</td>\n",
       "    </tr>\n",
       "    <tr>\n",
       "      <th>17</th>\n",
       "      <td>93</td>\n",
       "      <td>58478.000000</td>\n",
       "      <td>0.000000</td>\n",
       "      <td>140</td>\n",
       "      <td>320</td>\n",
       "      <td>0</td>\n",
       "      <td>3172</td>\n",
       "      <td>10.000000</td>\n",
       "      <td>66</td>\n",
       "      <td>90</td>\n",
       "      <td>8</td>\n",
       "      <td>975.000000</td>\n",
       "      <td>40000.000000</td>\n",
       "      <td>95511377.000000</td>\n",
       "      <td>911375872</td>\n",
       "      <td>450.000000</td>\n",
       "      <td>10.000000</td>\n",
       "      <td>3.000000</td>\n",
       "      <td>201901</td>\n",
       "      <td>89</td>\n",
       "      <td>89443</td>\n",
       "      <td>39336</td>\n",
       "      <td>2012</td>\n",
       "      <td>90</td>\n",
       "      <td>373187</td>\n",
       "      <td>201811</td>\n",
       "      <td>201812</td>\n",
       "    </tr>\n",
       "    <tr>\n",
       "      <th>18</th>\n",
       "      <td>98</td>\n",
       "      <td>52936.000000</td>\n",
       "      <td>0.000000</td>\n",
       "      <td>130</td>\n",
       "      <td>320</td>\n",
       "      <td>0</td>\n",
       "      <td>3289</td>\n",
       "      <td>50.000000</td>\n",
       "      <td>126</td>\n",
       "      <td>97</td>\n",
       "      <td>8</td>\n",
       "      <td>1102.000000</td>\n",
       "      <td>21000.000000</td>\n",
       "      <td>93699239.000000</td>\n",
       "      <td>949467157</td>\n",
       "      <td>310.000000</td>\n",
       "      <td>5.000000</td>\n",
       "      <td>2.000000</td>\n",
       "      <td>201808</td>\n",
       "      <td>93</td>\n",
       "      <td>63585</td>\n",
       "      <td>10000</td>\n",
       "      <td>2011</td>\n",
       "      <td>97</td>\n",
       "      <td>130009</td>\n",
       "      <td>201804</td>\n",
       "      <td>201808</td>\n",
       "    </tr>\n",
       "  </tbody>\n",
       "</table>\n",
       "</div>"
      ],
      "text/plain": [
       "    vehicle_corrected_age  accumulated_depreciation_amt  projected_book_life  \\\n",
       "1                     102                  47657.000000             0.000000   \n",
       "2                      89                  53383.000000             0.000000   \n",
       "5                      89                  57999.000000             0.000000   \n",
       "6                      96                  55818.000000             0.000000   \n",
       "10                     81                  55153.000000             0.000000   \n",
       "12                     78                  74360.000000             0.000000   \n",
       "13                    125                  35800.000000             0.000000   \n",
       "15                     90                  59106.000000             0.000000   \n",
       "17                     93                  58478.000000             0.000000   \n",
       "18                     98                  52936.000000             0.000000   \n",
       "\n",
       "    vehicle_sam_class_cd  sam_summary_class_cd  vehicle_purchase_flg  \\\n",
       "1                    140                   320                     0   \n",
       "2                    170                   330                     0   \n",
       "5                    170                   330                     0   \n",
       "6                    170                   330                     0   \n",
       "10                   140                   320                     0   \n",
       "12                   140                   320                     0   \n",
       "13                   132                   320                     0   \n",
       "15                   170                   330                     0   \n",
       "17                   140                   320                     0   \n",
       "18                   130                   320                     0   \n",
       "\n",
       "    veh_domicle_location_cd  vehicle_disp_cond_cd  days_to_outservice  \\\n",
       "1                      2438             10.000000                   5   \n",
       "2                      2389             10.000000                  27   \n",
       "5                      3408             10.000000                 112   \n",
       "6                      2408             10.000000                  77   \n",
       "10                     2709             10.000000                   2   \n",
       "12                     3403             10.000000                  29   \n",
       "13                     3172             10.000000                  31   \n",
       "15                     2616             10.000000                 192   \n",
       "17                     3172             10.000000                  66   \n",
       "18                     3289             50.000000                 126   \n",
       "\n",
       "    vehicle_age  vehicle_gvw_class_cd  drive_tire_size_cd  rear_axle_capacity  \\\n",
       "1           100                     8          472.000000        40000.000000   \n",
       "2            88                     8         1102.000000        40000.000000   \n",
       "5            88                     8         1102.000000        40000.000000   \n",
       "6            92                     8         1102.000000        40000.000000   \n",
       "10           80                     8         1102.000000        40000.000000   \n",
       "12           77                     8         1373.000000        40000.000000   \n",
       "13          115                     8          472.000000        23000.000000   \n",
       "15           93                     8         1102.000000        40000.000000   \n",
       "17           90                     8          975.000000        40000.000000   \n",
       "18           97                     8         1102.000000        21000.000000   \n",
       "\n",
       "    transmission_model_id  engine_model_id  engine_horsepower  \\\n",
       "1         93345663.000000         54414256         380.000000   \n",
       "2         95511377.000000         39239775         455.000000   \n",
       "5         95511377.000000         39239775         455.000000   \n",
       "6         95511377.000000         39239775         455.000000   \n",
       "10       906583208.000000        393100654         400.000000   \n",
       "12       596876053.000000        952617676         455.000000   \n",
       "13        32989687.000000          6919481         250.000000   \n",
       "15        95511377.000000         39239775         455.000000   \n",
       "17        95511377.000000        911375872         450.000000   \n",
       "18        93699239.000000        949467157         310.000000   \n",
       "\n",
       "    transmission_speed_qn  axle_total_count  year_month_num  age_acpt  \\\n",
       "1               10.000000          3.000000          201401        93   \n",
       "2               10.000000          3.000000          201404        87   \n",
       "5               10.000000          3.000000          201401        88   \n",
       "6               10.000000          3.000000          201405        88   \n",
       "10              10.000000          3.000000          201608        67   \n",
       "12              10.000000          3.000000          201907        74   \n",
       "13               9.000000          2.000000          201507       116   \n",
       "15              10.000000          3.000000          201409        88   \n",
       "17              10.000000          3.000000          201901        89   \n",
       "18               5.000000          2.000000          201808        93   \n",
       "\n",
       "    net_vehicle_invest  proceeds  model_year  age_sale  odomoter_sale  \\\n",
       "1                68497     23000        2006       100         345180   \n",
       "2                67821     30499        2007        88         589129   \n",
       "5                72228     20000        2007        88         818626   \n",
       "6                75257     30000        2007        92         630302   \n",
       "10               93205     34402        2010        80         528325   \n",
       "12              114246     38250        2014        77         444063   \n",
       "13               46014     14495        2005       123         247779   \n",
       "15               77456     34000        2007        89         726693   \n",
       "17               89443     39336        2012        90         373187   \n",
       "18               63585     10000        2011        97         130009   \n",
       "\n",
       "    accpt_date_num  sale_date_num  \n",
       "1           201306         201401  \n",
       "2           201403         201404  \n",
       "5           201401         201401  \n",
       "6           201401         201405  \n",
       "10          201507         201608  \n",
       "12          201904         201907  \n",
       "13          201412         201507  \n",
       "15          201408         201409  \n",
       "17          201811         201812  \n",
       "18          201804         201808  "
      ]
     },
     "execution_count": 56,
     "metadata": {},
     "output_type": "execute_result"
    }
   ],
   "source": [
    "pd.set_option('display.max_columns', 500)\n",
    "print(df_num['odomoter_sale'].min())\n",
    "df_num.head(10)"
   ]
  },
  {
   "cell_type": "markdown",
   "metadata": {},
   "source": [
    "### Dealing with 0's as values"
   ]
  },
  {
   "cell_type": "code",
   "execution_count": 57,
   "metadata": {},
   "outputs": [
    {
     "name": "stdout",
     "output_type": "stream",
     "text": [
      "projected_book_life            99.957999\n",
      "vehicle_purchase_flg           99.827796\n",
      "days_to_outservice              6.833550\n",
      "sale_date_num                   0.000000\n",
      "rear_axle_capacity              0.000000\n",
      "accumulated_depreciation_amt    0.000000\n",
      "vehicle_sam_class_cd            0.000000\n",
      "sam_summary_class_cd            0.000000\n",
      "veh_domicle_location_cd         0.000000\n",
      "vehicle_disp_cond_cd            0.000000\n",
      "vehicle_age                     0.000000\n",
      "vehicle_gvw_class_cd            0.000000\n",
      "drive_tire_size_cd              0.000000\n",
      "transmission_model_id           0.000000\n",
      "accpt_date_num                  0.000000\n",
      "engine_model_id                 0.000000\n",
      "engine_horsepower               0.000000\n",
      "transmission_speed_qn           0.000000\n",
      "axle_total_count                0.000000\n",
      "year_month_num                  0.000000\n",
      "age_acpt                        0.000000\n",
      "net_vehicle_invest              0.000000\n",
      "proceeds                        0.000000\n",
      "model_year                      0.000000\n",
      "age_sale                        0.000000\n",
      "odomoter_sale                   0.000000\n",
      "vehicle_corrected_age           0.000000\n",
      "dtype: float64\n"
     ]
    }
   ],
   "source": [
    "with pd.option_context('display.max_rows', None, 'display.max_columns', None):  # more options can be specified also\n",
    "    #print(df.isnull().sum())\n",
    "    print((df_num.isin([0]).sum()/len(df)*100).sort_values(ascending=False))"
   ]
  },
  {
   "cell_type": "markdown",
   "metadata": {},
   "source": [
    "**Notes:**\n",
    "- equivalent_unit is assigned a weigth.\n",
    "  - Based on SAM class, update it. Find a similar SAM class and replace.\n",
    "- Drop the vehicle_purchase_flg, it's the same as vehicle_new_flg\n"
   ]
  },
  {
   "cell_type": "code",
   "execution_count": 58,
   "metadata": {},
   "outputs": [],
   "source": [
    "del df_num['vehicle_purchase_flg']"
   ]
  },
  {
   "cell_type": "code",
   "execution_count": 59,
   "metadata": {},
   "outputs": [
    {
     "name": "stdout",
     "output_type": "stream",
     "text": [
      "projected_book_life  -  23799  - ( 99.9706 %)\n",
      "days_to_outservice  -  1627  - ( 6.8344 %)\n"
     ]
    }
   ],
   "source": [
    "zero_values = df_num.columns[df_num.isin([0]).any().tolist()]\n",
    "#print(len(zero_values))\n",
    "for cols in zero_values: \n",
    "    print(cols, \" - \",df_num[cols].isin([0]).sum(), ' - (', round(df_num[cols].isin([0]).sum()/len(df_num[cols])*100,4),'%)')\n"
   ]
  },
  {
   "cell_type": "code",
   "execution_count": 60,
   "metadata": {},
   "outputs": [],
   "source": [
    "del df_num['projected_book_life']"
   ]
  },
  {
   "cell_type": "markdown",
   "metadata": {},
   "source": [
    "### Replace 0's with Mean"
   ]
  },
  {
   "cell_type": "code",
   "execution_count": 61,
   "metadata": {},
   "outputs": [
    {
     "name": "stdout",
     "output_type": "stream",
     "text": [
      "From discussion with the team, days_to_outservice can have 0 and it's perfectly valid,\n",
      "so we leave it in the data as is\n"
     ]
    }
   ],
   "source": [
    "# df_num['days_to_outservice']=df_num['days_to_outservice'].replace(0,df_num['days_to_outservice'].mean())\n",
    "print(\"From discussion with the team, days_to_outservice can have 0 and it's perfectly valid,\\nso we leave it in the data as is\")"
   ]
  },
  {
   "cell_type": "markdown",
   "metadata": {},
   "source": [
    "### Check Results"
   ]
  },
  {
   "cell_type": "code",
   "execution_count": 62,
   "metadata": {},
   "outputs": [
    {
     "name": "stdout",
     "output_type": "stream",
     "text": [
      "days_to_outservice  -  1627  - ( 6.8344 %)\n"
     ]
    }
   ],
   "source": [
    "zero_values = df_num.columns[df_num.isin([0]).any().tolist()]\n",
    "for cols in zero_values: \n",
    "    print(cols, \" - \",df_num[cols].isin([0]).sum(), ' - (', round(df_num[cols].isin([0]).sum()/len(df_num[cols])*100,4),'%)')\n"
   ]
  },
  {
   "cell_type": "code",
   "execution_count": 63,
   "metadata": {},
   "outputs": [
    {
     "name": "stdout",
     "output_type": "stream",
     "text": [
      "['vehicle_corrected_age', 'accumulated_depreciation_amt', 'vehicle_sam_class_cd', 'sam_summary_class_cd', 'veh_domicle_location_cd', 'vehicle_disp_cond_cd', 'days_to_outservice', 'vehicle_age', 'vehicle_gvw_class_cd', 'drive_tire_size_cd', 'rear_axle_capacity', 'transmission_model_id', 'engine_model_id', 'engine_horsepower', 'transmission_speed_qn', 'axle_total_count', 'year_month_num', 'age_acpt', 'net_vehicle_invest', 'proceeds', 'model_year', 'age_sale', 'odomoter_sale', 'accpt_date_num', 'sale_date_num']\n"
     ]
    }
   ],
   "source": [
    "print(df_num.columns.tolist())"
   ]
  },
  {
   "cell_type": "code",
   "execution_count": 64,
   "metadata": {},
   "outputs": [
    {
     "name": "stdout",
     "output_type": "stream",
     "text": [
      "['suspension_type_cd', 'transmission_manufacturer_cd', 'engine_manufacturer_cd', 'model_mfg', 'epa_tech_year', 'accpt_date_ts', 'year_month_ts', 'sale_date_ts']\n"
     ]
    }
   ],
   "source": [
    "print(df_cat.columns.tolist())"
   ]
  },
  {
   "cell_type": "markdown",
   "metadata": {},
   "source": [
    "## Analysis Numerical Variables"
   ]
  },
  {
   "cell_type": "markdown",
   "metadata": {},
   "source": [
    "### Review the Target Variable over Time"
   ]
  },
  {
   "cell_type": "code",
   "execution_count": 65,
   "metadata": {},
   "outputs": [
    {
     "data": {
      "image/png": "[encoded data removed]",
      "text/plain": [
       "<Figure size 1152x504 with 1 Axes>"
      ]
     },
     "metadata": {
      "needs_background": "light"
     },
     "output_type": "display_data"
    }
   ],
   "source": [
    "x = df['year_month_num']\n",
    "y = df['proceeds']\n",
    "\n",
    "\n",
    "# plot\n",
    "fig = plt.figure(constrained_layout=False,figsize=(16,7))\n",
    "plt.scatter(x,y)\n",
    "\n",
    "# beautify the x-labels\n",
    "plt.gcf().autofmt_xdate()\n",
    "\n",
    "plt.show()"
   ]
  },
  {
   "cell_type": "code",
   "execution_count": 66,
   "metadata": {},
   "outputs": [],
   "source": [
    "# from datetime import datetime\n",
    "# from dateutil.parser import parse \n",
    "\n",
    "# # Prepare data\n",
    "# #df[\"year_month\"] = pd.to_datetime(df['year_month'], dayfirst=True).dt.strftime('%Y-%m')\n",
    "\n",
    "# df['year'] = [parse(d).year for d in pd.to_datetime(df['year_month'], dayfirst=True).dt.strftime('%Y-%m')]\n",
    "# df['month'] = [parse(d).strftime('%b') for d in pd.to_datetime(df['year_month'], dayfirst=True).dt.strftime('%Y-%m')]\n",
    "# years = df['year'].unique()\n",
    "\n",
    "# # Draw Plot\n",
    "# #mycolors = ['tab:red', 'tab:blue', 'tab:green', 'tab:orange', 'tab:brown', 'tab:grey', 'tab:pink', 'tab:olive', 'deeppink', 'steelblue', 'firebrick', 'mediumseagreen']      \n",
    "# mycolors = ['tab:red', 'tab:blue', 'tab:green', 'tab:orange', 'tab:brown', 'tab:grey']\n",
    "# plt.figure(figsize=(16,10), dpi= 80)\n",
    "\n",
    "# for i, y in enumerate(years):\n",
    "#     plt.plot('month', 'traffic', data=df.loc[df.year==y, :], color=mycolors[i], label=y)\n",
    "#     plt.text(df.loc[df.year==y, :].shape[0]-.9, df.loc[df.year==y, 'traffic'][-1:].values[0], y, fontsize=12, color=mycolors[i])\n",
    "\n",
    "# # Decoration\n",
    "# plt.ylim(50,750)\n",
    "# plt.xlim(-0.3, 11)\n",
    "# plt.ylabel('$Air Traffic$')\n",
    "# plt.yticks(fontsize=12, alpha=.7)\n",
    "# plt.title(\"Monthly Seasonal Plot: Air Passengers Traffic (1949 - 1969)\", fontsize=22)\n",
    "# plt.grid(axis='y', alpha=.3)\n",
    "\n",
    "# # Remove borders\n",
    "# plt.gca().spines[\"top\"].set_alpha(0.0)    \n",
    "# plt.gca().spines[\"bottom\"].set_alpha(0.5)\n",
    "# plt.gca().spines[\"right\"].set_alpha(0.0)    \n",
    "# plt.gca().spines[\"left\"].set_alpha(0.5)   \n",
    "# # plt.legend(loc='upper right', ncol=2, fontsize=12)\n",
    "# plt.show()"
   ]
  },
  {
   "cell_type": "markdown",
   "metadata": {},
   "source": [
    "### Deal with high values"
   ]
  },
  {
   "cell_type": "markdown",
   "metadata": {},
   "source": [
    "The **interquartile range (IQR)**, also called the **midspread** or middle 50%, or technically **H-spread**, is a measure of statistical dispersion, being equal to the difference between 75th and 25th percentiles, or between upper and lower quartiles, IQR = Q3 − Q1.\n",
    "\n",
    "In other words, the IQR is the first quartile subtracted from the third quartile; these quartiles can be clearly seen on a box plot on the data.\n",
    "\n",
    "It is a measure of the dispersion similar to standard deviation or variance, but is much more robust against outliers."
   ]
  },
  {
   "cell_type": "code",
   "execution_count": 67,
   "metadata": {},
   "outputs": [
    {
     "name": "stdout",
     "output_type": "stream",
     "text": [
      "The Interquartile Range (IQR):\n",
      " axle_total_count                        0\n",
      "vehicle_purchase_flg                    0\n",
      "vehicle_disp_cond_cd                    0\n",
      "transmission_speed_qn                   0\n",
      "vehicle_gvw_class_cd                    0\n",
      "drive_tire_size_cd                      0\n",
      "rear_axle_capacity                      0\n",
      "projected_book_life                     4\n",
      "model_year                              4\n",
      "sam_summary_class_cd                   10\n",
      "age_sale                               25\n",
      "vehicle_age                            25\n",
      "age_acpt                               26\n",
      "vehicle_corrected_age                  26\n",
      "vehicle_sam_class_cd                   30\n",
      "engine_horsepower                      30\n",
      "days_to_outservice                     61\n",
      "accpt_date_num                        298\n",
      "sale_date_num                         300\n",
      "year_month_num                        300\n",
      "veh_domicle_location_cd               729\n",
      "proceeds                            13005\n",
      "accumulated_depreciation_amt        15505\n",
      "net_vehicle_invest                  24062\n",
      "odomoter_sale                      282797\n",
      "transmission_model_id            14196170\n",
      "engine_model_id                 295161114\n",
      "dtype: int64\n"
     ]
    }
   ],
   "source": [
    "pd.set_option('display.float_format', lambda x: '%.3f' % x)\n",
    "Q1 = df.quantile(0.25)\n",
    "Q3 = df.quantile(0.75)\n",
    "IQR = Q3 - Q1\n",
    "print(\"The Interquartile Range (IQR):\\n\", IQR.astype(int).sort_values())"
   ]
  },
  {
   "cell_type": "code",
   "execution_count": 68,
   "metadata": {},
   "outputs": [
    {
     "name": "stdout",
     "output_type": "stream",
     "text": [
      "Q3 - 75 32500.0\n",
      "Q2 - 50 25600.0\n",
      "Q1 - 25 19495.0\n"
     ]
    }
   ],
   "source": [
    "print(\"Q3 - 75\", df['proceeds'].quantile(0.75))\n",
    "print(\"Q2 - 50\", df['proceeds'].quantile(0.50))\n",
    "print(\"Q1 - 25\", df['proceeds'].quantile(0.25))"
   ]
  },
  {
   "cell_type": "code",
   "execution_count": 69,
   "metadata": {},
   "outputs": [
    {
     "data": {
      "image/png": "[encoded data removed]",
      "text/plain": [
       "<Figure size 1152x576 with 3 Axes>"
      ]
     },
     "metadata": {
      "needs_background": "light"
     },
     "output_type": "display_data"
    }
   ],
   "source": [
    "showFreqPlots('accumulated_depreciation_amt')"
   ]
  },
  {
   "cell_type": "code",
   "execution_count": 70,
   "metadata": {},
   "outputs": [
    {
     "data": {
      "image/png": "[encoded data removed]",
      "text/plain": [
       "<Figure size 1152x576 with 3 Axes>"
      ]
     },
     "metadata": {
      "needs_background": "light"
     },
     "output_type": "display_data"
    }
   ],
   "source": [
    "showFreqPlots('net_vehicle_invest')"
   ]
  },
  {
   "cell_type": "code",
   "execution_count": 71,
   "metadata": {},
   "outputs": [
    {
     "data": {
      "image/png": "[encoded data removed]",
      "text/plain": [
       "<Figure size 1152x576 with 3 Axes>"
      ]
     },
     "metadata": {
      "needs_background": "light"
     },
     "output_type": "display_data"
    }
   ],
   "source": [
    "showFreqPlots('odomoter_sale')"
   ]
  },
  {
   "cell_type": "code",
   "execution_count": 72,
   "metadata": {},
   "outputs": [
    {
     "data": {
      "image/png": "[encoded data removed]",
      "text/plain": [
       "<Figure size 1152x576 with 3 Axes>"
      ]
     },
     "metadata": {
      "needs_background": "light"
     },
     "output_type": "display_data"
    }
   ],
   "source": [
    "showFreqPlots('vehicle_age')"
   ]
  },
  {
   "cell_type": "code",
   "execution_count": 73,
   "metadata": {},
   "outputs": [
    {
     "data": {
      "image/png": "[encoded data removed]",
      "text/plain": [
       "<Figure size 1152x576 with 3 Axes>"
      ]
     },
     "metadata": {
      "needs_background": "light"
     },
     "output_type": "display_data"
    }
   ],
   "source": [
    "showFreqPlots('vehicle_corrected_age')"
   ]
  },
  {
   "cell_type": "code",
   "execution_count": 74,
   "metadata": {},
   "outputs": [],
   "source": [
    "del df_num['vehicle_corrected_age']"
   ]
  },
  {
   "cell_type": "code",
   "execution_count": 75,
   "metadata": {},
   "outputs": [
    {
     "data": {
      "image/png": "[encoded data removed]",
      "text/plain": [
       "<Figure size 1152x576 with 3 Axes>"
      ]
     },
     "metadata": {
      "needs_background": "light"
     },
     "output_type": "display_data"
    }
   ],
   "source": [
    "showFreqPlots('age_acpt') "
   ]
  },
  {
   "cell_type": "code",
   "execution_count": 76,
   "metadata": {},
   "outputs": [],
   "source": [
    "del df_num['age_acpt']"
   ]
  },
  {
   "cell_type": "code",
   "execution_count": 77,
   "metadata": {},
   "outputs": [
    {
     "data": {
      "image/png": "[encoded data removed]",
      "text/plain": [
       "<Figure size 1152x576 with 3 Axes>"
      ]
     },
     "metadata": {
      "needs_background": "light"
     },
     "output_type": "display_data"
    }
   ],
   "source": [
    "showFreqPlots('age_sale')"
   ]
  },
  {
   "cell_type": "code",
   "execution_count": 78,
   "metadata": {},
   "outputs": [],
   "source": [
    "del df_num['age_sale']"
   ]
  },
  {
   "cell_type": "markdown",
   "metadata": {},
   "source": [
    "## Analysis Categorical Variables"
   ]
  },
  {
   "cell_type": "code",
   "execution_count": 79,
   "metadata": {},
   "outputs": [],
   "source": [
    "## Frequency Distribution of Values\n",
    "def CatVarValueDistribution(colname):\n",
    "    pd.options.display.max_rows = 1000\n",
    "    model_count = df_cat[colname].value_counts(dropna=True, sort=True)\n",
    "    for index, val in model_count.iteritems():\n",
    "        print (index, val)"
   ]
  },
  {
   "cell_type": "markdown",
   "metadata": {},
   "source": [
    "### Binning"
   ]
  },
  {
   "cell_type": "markdown",
   "metadata": {},
   "source": [
    "#### model_mfg"
   ]
  },
  {
   "cell_type": "code",
   "execution_count": 80,
   "metadata": {},
   "outputs": [],
   "source": [
    "def BinCateValues(colname,limit):\n",
    "    main_models = []\n",
    "    model_count = df_cat[colname].value_counts(dropna=True, sort=True)\n",
    "    for index, val in model_count.iteritems():\n",
    "        if val >= limit:\n",
    "            main_models.append(index)\n",
    "    # Rename all the other values not in the list to \"OTHER\"        \n",
    "    df_cat.loc[~df_cat[colname].isin(main_models), colname] = \"OTHER\"\n",
    "    \n",
    "    pd.options.display.max_rows = 1000\n",
    "    model_count = df_cat[colname].value_counts(dropna=True, sort=True)\n",
    "    for index, val in model_count.iteritems():\n",
    "        print (index, val)"
   ]
  },
  {
   "cell_type": "code",
   "execution_count": 81,
   "metadata": {},
   "outputs": [
    {
     "name": "stdout",
     "output_type": "stream",
     "text": [
      "FRTL 17303\n",
      "INTL 4766\n",
      "VOLV 681\n",
      "OTTA 292\n",
      "KENW 279\n",
      "MACK 222\n",
      "STRL 160\n",
      "PBLT 98\n",
      "CAPA 5\n",
      "HEND 1\n",
      "WEST 1\n",
      "FCCC 1\n"
     ]
    }
   ],
   "source": [
    "CatVarValueDistribution('model_mfg')"
   ]
  },
  {
   "cell_type": "code",
   "execution_count": 82,
   "metadata": {},
   "outputs": [
    {
     "name": "stdout",
     "output_type": "stream",
     "text": [
      "FRTL 17303\n",
      "INTL 4766\n",
      "OTHER 1740\n"
     ]
    }
   ],
   "source": [
    "BinCateValues('model_mfg',1000)"
   ]
  },
  {
   "cell_type": "code",
   "execution_count": 83,
   "metadata": {},
   "outputs": [
    {
     "data": {
      "image/png": "[encoded data removed]",
      "text/plain": [
       "<Figure size 1152x504 with 1 Axes>"
      ]
     },
     "metadata": {
      "needs_background": "light"
     },
     "output_type": "display_data"
    }
   ],
   "source": [
    "#Check the results visually again\n",
    "mod_df = df_cat[\"model_mfg\"].value_counts(dropna=True, sort=True)\n",
    "ax = mod_df.plot.bar(figsize=(16,7))\n",
    "ax.set_xlabel(\"model_mfg\")\n",
    "ax.set_ylabel(\"Number of insstances in the data\")\n",
    "\n",
    "plt.show()"
   ]
  },
  {
   "cell_type": "code",
   "execution_count": 84,
   "metadata": {},
   "outputs": [
    {
     "name": "stdout",
     "output_type": "stream",
     "text": [
      "A 22773\n",
      "L 965\n",
      "T 71\n"
     ]
    }
   ],
   "source": [
    "CatVarValueDistribution('suspension_type_cd')"
   ]
  },
  {
   "cell_type": "code",
   "execution_count": 85,
   "metadata": {},
   "outputs": [
    {
     "name": "stdout",
     "output_type": "stream",
     "text": [
      "FULL 22155\n",
      "ALLI 1282\n",
      "DETR 143\n",
      "ROCK 115\n",
      "VOLV 74\n",
      "EATN 27\n",
      "MACK 12\n",
      "SPIC 1\n"
     ]
    }
   ],
   "source": [
    "CatVarValueDistribution('transmission_manufacturer_cd')"
   ]
  },
  {
   "cell_type": "code",
   "execution_count": 86,
   "metadata": {},
   "outputs": [
    {
     "name": "stdout",
     "output_type": "stream",
     "text": [
      "FULL 22155\n",
      "ALLI 1282\n",
      "OTHER 372\n"
     ]
    }
   ],
   "source": [
    "BinCateValues('transmission_manufacturer_cd',1000)"
   ]
  },
  {
   "cell_type": "code",
   "execution_count": 87,
   "metadata": {},
   "outputs": [
    {
     "name": "stdout",
     "output_type": "stream",
     "text": [
      "DETR 13722\n",
      "CUMM 6326\n",
      "CAT 2049\n",
      "INTL 1033\n",
      "MERC 265\n",
      "MACK 222\n",
      "VOLV 151\n",
      "PACC 23\n",
      "WEST 18\n"
     ]
    }
   ],
   "source": [
    "CatVarValueDistribution('engine_manufacturer_cd')"
   ]
  },
  {
   "cell_type": "code",
   "execution_count": 88,
   "metadata": {},
   "outputs": [
    {
     "name": "stdout",
     "output_type": "stream",
     "text": [
      "DETR 13722\n",
      "CUMM 6326\n",
      "CAT 2049\n",
      "INTL 1033\n",
      "OTHER 679\n"
     ]
    }
   ],
   "source": [
    "BinCateValues('engine_manufacturer_cd',1000)"
   ]
  },
  {
   "cell_type": "markdown",
   "metadata": {},
   "source": [
    "## Save Model Results to file"
   ]
  },
  {
   "cell_type": "code",
   "execution_count": 89,
   "metadata": {},
   "outputs": [],
   "source": [
    "df_cat.to_pickle('../../data/df_tractor_cat.pickle')\n",
    "df_num.to_pickle('../../data/df_tractor_num.pickle')"
   ]
  },
  {
   "cell_type": "code",
   "execution_count": 90,
   "metadata": {},
   "outputs": [],
   "source": [
    "# join into one dataframe\n",
    "df_main = pd.concat([df_num, df_cat.reindex(df_num.index)], axis=1)\n",
    "df_main.to_pickle('../../data/df_tractor.pickle')"
   ]
  },
  {
   "cell_type": "code",
   "execution_count": null,
   "metadata": {},
   "outputs": [],
   "source": []
  }
 ],
 "metadata": {
  "kernelspec": {
   "display_name": "Python 3",
   "language": "python",
   "name": "python3"
  },
  "language_info": {
   "codemirror_mode": {
    "name": "ipython",
    "version": 3
   },
   "file_extension": ".py",
   "mimetype": "text/x-python",
   "name": "python",
   "nbconvert_exporter": "python",
   "pygments_lexer": "ipython3",
   "version": "3.7.3"
  }
 },
 "nbformat": 4,
 "nbformat_minor": 2
}
