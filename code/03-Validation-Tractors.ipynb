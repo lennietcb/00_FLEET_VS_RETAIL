{
 "cells": [
  {
   "cell_type": "markdown",
   "metadata": {},
   "source": [
    "# Model Validation - Tractors\n",
    "<hr />"
   ]
  },
  {
   "cell_type": "markdown",
   "metadata": {},
   "source": [
    "This notebook covers the Validation steps for the Trucks Model.\n",
    "\n",
    "## Part 1: Cross Validation\n",
    "\n",
    "We start with a review of the validation error, followed by decomposing the error into three parts:\n",
    "- Bias\n",
    "- Variance\n",
    "- Noise\n",
    "\n",
    "**Methods used for Cross validation:**\n",
    "\n",
    "- Holdout Validation\n",
    "<img src=\"https://datavedas.com/wp-content/uploads/2018/04/image001.jpg\" width=\"400\" height=\"100%\" style=\"display: inline\">\n",
    "<br /><br /><br /><br />\n",
    "- K-Fold Cross Validation\n",
    "<img src=\"https://upload.wikimedia.org/wikipedia/commons/thumb/b/b5/K-fold_cross_validation_EN.svg/500px-K-fold_cross_validation_EN.svg.png\" width=\"400\" height=\"100%\"  style=\"display: inline\">\n",
    "<br /><br /><br /><br />\n",
    "- Repeated Random Test-Train Splits\n",
    "  - The same as with Holdout Validation, we split the data 50% / 50% and do that randomly 10 times, using the average between the 10 repeats as the final score.\n",
    "  \n",
    "<hr />\n",
    "\n",
    "## Part 2: Validate Model performance with different data samples\n",
    "\n",
    "For this section, we create different Validation Data Sets to see how well the model performs given different data conditions. \n",
    "\n",
    "This test includes:\n",
    "- **Seasonality:** Running the model against a specific 12 month year\n",
    "- **Outlier Performance:** How well the model performs when we have a significant amount of outliers (Large Variance in data)\n",
    "- **Change in Categorical Variable balance:** When certain categorial values change (such as Manufacturer), how well does the model predict against that change."
   ]
  },
  {
   "cell_type": "markdown",
   "metadata": {},
   "source": [
    "# Imports and Data Setup:\n",
    "<hr />"
   ]
  },
  {
   "cell_type": "code",
   "execution_count": 36,
   "metadata": {},
   "outputs": [],
   "source": [
    "# Import required libraries\n",
    "import pandas as pd\n",
    "import numpy as np \n",
    "import matplotlib.pyplot as plt\n",
    "import matplotlib.figure as figure\n",
    "import sklearn\n",
    "import pickle\n",
    "from statistics import variance \n",
    "\n",
    "# Import necessary modules\n",
    "from sklearn.model_selection import train_test_split\n",
    "from sklearn.metrics import mean_squared_error\n",
    "from math import sqrt\n",
    "from sklearn import model_selection\n",
    "\n",
    "from sklearn.preprocessing import StandardScaler, RobustScaler, OneHotEncoder\n",
    "from sklearn.linear_model import LogisticRegression\n",
    "from sklearn.model_selection import KFold, cross_val_score, cross_val_predict\n",
    "from sklearn.model_selection import LeaveOneOut\n",
    "from sklearn.model_selection import LeavePOut\n",
    "from sklearn.model_selection import ShuffleSplit\n",
    "from sklearn.model_selection import StratifiedKFold # --> Used for Stratification\n",
    "from sklearn.metrics import mean_absolute_error, mean_squared_error, r2_score\n",
    "import xgboost"
   ]
  },
  {
   "cell_type": "code",
   "execution_count": 37,
   "metadata": {
    "scrolled": true
   },
   "outputs": [
    {
     "name": "stdout",
     "output_type": "stream",
     "text": [
      "(23806, 43)\n"
     ]
    },
    {
     "data": {
      "text/html": [
       "<div>\n",
       "<style scoped>\n",
       "    .dataframe tbody tr th:only-of-type {\n",
       "        vertical-align: middle;\n",
       "    }\n",
       "\n",
       "    .dataframe tbody tr th {\n",
       "        vertical-align: top;\n",
       "    }\n",
       "\n",
       "    .dataframe thead th {\n",
       "        text-align: right;\n",
       "    }\n",
       "</style>\n",
       "<table border=\"1\" class=\"dataframe\">\n",
       "  <thead>\n",
       "    <tr style=\"text-align: right;\">\n",
       "      <th></th>\n",
       "      <th>count</th>\n",
       "      <th>mean</th>\n",
       "      <th>std</th>\n",
       "      <th>min</th>\n",
       "      <th>25%</th>\n",
       "      <th>50%</th>\n",
       "      <th>75%</th>\n",
       "      <th>max</th>\n",
       "    </tr>\n",
       "  </thead>\n",
       "  <tbody>\n",
       "    <tr>\n",
       "      <th>accumulated_depreciation_amt</th>\n",
       "      <td>23806.0</td>\n",
       "      <td>5.690575e+04</td>\n",
       "      <td>1.212066e+04</td>\n",
       "      <td>19546.0</td>\n",
       "      <td>48388.75</td>\n",
       "      <td>55085.0</td>\n",
       "      <td>6.389525e+04</td>\n",
       "      <td>149900.0</td>\n",
       "    </tr>\n",
       "    <tr>\n",
       "      <th>vehicle_sam_class_cd</th>\n",
       "      <td>23806.0</td>\n",
       "      <td>1.469003e+02</td>\n",
       "      <td>1.542932e+01</td>\n",
       "      <td>130.0</td>\n",
       "      <td>140.00</td>\n",
       "      <td>140.0</td>\n",
       "      <td>1.700000e+02</td>\n",
       "      <td>170.0</td>\n",
       "    </tr>\n",
       "    <tr>\n",
       "      <th>sam_summary_class_cd</th>\n",
       "      <td>23806.0</td>\n",
       "      <td>3.230383e+02</td>\n",
       "      <td>4.599202e+00</td>\n",
       "      <td>320.0</td>\n",
       "      <td>320.00</td>\n",
       "      <td>320.0</td>\n",
       "      <td>3.300000e+02</td>\n",
       "      <td>330.0</td>\n",
       "    </tr>\n",
       "    <tr>\n",
       "      <th>veh_domicle_location_cd</th>\n",
       "      <td>23806.0</td>\n",
       "      <td>2.748478e+03</td>\n",
       "      <td>3.961474e+02</td>\n",
       "      <td>1328.0</td>\n",
       "      <td>2443.00</td>\n",
       "      <td>2686.0</td>\n",
       "      <td>3.172000e+03</td>\n",
       "      <td>3452.0</td>\n",
       "    </tr>\n",
       "    <tr>\n",
       "      <th>vehicle_disp_cond_cd</th>\n",
       "      <td>23806.0</td>\n",
       "      <td>1.481013e+01</td>\n",
       "      <td>1.218373e+01</td>\n",
       "      <td>10.0</td>\n",
       "      <td>10.00</td>\n",
       "      <td>10.0</td>\n",
       "      <td>1.000000e+01</td>\n",
       "      <td>50.0</td>\n",
       "    </tr>\n",
       "    <tr>\n",
       "      <th>days_to_outservice</th>\n",
       "      <td>23806.0</td>\n",
       "      <td>6.361438e+01</td>\n",
       "      <td>5.451695e+01</td>\n",
       "      <td>0.0</td>\n",
       "      <td>26.00</td>\n",
       "      <td>50.0</td>\n",
       "      <td>8.700000e+01</td>\n",
       "      <td>295.0</td>\n",
       "    </tr>\n",
       "    <tr>\n",
       "      <th>vehicle_age</th>\n",
       "      <td>23806.0</td>\n",
       "      <td>9.293539e+01</td>\n",
       "      <td>1.731348e+01</td>\n",
       "      <td>30.0</td>\n",
       "      <td>83.00</td>\n",
       "      <td>94.0</td>\n",
       "      <td>1.080000e+02</td>\n",
       "      <td>115.0</td>\n",
       "    </tr>\n",
       "    <tr>\n",
       "      <th>vehicle_gvw_class_cd</th>\n",
       "      <td>23806.0</td>\n",
       "      <td>7.982819e+00</td>\n",
       "      <td>2.199820e-01</td>\n",
       "      <td>1.0</td>\n",
       "      <td>8.00</td>\n",
       "      <td>8.0</td>\n",
       "      <td>8.000000e+00</td>\n",
       "      <td>8.0</td>\n",
       "    </tr>\n",
       "    <tr>\n",
       "      <th>drive_tire_size_cd</th>\n",
       "      <td>23806.0</td>\n",
       "      <td>1.034222e+03</td>\n",
       "      <td>2.097760e+02</td>\n",
       "      <td>123.0</td>\n",
       "      <td>1102.00</td>\n",
       "      <td>1102.0</td>\n",
       "      <td>1.102000e+03</td>\n",
       "      <td>1446.0</td>\n",
       "    </tr>\n",
       "    <tr>\n",
       "      <th>rear_axle_capacity</th>\n",
       "      <td>23806.0</td>\n",
       "      <td>3.623876e+04</td>\n",
       "      <td>7.183857e+03</td>\n",
       "      <td>2300.0</td>\n",
       "      <td>40000.00</td>\n",
       "      <td>40000.0</td>\n",
       "      <td>4.000000e+04</td>\n",
       "      <td>48000.0</td>\n",
       "    </tr>\n",
       "    <tr>\n",
       "      <th>transmission_model_id</th>\n",
       "      <td>23806.0</td>\n",
       "      <td>1.139653e+08</td>\n",
       "      <td>1.369398e+08</td>\n",
       "      <td>3242.0</td>\n",
       "      <td>81315207.00</td>\n",
       "      <td>95511377.0</td>\n",
       "      <td>9.551138e+07</td>\n",
       "      <td>909157839.0</td>\n",
       "    </tr>\n",
       "    <tr>\n",
       "      <th>engine_model_id</th>\n",
       "      <td>23806.0</td>\n",
       "      <td>2.229723e+08</td>\n",
       "      <td>2.995924e+08</td>\n",
       "      <td>1298.0</td>\n",
       "      <td>38046204.00</td>\n",
       "      <td>53520842.0</td>\n",
       "      <td>3.332073e+08</td>\n",
       "      <td>996415284.0</td>\n",
       "    </tr>\n",
       "    <tr>\n",
       "      <th>engine_horsepower</th>\n",
       "      <td>23806.0</td>\n",
       "      <td>4.269638e+02</td>\n",
       "      <td>6.125778e+01</td>\n",
       "      <td>145.0</td>\n",
       "      <td>425.00</td>\n",
       "      <td>450.0</td>\n",
       "      <td>4.550000e+02</td>\n",
       "      <td>600.0</td>\n",
       "    </tr>\n",
       "    <tr>\n",
       "      <th>transmission_speed_qn</th>\n",
       "      <td>23806.0</td>\n",
       "      <td>9.829698e+00</td>\n",
       "      <td>1.383309e+00</td>\n",
       "      <td>3.0</td>\n",
       "      <td>10.00</td>\n",
       "      <td>10.0</td>\n",
       "      <td>1.000000e+01</td>\n",
       "      <td>18.0</td>\n",
       "    </tr>\n",
       "    <tr>\n",
       "      <th>axle_total_count</th>\n",
       "      <td>23806.0</td>\n",
       "      <td>2.760203e+00</td>\n",
       "      <td>4.274803e-01</td>\n",
       "      <td>2.0</td>\n",
       "      <td>3.00</td>\n",
       "      <td>3.0</td>\n",
       "      <td>3.000000e+00</td>\n",
       "      <td>4.0</td>\n",
       "    </tr>\n",
       "    <tr>\n",
       "      <th>year_month_num</th>\n",
       "      <td>23806.0</td>\n",
       "      <td>2.015988e+05</td>\n",
       "      <td>1.718916e+02</td>\n",
       "      <td>201311.0</td>\n",
       "      <td>201410.00</td>\n",
       "      <td>201604.0</td>\n",
       "      <td>2.017100e+05</td>\n",
       "      <td>201907.0</td>\n",
       "    </tr>\n",
       "    <tr>\n",
       "      <th>net_vehicle_invest</th>\n",
       "      <td>23806.0</td>\n",
       "      <td>8.012136e+04</td>\n",
       "      <td>1.748700e+04</td>\n",
       "      <td>38922.0</td>\n",
       "      <td>66593.50</td>\n",
       "      <td>77169.5</td>\n",
       "      <td>9.065500e+04</td>\n",
       "      <td>217909.0</td>\n",
       "    </tr>\n",
       "    <tr>\n",
       "      <th>proceeds</th>\n",
       "      <td>23806.0</td>\n",
       "      <td>2.608995e+04</td>\n",
       "      <td>9.968974e+03</td>\n",
       "      <td>600.0</td>\n",
       "      <td>19489.00</td>\n",
       "      <td>25600.0</td>\n",
       "      <td>3.250000e+04</td>\n",
       "      <td>91750.0</td>\n",
       "    </tr>\n",
       "    <tr>\n",
       "      <th>model_year</th>\n",
       "      <td>23806.0</td>\n",
       "      <td>2.008734e+03</td>\n",
       "      <td>2.694274e+00</td>\n",
       "      <td>1991.0</td>\n",
       "      <td>2007.00</td>\n",
       "      <td>2008.0</td>\n",
       "      <td>2.011000e+03</td>\n",
       "      <td>2018.0</td>\n",
       "    </tr>\n",
       "    <tr>\n",
       "      <th>odomoter_sale</th>\n",
       "      <td>23806.0</td>\n",
       "      <td>4.746393e+05</td>\n",
       "      <td>1.942029e+05</td>\n",
       "      <td>62035.0</td>\n",
       "      <td>337009.50</td>\n",
       "      <td>492785.5</td>\n",
       "      <td>6.197565e+05</td>\n",
       "      <td>1179701.0</td>\n",
       "    </tr>\n",
       "    <tr>\n",
       "      <th>accpt_date_num</th>\n",
       "      <td>23806.0</td>\n",
       "      <td>2.015548e+05</td>\n",
       "      <td>1.739615e+02</td>\n",
       "      <td>200907.0</td>\n",
       "      <td>201407.00</td>\n",
       "      <td>201510.0</td>\n",
       "      <td>2.017050e+05</td>\n",
       "      <td>201907.0</td>\n",
       "    </tr>\n",
       "    <tr>\n",
       "      <th>sale_date_num</th>\n",
       "      <td>23806.0</td>\n",
       "      <td>2.015979e+05</td>\n",
       "      <td>1.716952e+02</td>\n",
       "      <td>200912.0</td>\n",
       "      <td>201410.00</td>\n",
       "      <td>201604.0</td>\n",
       "      <td>2.017100e+05</td>\n",
       "      <td>201907.0</td>\n",
       "    </tr>\n",
       "    <tr>\n",
       "      <th>x0_A</th>\n",
       "      <td>23806.0</td>\n",
       "      <td>9.564816e-01</td>\n",
       "      <td>2.040253e-01</td>\n",
       "      <td>0.0</td>\n",
       "      <td>1.00</td>\n",
       "      <td>1.0</td>\n",
       "      <td>1.000000e+00</td>\n",
       "      <td>1.0</td>\n",
       "    </tr>\n",
       "    <tr>\n",
       "      <th>x0_L</th>\n",
       "      <td>23806.0</td>\n",
       "      <td>4.053600e-02</td>\n",
       "      <td>1.972168e-01</td>\n",
       "      <td>0.0</td>\n",
       "      <td>0.00</td>\n",
       "      <td>0.0</td>\n",
       "      <td>0.000000e+00</td>\n",
       "      <td>1.0</td>\n",
       "    </tr>\n",
       "    <tr>\n",
       "      <th>x0_T</th>\n",
       "      <td>23806.0</td>\n",
       "      <td>2.982441e-03</td>\n",
       "      <td>5.453138e-02</td>\n",
       "      <td>0.0</td>\n",
       "      <td>0.00</td>\n",
       "      <td>0.0</td>\n",
       "      <td>0.000000e+00</td>\n",
       "      <td>1.0</td>\n",
       "    </tr>\n",
       "    <tr>\n",
       "      <th>x1_ALLI</th>\n",
       "      <td>23806.0</td>\n",
       "      <td>5.385197e-02</td>\n",
       "      <td>2.257301e-01</td>\n",
       "      <td>0.0</td>\n",
       "      <td>0.00</td>\n",
       "      <td>0.0</td>\n",
       "      <td>0.000000e+00</td>\n",
       "      <td>1.0</td>\n",
       "    </tr>\n",
       "    <tr>\n",
       "      <th>x1_FULL</th>\n",
       "      <td>23806.0</td>\n",
       "      <td>9.305217e-01</td>\n",
       "      <td>2.542710e-01</td>\n",
       "      <td>0.0</td>\n",
       "      <td>1.00</td>\n",
       "      <td>1.0</td>\n",
       "      <td>1.000000e+00</td>\n",
       "      <td>1.0</td>\n",
       "    </tr>\n",
       "    <tr>\n",
       "      <th>x1_OTHER</th>\n",
       "      <td>23806.0</td>\n",
       "      <td>1.562631e-02</td>\n",
       "      <td>1.240273e-01</td>\n",
       "      <td>0.0</td>\n",
       "      <td>0.00</td>\n",
       "      <td>0.0</td>\n",
       "      <td>0.000000e+00</td>\n",
       "      <td>1.0</td>\n",
       "    </tr>\n",
       "    <tr>\n",
       "      <th>x2_CAT</th>\n",
       "      <td>23806.0</td>\n",
       "      <td>8.602873e-02</td>\n",
       "      <td>2.804124e-01</td>\n",
       "      <td>0.0</td>\n",
       "      <td>0.00</td>\n",
       "      <td>0.0</td>\n",
       "      <td>0.000000e+00</td>\n",
       "      <td>1.0</td>\n",
       "    </tr>\n",
       "    <tr>\n",
       "      <th>x2_CUMM</th>\n",
       "      <td>23806.0</td>\n",
       "      <td>2.657313e-01</td>\n",
       "      <td>4.417311e-01</td>\n",
       "      <td>0.0</td>\n",
       "      <td>0.00</td>\n",
       "      <td>0.0</td>\n",
       "      <td>1.000000e+00</td>\n",
       "      <td>1.0</td>\n",
       "    </tr>\n",
       "    <tr>\n",
       "      <th>x2_DETR</th>\n",
       "      <td>23806.0</td>\n",
       "      <td>5.763253e-01</td>\n",
       "      <td>4.941505e-01</td>\n",
       "      <td>0.0</td>\n",
       "      <td>0.00</td>\n",
       "      <td>1.0</td>\n",
       "      <td>1.000000e+00</td>\n",
       "      <td>1.0</td>\n",
       "    </tr>\n",
       "    <tr>\n",
       "      <th>x2_INTL</th>\n",
       "      <td>23806.0</td>\n",
       "      <td>4.339242e-02</td>\n",
       "      <td>2.037431e-01</td>\n",
       "      <td>0.0</td>\n",
       "      <td>0.00</td>\n",
       "      <td>0.0</td>\n",
       "      <td>0.000000e+00</td>\n",
       "      <td>1.0</td>\n",
       "    </tr>\n",
       "    <tr>\n",
       "      <th>x2_OTHER</th>\n",
       "      <td>23806.0</td>\n",
       "      <td>2.852222e-02</td>\n",
       "      <td>1.664628e-01</td>\n",
       "      <td>0.0</td>\n",
       "      <td>0.00</td>\n",
       "      <td>0.0</td>\n",
       "      <td>0.000000e+00</td>\n",
       "      <td>1.0</td>\n",
       "    </tr>\n",
       "    <tr>\n",
       "      <th>x3_FRTL</th>\n",
       "      <td>23806.0</td>\n",
       "      <td>7.267076e-01</td>\n",
       "      <td>4.456591e-01</td>\n",
       "      <td>0.0</td>\n",
       "      <td>0.00</td>\n",
       "      <td>1.0</td>\n",
       "      <td>1.000000e+00</td>\n",
       "      <td>1.0</td>\n",
       "    </tr>\n",
       "    <tr>\n",
       "      <th>x3_INTL</th>\n",
       "      <td>23806.0</td>\n",
       "      <td>2.002016e-01</td>\n",
       "      <td>4.001595e-01</td>\n",
       "      <td>0.0</td>\n",
       "      <td>0.00</td>\n",
       "      <td>0.0</td>\n",
       "      <td>0.000000e+00</td>\n",
       "      <td>1.0</td>\n",
       "    </tr>\n",
       "    <tr>\n",
       "      <th>x3_OTHER</th>\n",
       "      <td>23806.0</td>\n",
       "      <td>7.309082e-02</td>\n",
       "      <td>2.602910e-01</td>\n",
       "      <td>0.0</td>\n",
       "      <td>0.00</td>\n",
       "      <td>0.0</td>\n",
       "      <td>0.000000e+00</td>\n",
       "      <td>1.0</td>\n",
       "    </tr>\n",
       "    <tr>\n",
       "      <th>x4_2002</th>\n",
       "      <td>23806.0</td>\n",
       "      <td>1.604637e-02</td>\n",
       "      <td>1.256565e-01</td>\n",
       "      <td>0.0</td>\n",
       "      <td>0.00</td>\n",
       "      <td>0.0</td>\n",
       "      <td>0.000000e+00</td>\n",
       "      <td>1.0</td>\n",
       "    </tr>\n",
       "    <tr>\n",
       "      <th>x4_2004</th>\n",
       "      <td>23806.0</td>\n",
       "      <td>3.758296e-01</td>\n",
       "      <td>4.843465e-01</td>\n",
       "      <td>0.0</td>\n",
       "      <td>0.00</td>\n",
       "      <td>0.0</td>\n",
       "      <td>1.000000e+00</td>\n",
       "      <td>1.0</td>\n",
       "    </tr>\n",
       "    <tr>\n",
       "      <th>x4_2007</th>\n",
       "      <td>23806.0</td>\n",
       "      <td>3.047131e-01</td>\n",
       "      <td>4.602955e-01</td>\n",
       "      <td>0.0</td>\n",
       "      <td>0.00</td>\n",
       "      <td>0.0</td>\n",
       "      <td>1.000000e+00</td>\n",
       "      <td>1.0</td>\n",
       "    </tr>\n",
       "    <tr>\n",
       "      <th>x4_2010</th>\n",
       "      <td>23806.0</td>\n",
       "      <td>1.809208e-01</td>\n",
       "      <td>3.849606e-01</td>\n",
       "      <td>0.0</td>\n",
       "      <td>0.00</td>\n",
       "      <td>0.0</td>\n",
       "      <td>0.000000e+00</td>\n",
       "      <td>1.0</td>\n",
       "    </tr>\n",
       "    <tr>\n",
       "      <th>x4_2013</th>\n",
       "      <td>23806.0</td>\n",
       "      <td>3.515920e-02</td>\n",
       "      <td>1.841859e-01</td>\n",
       "      <td>0.0</td>\n",
       "      <td>0.00</td>\n",
       "      <td>0.0</td>\n",
       "      <td>0.000000e+00</td>\n",
       "      <td>1.0</td>\n",
       "    </tr>\n",
       "    <tr>\n",
       "      <th>x4_2014</th>\n",
       "      <td>23806.0</td>\n",
       "      <td>2.100311e-04</td>\n",
       "      <td>1.449123e-02</td>\n",
       "      <td>0.0</td>\n",
       "      <td>0.00</td>\n",
       "      <td>0.0</td>\n",
       "      <td>0.000000e+00</td>\n",
       "      <td>1.0</td>\n",
       "    </tr>\n",
       "    <tr>\n",
       "      <th>x4_UNKNOWN</th>\n",
       "      <td>23806.0</td>\n",
       "      <td>8.712089e-02</td>\n",
       "      <td>2.820181e-01</td>\n",
       "      <td>0.0</td>\n",
       "      <td>0.00</td>\n",
       "      <td>0.0</td>\n",
       "      <td>0.000000e+00</td>\n",
       "      <td>1.0</td>\n",
       "    </tr>\n",
       "  </tbody>\n",
       "</table>\n",
       "</div>"
      ],
      "text/plain": [
       "                                count          mean           std       min  \\\n",
       "accumulated_depreciation_amt  23806.0  5.690575e+04  1.212066e+04   19546.0   \n",
       "vehicle_sam_class_cd          23806.0  1.469003e+02  1.542932e+01     130.0   \n",
       "sam_summary_class_cd          23806.0  3.230383e+02  4.599202e+00     320.0   \n",
       "veh_domicle_location_cd       23806.0  2.748478e+03  3.961474e+02    1328.0   \n",
       "vehicle_disp_cond_cd          23806.0  1.481013e+01  1.218373e+01      10.0   \n",
       "days_to_outservice            23806.0  6.361438e+01  5.451695e+01       0.0   \n",
       "vehicle_age                   23806.0  9.293539e+01  1.731348e+01      30.0   \n",
       "vehicle_gvw_class_cd          23806.0  7.982819e+00  2.199820e-01       1.0   \n",
       "drive_tire_size_cd            23806.0  1.034222e+03  2.097760e+02     123.0   \n",
       "rear_axle_capacity            23806.0  3.623876e+04  7.183857e+03    2300.0   \n",
       "transmission_model_id         23806.0  1.139653e+08  1.369398e+08    3242.0   \n",
       "engine_model_id               23806.0  2.229723e+08  2.995924e+08    1298.0   \n",
       "engine_horsepower             23806.0  4.269638e+02  6.125778e+01     145.0   \n",
       "transmission_speed_qn         23806.0  9.829698e+00  1.383309e+00       3.0   \n",
       "axle_total_count              23806.0  2.760203e+00  4.274803e-01       2.0   \n",
       "year_month_num                23806.0  2.015988e+05  1.718916e+02  201311.0   \n",
       "net_vehicle_invest            23806.0  8.012136e+04  1.748700e+04   38922.0   \n",
       "proceeds                      23806.0  2.608995e+04  9.968974e+03     600.0   \n",
       "model_year                    23806.0  2.008734e+03  2.694274e+00    1991.0   \n",
       "odomoter_sale                 23806.0  4.746393e+05  1.942029e+05   62035.0   \n",
       "accpt_date_num                23806.0  2.015548e+05  1.739615e+02  200907.0   \n",
       "sale_date_num                 23806.0  2.015979e+05  1.716952e+02  200912.0   \n",
       "x0_A                          23806.0  9.564816e-01  2.040253e-01       0.0   \n",
       "x0_L                          23806.0  4.053600e-02  1.972168e-01       0.0   \n",
       "x0_T                          23806.0  2.982441e-03  5.453138e-02       0.0   \n",
       "x1_ALLI                       23806.0  5.385197e-02  2.257301e-01       0.0   \n",
       "x1_FULL                       23806.0  9.305217e-01  2.542710e-01       0.0   \n",
       "x1_OTHER                      23806.0  1.562631e-02  1.240273e-01       0.0   \n",
       "x2_CAT                        23806.0  8.602873e-02  2.804124e-01       0.0   \n",
       "x2_CUMM                       23806.0  2.657313e-01  4.417311e-01       0.0   \n",
       "x2_DETR                       23806.0  5.763253e-01  4.941505e-01       0.0   \n",
       "x2_INTL                       23806.0  4.339242e-02  2.037431e-01       0.0   \n",
       "x2_OTHER                      23806.0  2.852222e-02  1.664628e-01       0.0   \n",
       "x3_FRTL                       23806.0  7.267076e-01  4.456591e-01       0.0   \n",
       "x3_INTL                       23806.0  2.002016e-01  4.001595e-01       0.0   \n",
       "x3_OTHER                      23806.0  7.309082e-02  2.602910e-01       0.0   \n",
       "x4_2002                       23806.0  1.604637e-02  1.256565e-01       0.0   \n",
       "x4_2004                       23806.0  3.758296e-01  4.843465e-01       0.0   \n",
       "x4_2007                       23806.0  3.047131e-01  4.602955e-01       0.0   \n",
       "x4_2010                       23806.0  1.809208e-01  3.849606e-01       0.0   \n",
       "x4_2013                       23806.0  3.515920e-02  1.841859e-01       0.0   \n",
       "x4_2014                       23806.0  2.100311e-04  1.449123e-02       0.0   \n",
       "x4_UNKNOWN                    23806.0  8.712089e-02  2.820181e-01       0.0   \n",
       "\n",
       "                                      25%         50%           75%  \\\n",
       "accumulated_depreciation_amt     48388.75     55085.0  6.389525e+04   \n",
       "vehicle_sam_class_cd               140.00       140.0  1.700000e+02   \n",
       "sam_summary_class_cd               320.00       320.0  3.300000e+02   \n",
       "veh_domicle_location_cd           2443.00      2686.0  3.172000e+03   \n",
       "vehicle_disp_cond_cd                10.00        10.0  1.000000e+01   \n",
       "days_to_outservice                  26.00        50.0  8.700000e+01   \n",
       "vehicle_age                         83.00        94.0  1.080000e+02   \n",
       "vehicle_gvw_class_cd                 8.00         8.0  8.000000e+00   \n",
       "drive_tire_size_cd                1102.00      1102.0  1.102000e+03   \n",
       "rear_axle_capacity               40000.00     40000.0  4.000000e+04   \n",
       "transmission_model_id         81315207.00  95511377.0  9.551138e+07   \n",
       "engine_model_id               38046204.00  53520842.0  3.332073e+08   \n",
       "engine_horsepower                  425.00       450.0  4.550000e+02   \n",
       "transmission_speed_qn               10.00        10.0  1.000000e+01   \n",
       "axle_total_count                     3.00         3.0  3.000000e+00   \n",
       "year_month_num                  201410.00    201604.0  2.017100e+05   \n",
       "net_vehicle_invest               66593.50     77169.5  9.065500e+04   \n",
       "proceeds                         19489.00     25600.0  3.250000e+04   \n",
       "model_year                        2007.00      2008.0  2.011000e+03   \n",
       "odomoter_sale                   337009.50    492785.5  6.197565e+05   \n",
       "accpt_date_num                  201407.00    201510.0  2.017050e+05   \n",
       "sale_date_num                   201410.00    201604.0  2.017100e+05   \n",
       "x0_A                                 1.00         1.0  1.000000e+00   \n",
       "x0_L                                 0.00         0.0  0.000000e+00   \n",
       "x0_T                                 0.00         0.0  0.000000e+00   \n",
       "x1_ALLI                              0.00         0.0  0.000000e+00   \n",
       "x1_FULL                              1.00         1.0  1.000000e+00   \n",
       "x1_OTHER                             0.00         0.0  0.000000e+00   \n",
       "x2_CAT                               0.00         0.0  0.000000e+00   \n",
       "x2_CUMM                              0.00         0.0  1.000000e+00   \n",
       "x2_DETR                              0.00         1.0  1.000000e+00   \n",
       "x2_INTL                              0.00         0.0  0.000000e+00   \n",
       "x2_OTHER                             0.00         0.0  0.000000e+00   \n",
       "x3_FRTL                              0.00         1.0  1.000000e+00   \n",
       "x3_INTL                              0.00         0.0  0.000000e+00   \n",
       "x3_OTHER                             0.00         0.0  0.000000e+00   \n",
       "x4_2002                              0.00         0.0  0.000000e+00   \n",
       "x4_2004                              0.00         0.0  1.000000e+00   \n",
       "x4_2007                              0.00         0.0  1.000000e+00   \n",
       "x4_2010                              0.00         0.0  0.000000e+00   \n",
       "x4_2013                              0.00         0.0  0.000000e+00   \n",
       "x4_2014                              0.00         0.0  0.000000e+00   \n",
       "x4_UNKNOWN                           0.00         0.0  0.000000e+00   \n",
       "\n",
       "                                      max  \n",
       "accumulated_depreciation_amt     149900.0  \n",
       "vehicle_sam_class_cd                170.0  \n",
       "sam_summary_class_cd                330.0  \n",
       "veh_domicle_location_cd            3452.0  \n",
       "vehicle_disp_cond_cd                 50.0  \n",
       "days_to_outservice                  295.0  \n",
       "vehicle_age                         115.0  \n",
       "vehicle_gvw_class_cd                  8.0  \n",
       "drive_tire_size_cd                 1446.0  \n",
       "rear_axle_capacity                48000.0  \n",
       "transmission_model_id         909157839.0  \n",
       "engine_model_id               996415284.0  \n",
       "engine_horsepower                   600.0  \n",
       "transmission_speed_qn                18.0  \n",
       "axle_total_count                      4.0  \n",
       "year_month_num                   201907.0  \n",
       "net_vehicle_invest               217909.0  \n",
       "proceeds                          91750.0  \n",
       "model_year                         2018.0  \n",
       "odomoter_sale                   1179701.0  \n",
       "accpt_date_num                   201907.0  \n",
       "sale_date_num                    201907.0  \n",
       "x0_A                                  1.0  \n",
       "x0_L                                  1.0  \n",
       "x0_T                                  1.0  \n",
       "x1_ALLI                               1.0  \n",
       "x1_FULL                               1.0  \n",
       "x1_OTHER                              1.0  \n",
       "x2_CAT                                1.0  \n",
       "x2_CUMM                               1.0  \n",
       "x2_DETR                               1.0  \n",
       "x2_INTL                               1.0  \n",
       "x2_OTHER                              1.0  \n",
       "x3_FRTL                               1.0  \n",
       "x3_INTL                               1.0  \n",
       "x3_OTHER                              1.0  \n",
       "x4_2002                               1.0  \n",
       "x4_2004                               1.0  \n",
       "x4_2007                               1.0  \n",
       "x4_2010                               1.0  \n",
       "x4_2013                               1.0  \n",
       "x4_2014                               1.0  \n",
       "x4_UNKNOWN                            1.0  "
      ]
     },
     "execution_count": 37,
     "metadata": {},
     "output_type": "execute_result"
    }
   ],
   "source": [
    "# Import Data to use\n",
    "df = pd.read_pickle('../../data/df_tractorALL.pickle')\n",
    "print(df.shape)\n",
    "df.describe().transpose()\n"
   ]
  },
  {
   "cell_type": "code",
   "execution_count": 38,
   "metadata": {},
   "outputs": [
    {
     "data": {
      "text/plain": [
       "Index(['accumulated_depreciation_amt', 'vehicle_sam_class_cd',\n",
       "       'sam_summary_class_cd', 'veh_domicle_location_cd',\n",
       "       'vehicle_disp_cond_cd', 'days_to_outservice', 'vehicle_age',\n",
       "       'vehicle_gvw_class_cd', 'drive_tire_size_cd', 'rear_axle_capacity',\n",
       "       'transmission_model_id', 'engine_model_id', 'engine_horsepower',\n",
       "       'transmission_speed_qn', 'axle_total_count', 'year_month_num',\n",
       "       'net_vehicle_invest', 'proceeds', 'model_year', 'odomoter_sale',\n",
       "       'accpt_date_num', 'sale_date_num', 'x0_A', 'x0_L', 'x0_T', 'x1_ALLI',\n",
       "       'x1_FULL', 'x1_OTHER', 'x2_CAT', 'x2_CUMM', 'x2_DETR', 'x2_INTL',\n",
       "       'x2_OTHER', 'x3_FRTL', 'x3_INTL', 'x3_OTHER', 'x4_2002', 'x4_2004',\n",
       "       'x4_2007', 'x4_2010', 'x4_2013', 'x4_2014', 'x4_UNKNOWN'],\n",
       "      dtype='object')"
      ]
     },
     "execution_count": 38,
     "metadata": {},
     "output_type": "execute_result"
    }
   ],
   "source": [
    "df.columns"
   ]
  },
  {
   "cell_type": "code",
   "execution_count": 39,
   "metadata": {},
   "outputs": [],
   "source": [
    "# Import Model(s) to use\n",
    "filename = '../../models/tractorXGBoost_ALL.model'\n",
    "model_XGB = pickle.load(open(filename, 'rb'))\n",
    "\n",
    "filename = '../../models/tractorLGBMR_ALL.model'\n",
    "model_LGBMR = pickle.load(open(filename, 'rb'))\n",
    "\n",
    "filename = '../../models/tractorHGBR_ALL.model'\n",
    "model_HGBR = pickle.load(open(filename, 'rb'))\n"
   ]
  },
  {
   "cell_type": "code",
   "execution_count": 40,
   "metadata": {},
   "outputs": [
    {
     "data": {
      "text/plain": [
       "XGBRegressor(base_score=0.5, booster='gbtree', colsample_bylevel=1,\n",
       "             colsample_bynode=1, colsample_bytree=1, gamma=0,\n",
       "             importance_type='gain', learning_rate=0.07, max_delta_step=0,\n",
       "             max_depth=6, min_child_weight=1, missing=nan, n_estimators=500,\n",
       "             n_jobs=1, nthread=None, objective='reg:squarederror',\n",
       "             random_state=0, reg_alpha=0, reg_lambda=1, scale_pos_weight=1,\n",
       "             seed=None, silent=None, subsample=0.5, tree_method='auto',\n",
       "             verbosity=1)"
      ]
     },
     "execution_count": 40,
     "metadata": {},
     "output_type": "execute_result"
    }
   ],
   "source": [
    "model_XGB"
   ]
  },
  {
   "cell_type": "code",
   "execution_count": 41,
   "metadata": {},
   "outputs": [
    {
     "data": {
      "text/plain": [
       "LGBMRegressor(bagging_fraction=0.8, bagging_freq=15, boosting_type='gbdt',\n",
       "              class_weight=None, colsample_bytree=1.0, feature_fraction=0.5,\n",
       "              importance_type='split', is_unbalance=True, learning_rate=0.1,\n",
       "              max_depth=8, min_child_samples=20, min_child_weight=0.001,\n",
       "              min_split_gain=0.0, n_estimators=400, n_jobs=-1, num_leaves=60,\n",
       "              objective=None, random_state=None, reg_alpha=0.0, reg_lambda=0.0,\n",
       "              scoring='neg_mean_squared_error', silent=True, subsample=1.0,\n",
       "              subsample_for_bin=200000, subsample_freq=0)"
      ]
     },
     "execution_count": 41,
     "metadata": {},
     "output_type": "execute_result"
    }
   ],
   "source": [
    "model_LGBMR"
   ]
  },
  {
   "cell_type": "code",
   "execution_count": 42,
   "metadata": {},
   "outputs": [
    {
     "data": {
      "text/plain": [
       "HistGradientBoostingRegressor(l2_regularization=0.0, learning_rate=0.1,\n",
       "                              loss='least_squares', max_bins=256, max_depth=6,\n",
       "                              max_iter=100, max_leaf_nodes=31,\n",
       "                              min_samples_leaf=20, n_iter_no_change=None,\n",
       "                              random_state=None, scoring=None, tol=1e-07,\n",
       "                              validation_fraction=0.1, verbose=0)"
      ]
     },
     "execution_count": 42,
     "metadata": {},
     "output_type": "execute_result"
    }
   ],
   "source": [
    "model_HGBR"
   ]
  },
  {
   "cell_type": "markdown",
   "metadata": {},
   "source": [
    "## Data Splits and Setup"
   ]
  },
  {
   "cell_type": "markdown",
   "metadata": {},
   "source": [
    "### 1. Standard Data Split for Cross Validation"
   ]
  },
  {
   "cell_type": "code",
   "execution_count": 43,
   "metadata": {},
   "outputs": [],
   "source": [
    "#Original Model split with 66/33 for training and test. \n",
    "\n",
    "X = df.loc[:, df.columns != 'proceeds']\n",
    "y = df['proceeds'].values\n",
    "variables = df.columns[1:]"
   ]
  },
  {
   "cell_type": "markdown",
   "metadata": {},
   "source": [
    "### Outlier Validation Data:"
   ]
  },
  {
   "cell_type": "code",
   "execution_count": 44,
   "metadata": {},
   "outputs": [],
   "source": [
    "#    Split Data by year for the Validation Set.\n",
    "#    1. Split Data by year\n",
    "#    2. Plot each year to see the variance in data\n",
    "#    3. Pick two years as hold out (for validation) that have the most variance\n",
    "#    4. Save as validation data frames for use later\n",
    "\n"
   ]
  },
  {
   "cell_type": "markdown",
   "metadata": {},
   "source": [
    "# Part 1:\n",
    "<hr />"
   ]
  },
  {
   "cell_type": "markdown",
   "metadata": {},
   "source": [
    "### Setup Variables To Store Model Performance "
   ]
  },
  {
   "cell_type": "code",
   "execution_count": 45,
   "metadata": {},
   "outputs": [],
   "source": [
    "# model_XGB\n",
    "# model_LGBMR\n",
    "# model_HGBR\n",
    "\n",
    "MAE = {}\n",
    "MSE = {}\n",
    "SCORE = {}\n"
   ]
  },
  {
   "cell_type": "code",
   "execution_count": 46,
   "metadata": {},
   "outputs": [],
   "source": [
    "# show the inputs and predicted outputs\n",
    "def showPredVSActual(y_test,y_new,num):\n",
    "    for i in range(num):\n",
    "        print('Original: ${}\\tPredicted: ${}\\tError: {}%'.format(y_test[i], \n",
    "                                                          round(y_new[i]),\n",
    "                                                          round((y_test[i]-y_new[i])/y_test[i]*100)))"
   ]
  },
  {
   "cell_type": "markdown",
   "metadata": {},
   "source": [
    "### XG Boost Cross Validation"
   ]
  },
  {
   "cell_type": "code",
   "execution_count": 47,
   "metadata": {},
   "outputs": [
    {
     "name": "stdout",
     "output_type": "stream",
     "text": [
      "Holdout Validation Accuracy:\t88.26%\n",
      "\n",
      "Original: $30000\tPredicted: $32619.0\tError: -9.0%\n",
      "Original: $16500\tPredicted: $15818.0\tError: 4.0%\n",
      "Original: $25800\tPredicted: $23831.0\tError: 8.0%\n",
      "Original: $55000\tPredicted: $33223.0\tError: 40.0%\n",
      "Original: $23500\tPredicted: $25278.0\tError: -8.0%\n",
      "Original: $50000\tPredicted: $48266.0\tError: 3.0%\n",
      "Original: $33000\tPredicted: $28633.0\tError: 13.0%\n",
      "Original: $39000\tPredicted: $37898.0\tError: 3.0%\n",
      "Original: $26500\tPredicted: $27380.0\tError: -3.0%\n",
      "Original: $23520\tPredicted: $23570.0\tError: -0.0%\n",
      "Original: $24250\tPredicted: $24941.0\tError: -3.0%\n",
      "Original: $35390\tPredicted: $29597.0\tError: 16.0%\n",
      "Original: $33625\tPredicted: $29195.0\tError: 13.0%\n",
      "Original: $40000\tPredicted: $33999.0\tError: 15.0%\n",
      "Original: $39411\tPredicted: $38391.0\tError: 3.0%\n",
      "Original: $27940\tPredicted: $29013.0\tError: -4.0%\n",
      "Original: $20000\tPredicted: $24896.0\tError: -24.0%\n",
      "Original: $45000\tPredicted: $42230.0\tError: 6.0%\n",
      "Original: $27000\tPredicted: $29746.0\tError: -10.0%\n",
      "Original: $38500\tPredicted: $37270.0\tError: 3.0%\n",
      "Original: $17405\tPredicted: $17713.0\tError: -2.0%\n",
      "Original: $8500\tPredicted: $6554.0\tError: 23.0%\n",
      "Original: $27000\tPredicted: $21527.0\tError: 20.0%\n",
      "Original: $21700\tPredicted: $23177.0\tError: -7.0%\n",
      "Original: $29000\tPredicted: $28854.0\tError: 1.0%\n",
      "Original: $27890\tPredicted: $30632.0\tError: -10.0%\n",
      "Original: $21750\tPredicted: $21341.0\tError: 2.0%\n",
      "Original: $18500\tPredicted: $18265.0\tError: 1.0%\n",
      "Original: $20200\tPredicted: $22697.0\tError: -12.0%\n",
      "Original: $32500\tPredicted: $28379.0\tError: 13.0%\n",
      "Original: $16000\tPredicted: $18410.0\tError: -15.0%\n",
      "Original: $31000\tPredicted: $30654.0\tError: 1.0%\n",
      "Original: $29905\tPredicted: $27991.0\tError: 6.0%\n",
      "Original: $11800\tPredicted: $5075.0\tError: 57.0%\n",
      "Original: $19500\tPredicted: $19828.0\tError: -2.0%\n",
      "Original: $46000\tPredicted: $36353.0\tError: 21.0%\n",
      "Original: $24900\tPredicted: $24865.0\tError: 0.0%\n",
      "Original: $36500\tPredicted: $40890.0\tError: -12.0%\n",
      "Original: $38116\tPredicted: $30066.0\tError: 21.0%\n",
      "Original: $21000\tPredicted: $20110.0\tError: 4.0%\n",
      "Original: $24600\tPredicted: $23401.0\tError: 5.0%\n",
      "Original: $30050\tPredicted: $28574.0\tError: 5.0%\n",
      "Original: $40000\tPredicted: $31847.0\tError: 20.0%\n",
      "Original: $31050\tPredicted: $30055.0\tError: 3.0%\n",
      "Original: $14055\tPredicted: $15149.0\tError: -8.0%\n",
      "Original: $28778\tPredicted: $29827.0\tError: -4.0%\n",
      "Original: $8000\tPredicted: $5836.0\tError: 27.0%\n",
      "Original: $24000\tPredicted: $27804.0\tError: -16.0%\n",
      "Original: $23900\tPredicted: $22580.0\tError: 6.0%\n",
      "Original: $21250\tPredicted: $28672.0\tError: -35.0%\n",
      "Original: $25000\tPredicted: $23275.0\tError: 7.0%\n",
      "Original: $11500\tPredicted: $14470.0\tError: -26.0%\n",
      "Original: $25498\tPredicted: $22523.0\tError: 12.0%\n",
      "Original: $38000\tPredicted: $37432.0\tError: 1.0%\n",
      "Original: $21750\tPredicted: $37370.0\tError: -72.0%\n",
      "Original: $19905\tPredicted: $21020.0\tError: -6.0%\n",
      "Original: $18250\tPredicted: $23470.0\tError: -29.0%\n",
      "Original: $28250\tPredicted: $28621.0\tError: -1.0%\n",
      "Original: $28000\tPredicted: $25826.0\tError: 8.0%\n",
      "Original: $6500\tPredicted: $8797.0\tError: -35.0%\n",
      "Original: $12905\tPredicted: $13012.0\tError: -1.0%\n",
      "Original: $10000\tPredicted: $12483.0\tError: -25.0%\n",
      "Original: $17500\tPredicted: $17931.0\tError: -2.0%\n",
      "Original: $21500\tPredicted: $28809.0\tError: -34.0%\n",
      "Original: $11500\tPredicted: $9499.0\tError: 17.0%\n",
      "Original: $32000\tPredicted: $33846.0\tError: -6.0%\n",
      "Original: $37000\tPredicted: $35154.0\tError: 5.0%\n",
      "Original: $29750\tPredicted: $30084.0\tError: -1.0%\n",
      "Original: $24500\tPredicted: $21979.0\tError: 10.0%\n",
      "Original: $40995\tPredicted: $36579.0\tError: 11.0%\n",
      "Original: $8000\tPredicted: $7787.0\tError: 3.0%\n",
      "Original: $21495\tPredicted: $24089.0\tError: -12.0%\n",
      "Original: $23500\tPredicted: $28074.0\tError: -19.0%\n",
      "Original: $32250\tPredicted: $26331.0\tError: 18.0%\n",
      "Original: $38300\tPredicted: $41158.0\tError: -7.0%\n",
      "Original: $38000\tPredicted: $44468.0\tError: -17.0%\n",
      "Original: $19995\tPredicted: $18742.0\tError: 6.0%\n",
      "Original: $31000\tPredicted: $28314.0\tError: 9.0%\n",
      "Original: $8500\tPredicted: $11625.0\tError: -37.0%\n",
      "Original: $16000\tPredicted: $16736.0\tError: -5.0%\n",
      "Original: $24500\tPredicted: $22101.0\tError: 10.0%\n",
      "Original: $27000\tPredicted: $29746.0\tError: -10.0%\n",
      "Original: $40000\tPredicted: $37308.0\tError: 7.0%\n",
      "Original: $35400\tPredicted: $32762.0\tError: 7.0%\n",
      "Original: $32331\tPredicted: $26661.0\tError: 18.0%\n",
      "Original: $30580\tPredicted: $32620.0\tError: -7.0%\n",
      "Original: $23500\tPredicted: $24716.0\tError: -5.0%\n",
      "Original: $9800\tPredicted: $13799.0\tError: -41.0%\n",
      "Original: $26405\tPredicted: $19284.0\tError: 27.0%\n",
      "Original: $12000\tPredicted: $12082.0\tError: -1.0%\n",
      "Original: $25250\tPredicted: $26271.0\tError: -4.0%\n",
      "Original: $24500\tPredicted: $22737.0\tError: 7.0%\n",
      "Original: $30000\tPredicted: $28987.0\tError: 3.0%\n",
      "Original: $31000\tPredicted: $29693.0\tError: 4.0%\n",
      "Original: $16000\tPredicted: $17299.0\tError: -8.0%\n",
      "Original: $22455\tPredicted: $21645.0\tError: 4.0%\n",
      "Original: $29495\tPredicted: $29544.0\tError: -0.0%\n",
      "Original: $16995\tPredicted: $16077.0\tError: 5.0%\n",
      "Original: $17000\tPredicted: $17939.0\tError: -6.0%\n",
      "Original: $28026\tPredicted: $26850.0\tError: 4.0%\n",
      "None\n",
      "CPU times: user 22.6 s, sys: 18.2 ms, total: 22.7 s\n",
      "Wall time: 22.6 s\n"
     ]
    }
   ],
   "source": [
    "%%time\n",
    "\"\"\"\n",
    "    Holdout Validation Approach\n",
    "\"\"\"\n",
    "# Evaluate using a train and a test set\n",
    "X_train, X_test, y_train, y_test = train_test_split(X, y, test_size=0.50, random_state=1234)\n",
    "\n",
    "model_XGB.fit(X_train, y_train)\n",
    "result = model_XGB.score(X_test, y_test)\n",
    "MAE[\"XGBoost_HVA\"] = mean_absolute_error(y_test, model_XGB.predict(X_test))\n",
    "MSE[\"XGBoost_HVA\"] = mean_squared_error(y_test, model_XGB.predict(X_test))\n",
    "SCORE[\"XGBoost_HVA\"] = model_XGB.score(X_test, y_test)\n",
    "y_new = model_XGB.predict(X_test)\n",
    "\n",
    "print(\"Holdout Validation Accuracy:\\t{}%\\n\".format(round(SCORE[\"XGBoost_HVA\"]*100.0,2)))\n",
    "print(showPredVSActual(y_test, y_new, 100))"
   ]
  },
  {
   "cell_type": "code",
   "execution_count": 48,
   "metadata": {},
   "outputs": [
    {
     "name": "stdout",
     "output_type": "stream",
     "text": [
      "KFold-5 Accuracy: 89.19% (std: 0.31%)\n",
      "CPU times: user 2min 36s, sys: 50.7 ms, total: 2min 36s\n",
      "Wall time: 2min 36s\n"
     ]
    }
   ],
   "source": [
    "%%time\n",
    "\"\"\"\n",
    "    K-fold Cross-Validation\n",
    "\"\"\"\n",
    "kfold = KFold(n_splits=5, random_state=1234)\n",
    "kfresult = cross_val_score(model_XGB, X, y, cv=kfold)\n",
    "SCORE[\"XGBoost_kf5\"] = np.mean(kfresult)\n",
    "print(\"KFold-5 Accuracy: {}% (std: {}%)\".format(round(np.mean(kfresult)*100.0,2), round(np.std(kfresult)*100.0,2)))"
   ]
  },
  {
   "cell_type": "code",
   "execution_count": 49,
   "metadata": {},
   "outputs": [
    {
     "name": "stdout",
     "output_type": "stream",
     "text": [
      "Shuffle Split Accuracy: 88.3% (std: 0.28%)\n",
      "CPU times: user 3min 14s, sys: 47 ms, total: 3min 14s\n",
      "Wall time: 3min 14s\n"
     ]
    }
   ],
   "source": [
    "%%time\n",
    "\"\"\"\n",
    "    Repeated Random Test-Train Splits\n",
    "\"\"\"\n",
    "kfold2 = ShuffleSplit(n_splits=10, test_size=0.50, random_state=1234)\n",
    "ssresult = cross_val_score(model_XGB, X, y, cv=kfold2)\n",
    "SCORE[\"XGBoost_SS\"] = np.mean(ssresult)\n",
    "print(\"Shuffle Split Accuracy: {}% (std: {}%)\".format(round(np.mean(ssresult)*100.0,2), round(np.std(ssresult)*100.0,2)))"
   ]
  },
  {
   "cell_type": "markdown",
   "metadata": {},
   "source": [
    "## Hist. Gradient Boosted Regression Validation"
   ]
  },
  {
   "cell_type": "code",
   "execution_count": 50,
   "metadata": {},
   "outputs": [
    {
     "name": "stdout",
     "output_type": "stream",
     "text": [
      "Holdout Validation Accuracy:\t85.93%\n",
      "\n",
      "Original: $30000\tPredicted: $32265.0\tError: -8.0%\n",
      "Original: $16500\tPredicted: $16878.0\tError: -2.0%\n",
      "Original: $25800\tPredicted: $24257.0\tError: 6.0%\n",
      "Original: $55000\tPredicted: $34265.0\tError: 38.0%\n",
      "Original: $23500\tPredicted: $25761.0\tError: -10.0%\n",
      "Original: $50000\tPredicted: $42846.0\tError: 14.0%\n",
      "Original: $33000\tPredicted: $29529.0\tError: 11.0%\n",
      "Original: $39000\tPredicted: $35803.0\tError: 8.0%\n",
      "Original: $26500\tPredicted: $27895.0\tError: -5.0%\n",
      "Original: $23520\tPredicted: $23396.0\tError: 1.0%\n",
      "Original: $24250\tPredicted: $24195.0\tError: 0.0%\n",
      "Original: $35390\tPredicted: $31952.0\tError: 10.0%\n",
      "Original: $33625\tPredicted: $26313.0\tError: 22.0%\n",
      "Original: $40000\tPredicted: $32294.0\tError: 19.0%\n",
      "Original: $39411\tPredicted: $39026.0\tError: 1.0%\n",
      "Original: $27940\tPredicted: $30412.0\tError: -9.0%\n",
      "Original: $20000\tPredicted: $25562.0\tError: -28.0%\n",
      "Original: $45000\tPredicted: $41246.0\tError: 8.0%\n",
      "Original: $27000\tPredicted: $28761.0\tError: -7.0%\n",
      "Original: $38500\tPredicted: $34700.0\tError: 10.0%\n",
      "Original: $17405\tPredicted: $16983.0\tError: 2.0%\n",
      "Original: $8500\tPredicted: $6316.0\tError: 26.0%\n",
      "Original: $27000\tPredicted: $22981.0\tError: 15.0%\n",
      "Original: $21700\tPredicted: $23527.0\tError: -8.0%\n",
      "Original: $29000\tPredicted: $28034.0\tError: 3.0%\n",
      "Original: $27890\tPredicted: $31263.0\tError: -12.0%\n",
      "Original: $21750\tPredicted: $23647.0\tError: -9.0%\n",
      "Original: $18500\tPredicted: $17415.0\tError: 6.0%\n",
      "Original: $20200\tPredicted: $22920.0\tError: -13.0%\n",
      "Original: $32500\tPredicted: $25869.0\tError: 20.0%\n",
      "Original: $16000\tPredicted: $17939.0\tError: -12.0%\n",
      "Original: $31000\tPredicted: $30458.0\tError: 2.0%\n",
      "Original: $29905\tPredicted: $29791.0\tError: 0.0%\n",
      "Original: $11800\tPredicted: $7726.0\tError: 35.0%\n",
      "Original: $19500\tPredicted: $21943.0\tError: -13.0%\n",
      "Original: $46000\tPredicted: $32490.0\tError: 29.0%\n",
      "Original: $24900\tPredicted: $26902.0\tError: -8.0%\n",
      "Original: $36500\tPredicted: $39484.0\tError: -8.0%\n",
      "Original: $38116\tPredicted: $30128.0\tError: 21.0%\n",
      "Original: $21000\tPredicted: $20422.0\tError: 3.0%\n",
      "Original: $24600\tPredicted: $24698.0\tError: -0.0%\n",
      "Original: $30050\tPredicted: $27986.0\tError: 7.0%\n",
      "Original: $40000\tPredicted: $30748.0\tError: 23.0%\n",
      "Original: $31050\tPredicted: $31264.0\tError: -1.0%\n",
      "Original: $14055\tPredicted: $14442.0\tError: -3.0%\n",
      "Original: $28778\tPredicted: $28884.0\tError: -0.0%\n",
      "Original: $8000\tPredicted: $6354.0\tError: 21.0%\n",
      "Original: $24000\tPredicted: $29986.0\tError: -25.0%\n",
      "Original: $23900\tPredicted: $24233.0\tError: -1.0%\n",
      "Original: $21250\tPredicted: $29508.0\tError: -39.0%\n",
      "Original: $25000\tPredicted: $24695.0\tError: 1.0%\n",
      "Original: $11500\tPredicted: $13225.0\tError: -15.0%\n",
      "Original: $25498\tPredicted: $20891.0\tError: 18.0%\n",
      "Original: $38000\tPredicted: $38181.0\tError: -0.0%\n",
      "Original: $21750\tPredicted: $36806.0\tError: -69.0%\n",
      "Original: $19905\tPredicted: $20894.0\tError: -5.0%\n",
      "Original: $18250\tPredicted: $22623.0\tError: -24.0%\n",
      "Original: $28250\tPredicted: $26173.0\tError: 7.0%\n",
      "Original: $28000\tPredicted: $26235.0\tError: 6.0%\n",
      "Original: $6500\tPredicted: $9820.0\tError: -51.0%\n",
      "Original: $12905\tPredicted: $12554.0\tError: 3.0%\n",
      "Original: $10000\tPredicted: $12084.0\tError: -21.0%\n",
      "Original: $17500\tPredicted: $16592.0\tError: 5.0%\n",
      "Original: $21500\tPredicted: $29022.0\tError: -35.0%\n",
      "Original: $11500\tPredicted: $8420.0\tError: 27.0%\n",
      "Original: $32000\tPredicted: $37800.0\tError: -18.0%\n",
      "Original: $37000\tPredicted: $36366.0\tError: 2.0%\n",
      "Original: $29750\tPredicted: $29045.0\tError: 2.0%\n",
      "Original: $24500\tPredicted: $25306.0\tError: -3.0%\n",
      "Original: $40995\tPredicted: $35906.0\tError: 12.0%\n",
      "Original: $8000\tPredicted: $8896.0\tError: -11.0%\n",
      "Original: $21495\tPredicted: $23324.0\tError: -9.0%\n",
      "Original: $23500\tPredicted: $26446.0\tError: -13.0%\n",
      "Original: $32250\tPredicted: $25157.0\tError: 22.0%\n",
      "Original: $38300\tPredicted: $42892.0\tError: -12.0%\n",
      "Original: $38000\tPredicted: $48402.0\tError: -27.0%\n",
      "Original: $19995\tPredicted: $18700.0\tError: 6.0%\n",
      "Original: $31000\tPredicted: $27276.0\tError: 12.0%\n",
      "Original: $8500\tPredicted: $14886.0\tError: -75.0%\n",
      "Original: $16000\tPredicted: $18100.0\tError: -13.0%\n",
      "Original: $24500\tPredicted: $23029.0\tError: 6.0%\n",
      "Original: $27000\tPredicted: $28086.0\tError: -4.0%\n",
      "Original: $40000\tPredicted: $35683.0\tError: 11.0%\n",
      "Original: $35400\tPredicted: $31573.0\tError: 11.0%\n",
      "Original: $32331\tPredicted: $25909.0\tError: 20.0%\n",
      "Original: $30580\tPredicted: $30595.0\tError: -0.0%\n",
      "Original: $23500\tPredicted: $23698.0\tError: -1.0%\n",
      "Original: $9800\tPredicted: $15861.0\tError: -62.0%\n",
      "Original: $26405\tPredicted: $21064.0\tError: 20.0%\n",
      "Original: $12000\tPredicted: $13624.0\tError: -14.0%\n",
      "Original: $25250\tPredicted: $26600.0\tError: -5.0%\n",
      "Original: $24500\tPredicted: $23508.0\tError: 4.0%\n",
      "Original: $30000\tPredicted: $29142.0\tError: 3.0%\n",
      "Original: $31000\tPredicted: $31019.0\tError: -0.0%\n",
      "Original: $16000\tPredicted: $16531.0\tError: -3.0%\n",
      "Original: $22455\tPredicted: $24458.0\tError: -9.0%\n",
      "Original: $29495\tPredicted: $29293.0\tError: 1.0%\n",
      "Original: $16995\tPredicted: $15031.0\tError: 12.0%\n",
      "Original: $17000\tPredicted: $17413.0\tError: -2.0%\n",
      "Original: $28026\tPredicted: $26439.0\tError: 6.0%\n",
      "None\n",
      "CPU times: user 1.15 s, sys: 7.07 ms, total: 1.16 s\n",
      "Wall time: 1.14 s\n"
     ]
    }
   ],
   "source": [
    "%%time\n",
    "\"\"\"\n",
    "    Holdout Validation Approach\n",
    "\"\"\"\n",
    "# Evaluate using a train and a test set\n",
    "X_train, X_test, y_train, y_test = train_test_split(X, y, test_size=0.50, random_state=1234)\n",
    "\n",
    "model_HGBR.fit(X_train, y_train)\n",
    "result = model_HGBR.score(X_test, y_test)\n",
    "MAE[\"HGBR_HVA\"] = mean_absolute_error(y_test, model_HGBR.predict(X_test))\n",
    "MSE[\"HGBR_HVA\"] = mean_squared_error(y_test, model_HGBR.predict(X_test))\n",
    "SCORE[\"HGBR_HVA\"] = model_HGBR.score(X_test, y_test)\n",
    "y_new = model_HGBR.predict(X_test)\n",
    "\n",
    "print(\"Holdout Validation Accuracy:\\t{}%\\n\".format(round(SCORE[\"HGBR_HVA\"]*100.0,2)))\n",
    "print(showPredVSActual(y_test, y_new, 100))"
   ]
  },
  {
   "cell_type": "code",
   "execution_count": 51,
   "metadata": {},
   "outputs": [
    {
     "name": "stdout",
     "output_type": "stream",
     "text": [
      "KFold-5 Accuracy: 86.49% (std: 0.48%)\n",
      "CPU times: user 6.05 s, sys: 77.9 ms, total: 6.13 s\n",
      "Wall time: 6.13 s\n"
     ]
    }
   ],
   "source": [
    "%%time\n",
    "\"\"\"\n",
    "    K-fold Cross-Validation\n",
    "\"\"\"\n",
    "kfold = KFold(n_splits=5, random_state=1234)\n",
    "kfresult = cross_val_score(model_HGBR, X, y, cv=kfold)\n",
    "SCORE[\"HGBR_kf5\"] = np.mean(kfresult)\n",
    "print(\"KFold-5 Accuracy: {}% (std: {}%)\".format(round(np.mean(kfresult)*100.0,2), round(np.std(kfresult)*100.0,2)))"
   ]
  },
  {
   "cell_type": "code",
   "execution_count": 52,
   "metadata": {},
   "outputs": [
    {
     "name": "stdout",
     "output_type": "stream",
     "text": [
      "Shuffle Split Accuracy: 85.98% (std: 0.25%)\n",
      "CPU times: user 10.3 s, sys: 199 ms, total: 10.5 s\n",
      "Wall time: 10.5 s\n"
     ]
    }
   ],
   "source": [
    "%%time\n",
    "\"\"\"\n",
    "    Repeated Random Test-Train Splits\n",
    "\"\"\"\n",
    "kfold2 = ShuffleSplit(n_splits=10, test_size=0.50, random_state=1234)\n",
    "ssresult = cross_val_score(model_HGBR, X, y, cv=kfold2)\n",
    "SCORE[\"HGBR_SS\"] = np.mean(ssresult)\n",
    "print(\"Shuffle Split Accuracy: {}% (std: {}%)\".format(round(np.mean(ssresult)*100.0,2), round(np.std(ssresult)*100.0,2)))"
   ]
  },
  {
   "cell_type": "code",
   "execution_count": null,
   "metadata": {},
   "outputs": [],
   "source": []
  },
  {
   "cell_type": "markdown",
   "metadata": {},
   "source": [
    "## Light GBM Validation"
   ]
  },
  {
   "cell_type": "code",
   "execution_count": 53,
   "metadata": {},
   "outputs": [
    {
     "name": "stdout",
     "output_type": "stream",
     "text": [
      "Holdout Validation Accuracy:\t88.47%\n",
      "\n",
      "Original: $30000\tPredicted: $32407.0\tError: -8.0%\n",
      "Original: $16500\tPredicted: $16391.0\tError: 1.0%\n",
      "Original: $25800\tPredicted: $24460.0\tError: 5.0%\n",
      "Original: $55000\tPredicted: $32898.0\tError: 40.0%\n",
      "Original: $23500\tPredicted: $24637.0\tError: -5.0%\n",
      "Original: $50000\tPredicted: $48258.0\tError: 3.0%\n",
      "Original: $33000\tPredicted: $29525.0\tError: 11.0%\n",
      "Original: $39000\tPredicted: $37393.0\tError: 4.0%\n",
      "Original: $26500\tPredicted: $28870.0\tError: -9.0%\n",
      "Original: $23520\tPredicted: $24516.0\tError: -4.0%\n",
      "Original: $24250\tPredicted: $25206.0\tError: -4.0%\n",
      "Original: $35390\tPredicted: $31768.0\tError: 10.0%\n",
      "Original: $33625\tPredicted: $25629.0\tError: 24.0%\n",
      "Original: $40000\tPredicted: $32095.0\tError: 20.0%\n",
      "Original: $39411\tPredicted: $35844.0\tError: 9.0%\n",
      "Original: $27940\tPredicted: $28402.0\tError: -2.0%\n",
      "Original: $20000\tPredicted: $25824.0\tError: -29.0%\n",
      "Original: $45000\tPredicted: $41286.0\tError: 8.0%\n",
      "Original: $27000\tPredicted: $29690.0\tError: -10.0%\n",
      "Original: $38500\tPredicted: $36222.0\tError: 6.0%\n",
      "Original: $17405\tPredicted: $17124.0\tError: 2.0%\n",
      "Original: $8500\tPredicted: $6605.0\tError: 22.0%\n",
      "Original: $27000\tPredicted: $23539.0\tError: 13.0%\n",
      "Original: $21700\tPredicted: $23218.0\tError: -7.0%\n",
      "Original: $29000\tPredicted: $29584.0\tError: -2.0%\n",
      "Original: $27890\tPredicted: $32072.0\tError: -15.0%\n",
      "Original: $21750\tPredicted: $21540.0\tError: 1.0%\n",
      "Original: $18500\tPredicted: $17763.0\tError: 4.0%\n",
      "Original: $20200\tPredicted: $24738.0\tError: -22.0%\n",
      "Original: $32500\tPredicted: $26412.0\tError: 19.0%\n",
      "Original: $16000\tPredicted: $16107.0\tError: -1.0%\n",
      "Original: $31000\tPredicted: $30051.0\tError: 3.0%\n",
      "Original: $29905\tPredicted: $27509.0\tError: 8.0%\n",
      "Original: $11800\tPredicted: $7550.0\tError: 36.0%\n",
      "Original: $19500\tPredicted: $22503.0\tError: -15.0%\n",
      "Original: $46000\tPredicted: $38635.0\tError: 16.0%\n",
      "Original: $24900\tPredicted: $24113.0\tError: 3.0%\n",
      "Original: $36500\tPredicted: $43108.0\tError: -18.0%\n",
      "Original: $38116\tPredicted: $30191.0\tError: 21.0%\n",
      "Original: $21000\tPredicted: $20922.0\tError: 0.0%\n",
      "Original: $24600\tPredicted: $24719.0\tError: -0.0%\n",
      "Original: $30050\tPredicted: $30841.0\tError: -3.0%\n",
      "Original: $40000\tPredicted: $32655.0\tError: 18.0%\n",
      "Original: $31050\tPredicted: $29884.0\tError: 4.0%\n",
      "Original: $14055\tPredicted: $14167.0\tError: -1.0%\n",
      "Original: $28778\tPredicted: $30196.0\tError: -5.0%\n",
      "Original: $8000\tPredicted: $7484.0\tError: 6.0%\n",
      "Original: $24000\tPredicted: $29243.0\tError: -22.0%\n",
      "Original: $23900\tPredicted: $24003.0\tError: -0.0%\n",
      "Original: $21250\tPredicted: $27470.0\tError: -29.0%\n",
      "Original: $25000\tPredicted: $22111.0\tError: 12.0%\n",
      "Original: $11500\tPredicted: $14213.0\tError: -24.0%\n",
      "Original: $25498\tPredicted: $23406.0\tError: 8.0%\n",
      "Original: $38000\tPredicted: $35279.0\tError: 7.0%\n",
      "Original: $21750\tPredicted: $38057.0\tError: -75.0%\n",
      "Original: $19905\tPredicted: $21957.0\tError: -10.0%\n",
      "Original: $18250\tPredicted: $23507.0\tError: -29.0%\n",
      "Original: $28250\tPredicted: $26624.0\tError: 6.0%\n",
      "Original: $28000\tPredicted: $26816.0\tError: 4.0%\n",
      "Original: $6500\tPredicted: $8760.0\tError: -35.0%\n",
      "Original: $12905\tPredicted: $11685.0\tError: 9.0%\n",
      "Original: $10000\tPredicted: $9958.0\tError: 0.0%\n",
      "Original: $17500\tPredicted: $17369.0\tError: 1.0%\n",
      "Original: $21500\tPredicted: $29624.0\tError: -38.0%\n",
      "Original: $11500\tPredicted: $8528.0\tError: 26.0%\n",
      "Original: $32000\tPredicted: $37385.0\tError: -17.0%\n",
      "Original: $37000\tPredicted: $36766.0\tError: 1.0%\n",
      "Original: $29750\tPredicted: $30856.0\tError: -4.0%\n",
      "Original: $24500\tPredicted: $23006.0\tError: 6.0%\n",
      "Original: $40995\tPredicted: $34516.0\tError: 16.0%\n",
      "Original: $8000\tPredicted: $9155.0\tError: -14.0%\n",
      "Original: $21495\tPredicted: $23397.0\tError: -9.0%\n",
      "Original: $23500\tPredicted: $27707.0\tError: -18.0%\n",
      "Original: $32250\tPredicted: $27081.0\tError: 16.0%\n",
      "Original: $38300\tPredicted: $40165.0\tError: -5.0%\n",
      "Original: $38000\tPredicted: $44738.0\tError: -18.0%\n",
      "Original: $19995\tPredicted: $22304.0\tError: -12.0%\n",
      "Original: $31000\tPredicted: $28498.0\tError: 8.0%\n",
      "Original: $8500\tPredicted: $12169.0\tError: -43.0%\n",
      "Original: $16000\tPredicted: $17508.0\tError: -9.0%\n",
      "Original: $24500\tPredicted: $23399.0\tError: 4.0%\n",
      "Original: $27000\tPredicted: $28765.0\tError: -7.0%\n",
      "Original: $40000\tPredicted: $36955.0\tError: 8.0%\n",
      "Original: $35400\tPredicted: $34009.0\tError: 4.0%\n",
      "Original: $32331\tPredicted: $28290.0\tError: 12.0%\n",
      "Original: $30580\tPredicted: $32303.0\tError: -6.0%\n",
      "Original: $23500\tPredicted: $23931.0\tError: -2.0%\n",
      "Original: $9800\tPredicted: $14052.0\tError: -43.0%\n",
      "Original: $26405\tPredicted: $22108.0\tError: 16.0%\n",
      "Original: $12000\tPredicted: $12424.0\tError: -4.0%\n",
      "Original: $25250\tPredicted: $25072.0\tError: 1.0%\n",
      "Original: $24500\tPredicted: $22464.0\tError: 8.0%\n",
      "Original: $30000\tPredicted: $28811.0\tError: 4.0%\n",
      "Original: $31000\tPredicted: $30271.0\tError: 2.0%\n",
      "Original: $16000\tPredicted: $16333.0\tError: -2.0%\n",
      "Original: $22455\tPredicted: $21888.0\tError: 3.0%\n",
      "Original: $29495\tPredicted: $29496.0\tError: -0.0%\n",
      "Original: $16995\tPredicted: $18692.0\tError: -10.0%\n",
      "Original: $17000\tPredicted: $17132.0\tError: -1.0%\n",
      "Original: $28026\tPredicted: $26653.0\tError: 5.0%\n",
      "None\n",
      "CPU times: user 5.76 s, sys: 7.16 ms, total: 5.76 s\n",
      "Wall time: 5.75 s\n"
     ]
    }
   ],
   "source": [
    "%%time\n",
    "\"\"\"\n",
    "    Holdout Validation Approach\n",
    "\"\"\"\n",
    "# Evaluate using a train and a test set\n",
    "X_train, X_test, y_train, y_test = train_test_split(X, y, test_size=0.50, random_state=1234)\n",
    "\n",
    "model_LGBMR.fit(X_train, y_train)\n",
    "result = model_LGBMR.score(X_test, y_test)\n",
    "MAE[\"LGBM_HVA\"] = mean_absolute_error(y_test, model_LGBMR.predict(X_test))\n",
    "MSE[\"LGBM_HVA\"] = mean_squared_error(y_test, model_LGBMR.predict(X_test))\n",
    "SCORE[\"LGBM_HVA\"] = model_LGBMR.score(X_test, y_test)\n",
    "y_new = model_LGBMR.predict(X_test)\n",
    "\n",
    "print(\"Holdout Validation Accuracy:\\t{}%\\n\".format(round(SCORE[\"LGBM_HVA\"]*100.0,2)))\n",
    "print(showPredVSActual(y_test, y_new, 100))"
   ]
  },
  {
   "cell_type": "code",
   "execution_count": 54,
   "metadata": {},
   "outputs": [
    {
     "name": "stdout",
     "output_type": "stream",
     "text": [
      "KFold-5 Accuracy: 89.63% (std: 0.33%)\n",
      "CPU times: user 12.6 s, sys: 979 µs, total: 12.6 s\n",
      "Wall time: 12.6 s\n"
     ]
    }
   ],
   "source": [
    "%%time\n",
    "\"\"\"\n",
    "    K-fold Cross-Validation\n",
    "\"\"\"\n",
    "kfold = KFold(n_splits=5, random_state=1234)\n",
    "kfresult = cross_val_score(model_LGBMR, X, y, cv=kfold)\n",
    "SCORE[\"LGBM_kf5\"] = np.mean(kfresult)\n",
    "print(\"KFold-5 Accuracy: {}% (std: {}%)\".format(round(np.mean(kfresult)*100.0,2), round(np.std(kfresult)*100.0,2)))"
   ]
  },
  {
   "cell_type": "code",
   "execution_count": 55,
   "metadata": {},
   "outputs": [
    {
     "name": "stdout",
     "output_type": "stream",
     "text": [
      "Shuffle Split Accuracy: 88.57% (std: 0.2%)\n",
      "CPU times: user 24.3 s, sys: 7.11 ms, total: 24.3 s\n",
      "Wall time: 24.3 s\n"
     ]
    }
   ],
   "source": [
    "%%time\n",
    "\"\"\"\n",
    "    Repeated Random Test-Train Splits\n",
    "\"\"\"\n",
    "kfold2 = ShuffleSplit(n_splits=10, test_size=0.50, random_state=1234)\n",
    "ssresult = cross_val_score(model_LGBMR, X, y, cv=kfold2)\n",
    "SCORE[\"LGBM_SS\"] = np.mean(ssresult)\n",
    "print(\"Shuffle Split Accuracy: {}% (std: {}%)\".format(round(np.mean(ssresult)*100.0,2), round(np.std(ssresult)*100.0,2)))"
   ]
  },
  {
   "cell_type": "code",
   "execution_count": 56,
   "metadata": {},
   "outputs": [
    {
     "data": {
      "image/png": "[encoded data removed]",
      "text/plain": [
       "<Figure size 1152x720 with 1 Axes>"
      ]
     },
     "metadata": {
      "needs_background": "light"
     },
     "output_type": "display_data"
    }
   ],
   "source": [
    "x_ax = range(len(y_test))\n",
    "plt.figure(figsize=(16,10))\n",
    "plt.scatter(x_ax, y_test, s=5, color=\"blue\", label=\"original\")\n",
    "plt.plot(x_ax, model_LGBMR.predict(X_test), lw=0.8, color=\"red\", label=\"predicted\",)\n",
    "plt.legend()\n",
    "plt.show()"
   ]
  },
  {
   "cell_type": "code",
   "execution_count": 63,
   "metadata": {},
   "outputs": [
    {
     "data": {
      "image/png": "[encoded data removed]",
      "text/plain": [
       "<Figure size 1152x720 with 1 Axes>"
      ]
     },
     "metadata": {
      "needs_background": "light"
     },
     "output_type": "display_data"
    }
   ],
   "source": [
    "y_pred = cross_val_predict(model_LGBMR, X_test, y_test,cv=5)\n",
    "\n",
    "fig, ax = plt.subplots(figsize=(16,10))\n",
    "plt.gca().set_title('LightGBM Predicted vs. Actual')\n",
    "ax.scatter(y_test, y_pred)\n",
    "ax.plot([y_test.min(), y_test.max()], [y_test.min(), y_test.max()], 'k--', lw=4)\n",
    "ax.set_xlabel('Measured')\n",
    "ax.set_ylabel('Predicted')\n",
    "plt.show()"
   ]
  },
  {
   "cell_type": "code",
   "execution_count": 64,
   "metadata": {},
   "outputs": [
    {
     "data": {
      "text/plain": [
       "Text(0, 0.5, 'Frequency')"
      ]
     },
     "execution_count": 64,
     "metadata": {},
     "output_type": "execute_result"
    },
    {
     "data": {
      "image/png": "[encoded data removed]",
      "text/plain": [
       "<Figure size 1152x360 with 1 Axes>"
      ]
     },
     "metadata": {
      "needs_background": "light"
     },
     "output_type": "display_data"
    }
   ],
   "source": [
    "#diff = y_test - y_pred\n",
    "diff = (y_test-y_pred)/y_test*100\n",
    "\n",
    "plt.figure(figsize=(16,5))\n",
    "plt.hist(diff, bins = 'auto')\n",
    "plt.title('Histogram of Prediction errors')\n",
    "plt.xlabel('Proceeds Prediction Percentage Error- (Closer to 0 is better)')\n",
    "plt.ylabel('Frequency')"
   ]
  },
  {
   "cell_type": "code",
   "execution_count": 58,
   "metadata": {},
   "outputs": [
    {
     "data": {
      "text/plain": [
       "{'XGBoost_HVA': 2425.3865534799957,\n",
       " 'HGBR_HVA': 2727.336133865237,\n",
       " 'LGBM_HVA': 2401.2117324698847}"
      ]
     },
     "execution_count": 58,
     "metadata": {},
     "output_type": "execute_result"
    }
   ],
   "source": [
    "MAE"
   ]
  },
  {
   "cell_type": "code",
   "execution_count": 59,
   "metadata": {},
   "outputs": [
    {
     "data": {
      "text/plain": [
       "{'XGBoost_HVA': 11694859.592310404,\n",
       " 'HGBR_HVA': 14020826.194578191,\n",
       " 'LGBM_HVA': 11492135.91695167}"
      ]
     },
     "execution_count": 59,
     "metadata": {},
     "output_type": "execute_result"
    }
   ],
   "source": [
    "MSE"
   ]
  },
  {
   "cell_type": "code",
   "execution_count": 60,
   "metadata": {},
   "outputs": [
    {
     "data": {
      "text/plain": [
       "{'XGBoost_HVA': 0.8826167836012225,\n",
       " 'XGBoost_kf5': 0.8919168108181929,\n",
       " 'XGBoost_SS': 0.8830291721146079,\n",
       " 'HGBR_HVA': 0.8592706768048783,\n",
       " 'HGBR_kf5': 0.864878435276245,\n",
       " 'HGBR_SS': 0.8598064844715166,\n",
       " 'LGBM_HVA': 0.8846515542511786,\n",
       " 'LGBM_kf5': 0.8962692589915886,\n",
       " 'LGBM_SS': 0.8856812929992313}"
      ]
     },
     "execution_count": 60,
     "metadata": {},
     "output_type": "execute_result"
    }
   ],
   "source": [
    "SCORE"
   ]
  },
  {
   "cell_type": "markdown",
   "metadata": {},
   "source": [
    "# Part 2:\n",
    "<hr />\n",
    "<b>Part 2: Validate Model performance with different data samples</b>\n",
    "\n",
    "For this section, we create different Validation Data Sets to see how well the model performs given different data conditions.\n",
    "\n",
    "<b>This test includes:</b>\n",
    "\n",
    "Seasonality: Running the model against a specific 12 month year\n",
    "\n",
    "Outlier Performance: How well the model performs when we have a significant amount of outliers (Large Variance in data)\n",
    "\n",
    "Change in Categorical Variable balance: When certain categorial values change (such as Manufacturer), how well does the model predict against that change."
   ]
  },
  {
   "cell_type": "code",
   "execution_count": 21,
   "metadata": {},
   "outputs": [],
   "source": [
    "def coor_by_feature (feature,df_mr):\n",
    "    col_names = df_mr.corr().columns.values\n",
    "    for col, row in (df_mr.corr().abs() > 0.5).iteritems():\n",
    "        if (col == feature) :\n",
    "            print(\"*****\\n{} \\n CORR FEATURE(S): {}\".format(col, col_names[row.values]))\n",
    "            return"
   ]
  },
  {
   "cell_type": "code",
   "execution_count": 22,
   "metadata": {},
   "outputs": [],
   "source": [
    "#Helper Functions\n",
    "\n",
    "def change_value_year(df,start,end,change,col):\n",
    "    condition = (df.sale_date_num >= start) & (df.sale_date_num < end)\n",
    "#    condition = (df.sale_date_num >= start) & (df.sale_date_num < end)\n",
    "    df.loc[condition, col] = df.loc[condition, col] * change\n",
    "    return df\n",
    "\n",
    "def holdout_year(df,start,end):\n",
    "    condition = (df.sale_date_num>=start) & (df.sale_date_num<end)\n",
    "    df_year_held = df.loc[condition]\n",
    "    df_remaining = df.loc[~condition]    \n",
    "    return df_year_held, df_remaining \n",
    "\n"
   ]
  },
  {
   "cell_type": "markdown",
   "metadata": {},
   "source": [
    "### 2. Seasonality Validation Data Split:\n",
    "\n",
    "1. Split Data by year\n",
    "2. Plot each year to see the variance in data\n",
    "3. Pick two years as hold out (for validation) that have the most variance\n",
    "4. Save as validation data frames for use later"
   ]
  },
  {
   "cell_type": "markdown",
   "metadata": {},
   "source": [
    "### Check the distribution of the sale_date_num"
   ]
  },
  {
   "cell_type": "code",
   "execution_count": 23,
   "metadata": {},
   "outputs": [
    {
     "data": {
      "image/png": "[encoded data removed]",
      "text/plain": [
       "<Figure size 1152x576 with 1 Axes>"
      ]
     },
     "metadata": {
      "needs_background": "light"
     },
     "output_type": "display_data"
    }
   ],
   "source": [
    "plt.scatter(df.sale_date_num,y)\n",
    "plt.title('Seasonality of Proceeds Sale Date')\n",
    "plt.gcf().set_size_inches((16, 8))    \n",
    "plt.show()"
   ]
  },
  {
   "cell_type": "markdown",
   "metadata": {},
   "source": [
    "**Note:**\n",
    "\n",
    "Based on the above graph, we will stick to 2014 > data for validation in Part 2"
   ]
  },
  {
   "cell_type": "markdown",
   "metadata": {},
   "source": [
    "<h2> Seasonality: model one year of data  "
   ]
  },
  {
   "cell_type": "code",
   "execution_count": 24,
   "metadata": {},
   "outputs": [],
   "source": [
    "df_one_year, df_remain = holdout_year (df, 201601,201701)\n",
    "df_one_year_Y  = np.array(df_one_year['proceeds'])\n",
    "cols = df_one_year.columns[df_one_year.columns != 'proceeds']\n",
    "df_one_year_X  = df_one_year[cols]\n"
   ]
  },
  {
   "cell_type": "markdown",
   "metadata": {},
   "source": [
    "<h2> XGBOOST\n"
   ]
  },
  {
   "cell_type": "code",
   "execution_count": 25,
   "metadata": {},
   "outputs": [
    {
     "name": "stdout",
     "output_type": "stream",
     "text": [
      "Model 1 Year Validation Accuracy:\t79.7%\n",
      "\n",
      "Original: $25500\tPredicted: $23743.0\tError: 7.0%\n",
      "Original: $20000\tPredicted: $21231.0\tError: -6.0%\n",
      "Original: $25905\tPredicted: $23996.0\tError: 7.0%\n",
      "Original: $50622\tPredicted: $42661.0\tError: 16.0%\n",
      "Original: $32000\tPredicted: $27980.0\tError: 13.0%\n",
      "Original: $16500\tPredicted: $26373.0\tError: -60.0%\n",
      "Original: $28000\tPredicted: $27789.0\tError: 1.0%\n",
      "Original: $12005\tPredicted: $11979.0\tError: 0.0%\n",
      "Original: $29000\tPredicted: $24407.0\tError: 16.0%\n",
      "Original: $37000\tPredicted: $37179.0\tError: -0.0%\n",
      "None\n"
     ]
    }
   ],
   "source": [
    "# Evaluate using a train and a test set\n",
    "\n",
    "X_train, X_test, y_train, y_test = train_test_split(df_one_year_X, df_one_year_Y, test_size=0.50, random_state=1234)\n",
    "\n",
    "model_XGB.fit(X_train, y_train)\n",
    "result = model_XGB.score(X_test, y_test)\n",
    "MAE[\"XGBoost_HVA\"] = mean_absolute_error(y_test, model_XGB.predict(X_test))\n",
    "MSE[\"XGBoost_HVA\"] = mean_squared_error(y_test, model_XGB.predict(X_test))\n",
    "SCORE[\"XGBoost_HVA\"] = model_XGB.score(X_test, y_test)\n",
    "y_new = model_XGB.predict(X_test)\n",
    "\n",
    "print(\"Model 1 Year Validation Accuracy:\\t{}%\\n\".format(round(SCORE[\"XGBoost_HVA\"]*100.0,2)))\n",
    "\n",
    "print(showPredVSActual(y_test, y_new, 10))"
   ]
  },
  {
   "cell_type": "markdown",
   "metadata": {},
   "source": [
    "<h2> Hist. Gradient Boosted Regression Validation"
   ]
  },
  {
   "cell_type": "code",
   "execution_count": 26,
   "metadata": {},
   "outputs": [
    {
     "name": "stdout",
     "output_type": "stream",
     "text": [
      "Model 1 year Validation Accuracy:\t78.9%\n",
      "\n",
      "Original: $25500\tPredicted: $22898.0\tError: 10.0%\n",
      "Original: $20000\tPredicted: $20719.0\tError: -4.0%\n",
      "Original: $25905\tPredicted: $23991.0\tError: 7.0%\n",
      "Original: $50622\tPredicted: $41493.0\tError: 18.0%\n",
      "Original: $32000\tPredicted: $28852.0\tError: 10.0%\n",
      "Original: $16500\tPredicted: $28044.0\tError: -70.0%\n",
      "Original: $28000\tPredicted: $29653.0\tError: -6.0%\n",
      "Original: $12005\tPredicted: $13338.0\tError: -11.0%\n",
      "Original: $29000\tPredicted: $26214.0\tError: 10.0%\n",
      "Original: $37000\tPredicted: $39049.0\tError: -6.0%\n",
      "None\n"
     ]
    }
   ],
   "source": [
    "X_train, X_test, y_train, y_test = train_test_split(df_one_year_X, df_one_year_Y, test_size=0.50, random_state=1234)\n",
    "\n",
    "model_HGBR.fit(X_train, y_train)\n",
    "result = model_HGBR.score(X_test, y_test)\n",
    "MAE[\"HGBR_HVA\"] = mean_absolute_error(y_test, model_HGBR.predict(X_test))\n",
    "MSE[\"HGBR_HVA\"] = mean_squared_error(y_test, model_HGBR.predict(X_test))\n",
    "SCORE[\"HGBR_HVA\"] = model_HGBR.score(X_test, y_test)\n",
    "y_new = model_HGBR.predict(X_test)\n",
    "\n",
    "print(\"Model 1 year Validation Accuracy:\\t{}%\\n\".format(round(SCORE[\"HGBR_HVA\"]*100.0,2)))\n",
    "print(showPredVSActual(y_test, y_new, 10))"
   ]
  },
  {
   "cell_type": "markdown",
   "metadata": {},
   "source": [
    "<h2> Light GBM Validation"
   ]
  },
  {
   "cell_type": "code",
   "execution_count": 27,
   "metadata": {},
   "outputs": [
    {
     "name": "stdout",
     "output_type": "stream",
     "text": [
      "Model 1 year Validation Accuracy:\t80.15%\n",
      "\n",
      "Original: $25500\tPredicted: $24361.0\tError: 4.0%\n",
      "Original: $20000\tPredicted: $18434.0\tError: 8.0%\n",
      "Original: $25905\tPredicted: $23063.0\tError: 11.0%\n",
      "Original: $50622\tPredicted: $40545.0\tError: 20.0%\n",
      "Original: $32000\tPredicted: $28261.0\tError: 12.0%\n",
      "Original: $16500\tPredicted: $27521.0\tError: -67.0%\n",
      "Original: $28000\tPredicted: $26728.0\tError: 5.0%\n",
      "Original: $12005\tPredicted: $13244.0\tError: -10.0%\n",
      "Original: $29000\tPredicted: $26528.0\tError: 9.0%\n",
      "Original: $37000\tPredicted: $38123.0\tError: -3.0%\n",
      "None\n"
     ]
    }
   ],
   "source": [
    "X_train, X_test, y_train, y_test = train_test_split(df_one_year_X, df_one_year_Y, test_size=0.50, random_state=1234)\n",
    "\n",
    "model_LGBMR.fit(X_train, y_train)\n",
    "result = model_LGBMR.score(X_test, y_test)\n",
    "MAE[\"LGBM_HVA\"] = mean_absolute_error(y_test, model_LGBMR.predict(X_test))\n",
    "MSE[\"LGBM_HVA\"] = mean_squared_error(y_test, model_LGBMR.predict(X_test))\n",
    "SCORE[\"LGBM_HVA\"] = model_LGBMR.score(X_test, y_test)\n",
    "y_new = model_LGBMR.predict(X_test)\n",
    "\n",
    "print(\"Model 1 year Validation Accuracy:\\t{}%\\n\".format(round(SCORE[\"LGBM_HVA\"]*100.0,2)))\n",
    "print(showPredVSActual(y_test, y_new, 10))"
   ]
  },
  {
   "cell_type": "code",
   "execution_count": null,
   "metadata": {},
   "outputs": [],
   "source": [
    "\n"
   ]
  },
  {
   "cell_type": "code",
   "execution_count": null,
   "metadata": {},
   "outputs": [],
   "source": []
  }
 ],
 "metadata": {
  "kernelspec": {
   "display_name": "Python 3",
   "language": "python",
   "name": "python3"
  },
  "language_info": {
   "codemirror_mode": {
    "name": "ipython",
    "version": 3
   },
   "file_extension": ".py",
   "mimetype": "text/x-python",
   "name": "python",
   "nbconvert_exporter": "python",
   "pygments_lexer": "ipython3",
   "version": "3.7.3"
  }
 },
 "nbformat": 4,
 "nbformat_minor": 2
}
