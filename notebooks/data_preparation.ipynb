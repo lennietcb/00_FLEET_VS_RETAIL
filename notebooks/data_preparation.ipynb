{
 "cells": [
  {
   "cell_type": "code",
   "execution_count": 1,
   "metadata": {},
   "outputs": [
    {
     "ename": "ModuleNotFoundError",
     "evalue": "No module named 'scipy'",
     "output_type": "error",
     "traceback": [
      "\u001b[1;31m---------------------------------------------------------------------------\u001b[0m",
      "\u001b[1;31mModuleNotFoundError\u001b[0m                       Traceback (most recent call last)",
      "\u001b[1;32m<ipython-input-1-2745754de85e>\u001b[0m in \u001b[0;36m<module>\u001b[1;34m\u001b[0m\n\u001b[0;32m      1\u001b[0m \u001b[1;32mimport\u001b[0m \u001b[0mnumpy\u001b[0m \u001b[1;32mas\u001b[0m \u001b[0mnp\u001b[0m\u001b[1;33m\u001b[0m\u001b[1;33m\u001b[0m\u001b[0m\n\u001b[0;32m      2\u001b[0m \u001b[1;32mimport\u001b[0m \u001b[0mpandas\u001b[0m \u001b[1;32mas\u001b[0m \u001b[0mpd\u001b[0m\u001b[1;33m\u001b[0m\u001b[1;33m\u001b[0m\u001b[0m\n\u001b[1;32m----> 3\u001b[1;33m \u001b[1;32mfrom\u001b[0m \u001b[0mscipy\u001b[0m\u001b[1;33m.\u001b[0m\u001b[0moptimize\u001b[0m \u001b[1;32mimport\u001b[0m \u001b[0mfsolve\u001b[0m\u001b[1;33m\u001b[0m\u001b[1;33m\u001b[0m\u001b[0m\n\u001b[0m\u001b[0;32m      4\u001b[0m \u001b[1;32mimport\u001b[0m \u001b[0msklearn\u001b[0m\u001b[1;33m\u001b[0m\u001b[1;33m\u001b[0m\u001b[0m\n\u001b[0;32m      5\u001b[0m \u001b[1;32mimport\u001b[0m \u001b[0mpickle\u001b[0m\u001b[1;33m\u001b[0m\u001b[1;33m\u001b[0m\u001b[0m\n",
      "\u001b[1;31mModuleNotFoundError\u001b[0m: No module named 'scipy'"
     ]
    }
   ],
   "source": [
    "import numpy as np\n",
    "import pandas as pd\n",
    "from scipy.optimize import fsolve\n",
    "import sklearn\n",
    "import pickle\n",
    "from scipy import stats\n",
    "import matplotlib.pyplot as plt\n",
    "import seaborn as sns\n",
    "from imblearn.over_sampling import SMOTE\n",
    "from sklearn.model_selection import train_test_split"
   ]
  },
  {
   "cell_type": "code",
   "execution_count": 3,
   "metadata": {},
   "outputs": [
    {
     "name": "stdout",
     "output_type": "stream",
     "text": [
      "Shape of dataset (51021, 14)\n"
     ]
    }
   ],
   "source": [
    "#Load Data\n",
    "import pandas as pd\n",
    "\n",
    "dataset = pd.read_csv('../archive/uvs_report.csv', sep=',', error_bad_lines=False, low_memory=False)\n",
    "print(\"Shape of dataset\", dataset.shape)"
   ]
  },
  {
   "cell_type": "code",
   "execution_count": 4,
   "metadata": {},
   "outputs": [
    {
     "data": {
      "text/html": [
       "<div>\n",
       "<style scoped>\n",
       "    .dataframe tbody tr th:only-of-type {\n",
       "        vertical-align: middle;\n",
       "    }\n",
       "\n",
       "    .dataframe tbody tr th {\n",
       "        vertical-align: top;\n",
       "    }\n",
       "\n",
       "    .dataframe thead th {\n",
       "        text-align: right;\n",
       "    }\n",
       "</style>\n",
       "<table border=\"1\" class=\"dataframe\">\n",
       "  <thead>\n",
       "    <tr style=\"text-align: right;\">\n",
       "      <th></th>\n",
       "      <th>vehicle_grp</th>\n",
       "      <th>class</th>\n",
       "      <th>age_acpt</th>\n",
       "      <th>proceeds</th>\n",
       "      <th>age_sale</th>\n",
       "      <th>age_sale_grp</th>\n",
       "      <th>cond_code</th>\n",
       "      <th>days_on_lot</th>\n",
       "      <th>Ask</th>\n",
       "      <th>Take</th>\n",
       "      <th>Proceed_Over_Ask</th>\n",
       "      <th>Proceed_Over_Take</th>\n",
       "      <th>LOCATION_CODE__c</th>\n",
       "      <th>y</th>\n",
       "    </tr>\n",
       "  </thead>\n",
       "  <tbody>\n",
       "    <tr>\n",
       "      <th>0</th>\n",
       "      <td>TRUCK</td>\n",
       "      <td>60</td>\n",
       "      <td>76</td>\n",
       "      <td>7700</td>\n",
       "      <td>91</td>\n",
       "      <td>091 - 096</td>\n",
       "      <td>10</td>\n",
       "      <td>465</td>\n",
       "      <td>30059</td>\n",
       "      <td>27059</td>\n",
       "      <td>0.256163</td>\n",
       "      <td>0.284563</td>\n",
       "      <td>2785</td>\n",
       "      <td>1</td>\n",
       "    </tr>\n",
       "    <tr>\n",
       "      <th>1</th>\n",
       "      <td>TRAILER</td>\n",
       "      <td>200</td>\n",
       "      <td>125</td>\n",
       "      <td>13500</td>\n",
       "      <td>125</td>\n",
       "      <td>121 - 126</td>\n",
       "      <td>50</td>\n",
       "      <td>0</td>\n",
       "      <td>13537</td>\n",
       "      <td>12537</td>\n",
       "      <td>0.997267</td>\n",
       "      <td>1.076813</td>\n",
       "      <td>3280</td>\n",
       "      <td>0</td>\n",
       "    </tr>\n",
       "    <tr>\n",
       "      <th>2</th>\n",
       "      <td>TRUCK</td>\n",
       "      <td>50</td>\n",
       "      <td>70</td>\n",
       "      <td>18905</td>\n",
       "      <td>73</td>\n",
       "      <td>073 - 078</td>\n",
       "      <td>10</td>\n",
       "      <td>92</td>\n",
       "      <td>28147</td>\n",
       "      <td>25147</td>\n",
       "      <td>0.671652</td>\n",
       "      <td>0.751780</td>\n",
       "      <td>2756</td>\n",
       "      <td>0</td>\n",
       "    </tr>\n",
       "    <tr>\n",
       "      <th>3</th>\n",
       "      <td>TRUCK</td>\n",
       "      <td>10</td>\n",
       "      <td>92</td>\n",
       "      <td>1000</td>\n",
       "      <td>92</td>\n",
       "      <td>091 - 096</td>\n",
       "      <td>30</td>\n",
       "      <td>7</td>\n",
       "      <td>10961</td>\n",
       "      <td>8961</td>\n",
       "      <td>0.091233</td>\n",
       "      <td>0.111595</td>\n",
       "      <td>2686</td>\n",
       "      <td>0</td>\n",
       "    </tr>\n",
       "    <tr>\n",
       "      <th>4</th>\n",
       "      <td>TRACTOR</td>\n",
       "      <td>140</td>\n",
       "      <td>87</td>\n",
       "      <td>24495</td>\n",
       "      <td>95</td>\n",
       "      <td>091 - 096</td>\n",
       "      <td>10</td>\n",
       "      <td>244</td>\n",
       "      <td>36551</td>\n",
       "      <td>33551</td>\n",
       "      <td>0.670160</td>\n",
       "      <td>0.730083</td>\n",
       "      <td>3403</td>\n",
       "      <td>0</td>\n",
       "    </tr>\n",
       "  </tbody>\n",
       "</table>\n",
       "</div>"
      ],
      "text/plain": [
       "  vehicle_grp  class  age_acpt  proceeds  age_sale age_sale_grp  cond_code  \\\n",
       "0       TRUCK     60        76      7700        91    091 - 096         10   \n",
       "1     TRAILER    200       125     13500       125    121 - 126         50   \n",
       "2       TRUCK     50        70     18905        73    073 - 078         10   \n",
       "3       TRUCK     10        92      1000        92    091 - 096         30   \n",
       "4     TRACTOR    140        87     24495        95    091 - 096         10   \n",
       "\n",
       "   days_on_lot    Ask   Take  Proceed_Over_Ask  Proceed_Over_Take  \\\n",
       "0          465  30059  27059          0.256163           0.284563   \n",
       "1            0  13537  12537          0.997267           1.076813   \n",
       "2           92  28147  25147          0.671652           0.751780   \n",
       "3            7  10961   8961          0.091233           0.111595   \n",
       "4          244  36551  33551          0.670160           0.730083   \n",
       "\n",
       "   LOCATION_CODE__c  y  \n",
       "0              2785  1  \n",
       "1              3280  0  \n",
       "2              2756  0  \n",
       "3              2686  0  \n",
       "4              3403  0  "
      ]
     },
     "execution_count": 4,
     "metadata": {},
     "output_type": "execute_result"
    }
   ],
   "source": [
    "dataset.head()"
   ]
  },
  {
   "cell_type": "code",
   "execution_count": 5,
   "metadata": {},
   "outputs": [
    {
     "ename": "NameError",
     "evalue": "name 'sns' is not defined",
     "output_type": "error",
     "traceback": [
      "\u001b[1;31m---------------------------------------------------------------------------\u001b[0m",
      "\u001b[1;31mNameError\u001b[0m                                 Traceback (most recent call last)",
      "\u001b[1;32m<ipython-input-5-5bdfe0847e27>\u001b[0m in \u001b[0;36m<module>\u001b[1;34m\u001b[0m\n\u001b[1;32m----> 1\u001b[1;33m \u001b[0mpt\u001b[0m\u001b[1;33m=\u001b[0m \u001b[0msns\u001b[0m\u001b[1;33m.\u001b[0m\u001b[0mcountplot\u001b[0m\u001b[1;33m(\u001b[0m\u001b[0mx\u001b[0m\u001b[1;33m=\u001b[0m\u001b[1;34m'y'\u001b[0m\u001b[1;33m,\u001b[0m \u001b[0mdata\u001b[0m\u001b[1;33m=\u001b[0m\u001b[0mdataset\u001b[0m\u001b[1;33m,\u001b[0m \u001b[0mpalette\u001b[0m\u001b[1;33m=\u001b[0m\u001b[1;34m'hls'\u001b[0m\u001b[1;33m)\u001b[0m\u001b[1;33m\u001b[0m\u001b[1;33m\u001b[0m\u001b[0m\n\u001b[0m\u001b[0;32m      2\u001b[0m \u001b[0mplt\u001b[0m\u001b[1;33m.\u001b[0m\u001b[0mshow\u001b[0m\u001b[1;33m(\u001b[0m\u001b[1;33m)\u001b[0m\u001b[1;33m\u001b[0m\u001b[1;33m\u001b[0m\u001b[0m\n\u001b[0;32m      3\u001b[0m \u001b[0mplt\u001b[0m\u001b[1;33m.\u001b[0m\u001b[0msavefig\u001b[0m\u001b[1;33m(\u001b[0m\u001b[1;34m'count_plot'\u001b[0m\u001b[1;33m)\u001b[0m\u001b[1;33m\u001b[0m\u001b[1;33m\u001b[0m\u001b[0m\n",
      "\u001b[1;31mNameError\u001b[0m: name 'sns' is not defined"
     ]
    }
   ],
   "source": [
    "import seaborn as sn\n",
    "\n",
    "pt= sns.countplot(x='y', data=dataset, palette='hls')\n",
    "plt.show()\n",
    "plt.savefig('count_plot')"
   ]
  },
  {
   "cell_type": "code",
   "execution_count": null,
   "metadata": {},
   "outputs": [],
   "source": []
  }
 ],
 "metadata": {
  "kernelspec": {
   "display_name": "Python 3",
   "language": "python",
   "name": "python3"
  },
  "language_info": {
   "codemirror_mode": {
    "name": "ipython",
    "version": 3
   },
   "file_extension": ".py",
   "mimetype": "text/x-python",
   "name": "python",
   "nbconvert_exporter": "python",
   "pygments_lexer": "ipython3",
   "version": "3.8.3"
  }
 },
 "nbformat": 4,
 "nbformat_minor": 4
}